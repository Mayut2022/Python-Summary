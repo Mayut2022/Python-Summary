{
 "cells": [
  {
   "cell_type": "markdown",
   "id": "223256a6",
   "metadata": {},
   "source": [
    "# 将序列化为DataFrame序列实现超前滞后相关回归\n",
    "> df['x']=df['x'].shift(2)  代表将整个时间序列向后移2"
   ]
  },
  {
   "cell_type": "code",
   "execution_count": 1,
   "id": "91630d4b",
   "metadata": {
    "ExecuteTime": {
     "end_time": "2023-11-07T12:57:19.802446Z",
     "start_time": "2023-11-07T12:57:19.085857Z"
    }
   },
   "outputs": [],
   "source": [
    "import pandas as pd\n",
    "from scipy.stats import linregress"
   ]
  },
  {
   "cell_type": "code",
   "execution_count": 4,
   "id": "050c5c6e",
   "metadata": {
    "ExecuteTime": {
     "end_time": "2023-11-07T12:58:42.707858Z",
     "start_time": "2023-11-07T12:58:42.688863Z"
    },
    "collapsed": true
   },
   "outputs": [
    {
     "data": {
      "text/plain": [
       "0    2.0\n",
       "1    3.0\n",
       "2    4.0\n",
       "3    NaN\n",
       "4    NaN\n",
       "dtype: float64"
      ]
     },
     "execution_count": 4,
     "metadata": {},
     "output_type": "execute_result"
    },
    {
     "name": "stdout",
     "output_type": "stream",
     "text": [
      "超前2步的相关性: 1.0\n"
     ]
    }
   ],
   "source": [
    "# 创建两个示例数组\n",
    "array1 = [1, 2, 3, 4, 5]\n",
    "array2 = [0, 1, 2, 3, 4]\n",
    "\n",
    "# 将数组转换为 Pandas Series\n",
    "series1 = pd.Series(array1)\n",
    "series2 = pd.Series(array2)\n",
    "\n",
    "# 计算超前滞后相关性\n",
    "lag = 2  # 滞后的时间步数\n",
    "series2.shift(-lag)\n",
    "correlation = series1.corr(series2.shift(-lag))\n",
    "\n",
    "print(f\"超前{lag}步的相关性: {correlation}\")"
   ]
  },
  {
   "cell_type": "code",
   "execution_count": 5,
   "id": "0c145472",
   "metadata": {
    "ExecuteTime": {
     "end_time": "2023-11-07T12:59:30.291711Z",
     "start_time": "2023-11-07T12:59:30.249757Z"
    }
   },
   "outputs": [
    {
     "name": "stdout",
     "output_type": "stream",
     "text": [
      "y=1.0X+5.0 \n"
     ]
    }
   ],
   "source": [
    "# 创建一个示例的时间序列数据\n",
    "data = {'y': [10, 15, 20, 25, 30, 35]}\n",
    "df = pd.DataFrame(data)\n",
    "\n",
    "# 指定滞后的时间步数\n",
    "lag = 1\n",
    "\n",
    "# 添加滞后的自变量\n",
    "df['y_lag1'] = df['y'].shift(lag)\n",
    "\n",
    "# 移除包含缺失值的行\n",
    "df = df.dropna()\n",
    "\n",
    "# 构建超前滞后一元回归模型\n",
    "X = df['y_lag1']\n",
    "y = df['y']\n",
    "\n",
    "s, inter, r, *_ = linregress(X, y)\n",
    "\n",
    "if inter>0:\n",
    "    print(f\"y={s:.1f}X+{inter:.1f} \")\n",
    "else:\n",
    "    print(f\"y={s:.1f}X{inter:.1f} \")"
   ]
  }
 ],
 "metadata": {
  "kernelspec": {
   "display_name": "Python 3 (ipykernel)",
   "language": "python",
   "name": "python3"
  },
  "language_info": {
   "codemirror_mode": {
    "name": "ipython",
    "version": 3
   },
   "file_extension": ".py",
   "mimetype": "text/x-python",
   "name": "python",
   "nbconvert_exporter": "python",
   "pygments_lexer": "ipython3",
   "version": "3.9.12"
  },
  "toc": {
   "base_numbering": 1,
   "nav_menu": {},
   "number_sections": true,
   "sideBar": true,
   "skip_h1_title": false,
   "title_cell": "Table of Contents",
   "title_sidebar": "Contents",
   "toc_cell": false,
   "toc_position": {},
   "toc_section_display": true,
   "toc_window_display": false
  },
  "varInspector": {
   "cols": {
    "lenName": 16,
    "lenType": 16,
    "lenVar": 40
   },
   "kernels_config": {
    "python": {
     "delete_cmd_postfix": "",
     "delete_cmd_prefix": "del ",
     "library": "var_list.py",
     "varRefreshCmd": "print(var_dic_list())"
    },
    "r": {
     "delete_cmd_postfix": ") ",
     "delete_cmd_prefix": "rm(",
     "library": "var_list.r",
     "varRefreshCmd": "cat(var_dic_list()) "
    }
   },
   "types_to_exclude": [
    "module",
    "function",
    "builtin_function_or_method",
    "instance",
    "_Feature"
   ],
   "window_display": false
  }
 },
 "nbformat": 4,
 "nbformat_minor": 5
}
