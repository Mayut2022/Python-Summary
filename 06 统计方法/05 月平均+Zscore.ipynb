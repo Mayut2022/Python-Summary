{
 "cells": [
  {
   "cell_type": "markdown",
   "id": "8de578de",
   "metadata": {},
   "source": [
    "# Zscore 数据标准化/归一化 GLEAM ET\n",
    "> [知乎详解](https://zhuanlan.zhihu.com/p/69074703)"
   ]
  },
  {
   "cell_type": "code",
   "execution_count": 1,
   "id": "73cbe818",
   "metadata": {
    "ExecuteTime": {
     "end_time": "2022-10-11T12:30:14.107084Z",
     "start_time": "2022-10-11T12:30:11.281479Z"
    }
   },
   "outputs": [],
   "source": [
    "import cftime\n",
    "import netCDF4 as nc\n",
    "import numpy as np\n",
    "from sklearn import preprocessing\n",
    "import xarray as xr\n",
    "\n",
    "import warnings\n",
    "warnings.filterwarnings(\"ignore\")"
   ]
  },
  {
   "cell_type": "code",
   "execution_count": null,
   "id": "aebc36fe",
   "metadata": {},
   "outputs": [],
   "source": [
    "# %%\n",
    "def read_nc():\n",
    "    global lat, lon, t, e, time\n",
    "    inpath = r'E:/Gleamv3.6a/v3.6a/North East Asia region1/region1_E_1980-2021_GLEAM_v3.6a_MO.nc.nc'\n",
    "    with nc.Dataset(inpath, mode='r') as f:\n",
    "        '''\n",
    "        print(f.variables.keys())\n",
    "        print(f.variables['time'])\n",
    "        print(f.variables['lat'])\n",
    "        print(f.variables['lon'])\n",
    "        print(f.variables['E'])\n",
    "        '''\n",
    "        time = (f.variables['time'][12:-12])  # 1982.1-2020.12\n",
    "        t = nc.num2date(time, 'days since 1980-01-31 00:00:00').data\n",
    "\n",
    "        e = (f.variables['E'][12:-12, :, :])\n",
    "        lat = (f.variables['lat'][:])\n",
    "        lon = (f.variables['lon'][:])"
   ]
  },
  {
   "cell_type": "markdown",
   "id": "8c0aa382",
   "metadata": {},
   "source": [
    "### 480 to 40年每月数据\n",
    "1. Fuc: e_month   将(480, 60, 140)按顺序存放的40年数据变为逐月数据，e_mn:(40, 60, 140);\n",
    "2. Fuc: e_month_reverse  将(40, 60, 140)的数据循环放入，得到data_z:(480, 60, 140);"
   ]
  },
  {
   "cell_type": "code",
   "execution_count": null,
   "id": "763b1e4b",
   "metadata": {},
   "outputs": [],
   "source": [
    "# %%\n",
    "def e_month(mn, data):\n",
    "    e_mn = []\n",
    "    ind = mn-1\n",
    "    for i in range(40):\n",
    "        # print(ind)\n",
    "        e_mn.append(data[ind, :, :])\n",
    "        ind += 12\n",
    "    e_mn = np.array(e_mn)\n",
    "    return e_mn\n",
    "\n",
    "\n",
    "def e_month_reverse(mn, data, data_z):\n",
    "    ind = mn-1\n",
    "\n",
    "    for i in range(40):\n",
    "        data_z[ind, :, :] = data[i, :, :]\n",
    "        ind += 12\n",
    "\n",
    "    return data_z"
   ]
  },
  {
   "cell_type": "markdown",
   "id": "eee62a43",
   "metadata": {},
   "source": [
    "### 各变量说明\n",
    "1. e_mn: (40, 60, 140) 循环得到40年每月数据；\n",
    "2. e_mn_ave: (60, 140)月平均；\n",
    "3. e_all: (12, 60, 140) 所有月份月平均；\n",
    "4. e_mn_z: (40, 60, 140) e_mn 的归一化值；\n",
    "5. data_z: (480, 60, 140) 原数据e的归一化；"
   ]
  },
  {
   "cell_type": "code",
   "execution_count": null,
   "id": "dca57324",
   "metadata": {},
   "outputs": [],
   "source": [
    "# %%\n",
    "read_nc()\n",
    "# %% 多年月平均\n",
    "e_all_mn = []\n",
    "for mn in range(1, 13):\n",
    "    e_mn = e_month(mn, e)\n",
    "    e_mn_ave = np.nanmean(e_mn, axis=0)\n",
    "    e_all_mn.append(e_mn_ave)\n",
    "e_all_mn = np.array(e_all_mn)\n",
    "# CreatNC(e_all_mn)"
   ]
  },
  {
   "cell_type": "code",
   "execution_count": null,
   "id": "628199cd",
   "metadata": {},
   "outputs": [],
   "source": [
    "# %% Z-Score值\n",
    "e_mn_z = np.zeros((40, 60, 140))\n",
    "data_z = np.zeros((480, 60, 140))\n",
    "for mn in range(1, 13):\n",
    "    e_mn = e_month(mn, e)\n",
    "    for r in range(60):\n",
    "        for c in range(140):\n",
    "            e_mn_z[:, r, c] = preprocessing.scale(e_mn[:, r, c])\n",
    "            data_z = e_month_reverse(mn, e_mn_z, data_z)"
   ]
  },
  {
   "cell_type": "markdown",
   "id": "4eed7d62",
   "metadata": {},
   "source": [
    "### CreatNC"
   ]
  },
  {
   "cell_type": "code",
   "execution_count": null,
   "id": "6852becc",
   "metadata": {},
   "outputs": [],
   "source": [
    "# %%\n",
    "def CreatNC(data):\n",
    "    new_NC = nc.Dataset(\n",
    "        rf\"E:/Gleamv3.6a/v3.6a/North East Asia region1/region1_E_month_ave.nc\",\n",
    "        'w', format='NETCDF4')\n",
    "\n",
    "    new_NC.createDimension('time', 12)\n",
    "    new_NC.createDimension('lat', len(lat))\n",
    "    new_NC.createDimension('lon', len(lon))\n",
    "\n",
    "    var = new_NC.createVariable('E', 'f', (\"time\", \"lat\", \"lon\"))\n",
    "    new_NC.createVariable('lat', 'f', (\"lat\"))\n",
    "    new_NC.createVariable('lon', 'f', (\"lon\"))\n",
    "\n",
    "    new_NC.variables['E'][:] = data\n",
    "    new_NC.variables['lat'][:] = lat\n",
    "    new_NC.variables['lon'][:] = lon\n",
    "\n",
    "    var.description = \"1981.1-2020.12 E (actual e) 每月实际蒸散发总和平均值 mm/month\"\n",
    "\n",
    "    new_NC.close()\n",
    "\n",
    "\n",
    "def CreatNC2(data):\n",
    "    new_NC = nc.Dataset(\n",
    "        rf\"E:/Gleamv3.6a/v3.6a/North East Asia region1/region1_E_month_Zscore.nc\",\n",
    "        'w', format='NETCDF4')\n",
    "\n",
    "    new_NC.createDimension('time', 480)\n",
    "    new_NC.createDimension('lat', len(lat))\n",
    "    new_NC.createDimension('lon', len(lon))\n",
    "\n",
    "    var = new_NC.createVariable('E', 'f', (\"time\", \"lat\", \"lon\"))\n",
    "    new_NC.createVariable('time', 'f', (\"time\"))\n",
    "    new_NC.createVariable('lat', 'f', (\"lat\"))\n",
    "    new_NC.createVariable('lon', 'f', (\"lon\"))\n",
    "\n",
    "    new_NC.variables['E'][:] = data\n",
    "    new_NC.variables['time'][:] = time\n",
    "    new_NC.variables['lat'][:] = lat\n",
    "    new_NC.variables['lon'][:] = lon\n",
    "\n",
    "    var.description = \"1981.1-2020.12 E (actual e) 每月实际蒸散发总和平均值 mm/month\"\n",
    "    var.time = \"days since 1980-01-31 00:00:00\"\n",
    "\n",
    "    new_NC.close()"
   ]
  },
  {
   "cell_type": "markdown",
   "id": "ed279bfc",
   "metadata": {},
   "source": [
    "# 原数据-> 月年 OR 季节年 OR 标准化值 OR 异常值 CRU TMP"
   ]
  },
  {
   "cell_type": "markdown",
   "id": "d018ac05",
   "metadata": {},
   "source": [
    "### 读取数据"
   ]
  },
  {
   "cell_type": "code",
   "execution_count": null,
   "id": "53e23466",
   "metadata": {},
   "outputs": [],
   "source": [
    "# -*- coding: utf-8 -*-\n",
    "\"\"\"\n",
    "Created on Thu Oct 20 11:40:34 2022\n",
    "\n",
    "@author: MaYutong\n",
    "\"\"\"\n",
    "\n",
    "import netCDF4 as nc\n",
    "import cftime\n",
    "import xarray as xr\n",
    "import numpy as np\n",
    "from sklearn import preprocessing\n",
    "\n",
    "import warnings\n",
    "warnings.filterwarnings(\"ignore\")\n",
    "\n",
    "def read_data_nc1(a, b):\n",
    "    global lat, lon\n",
    "    inpath = (f\"E:/CRU/TMP_DATA/cru_ts4.06.{a}.{b}.tmp.dat.nc\")\n",
    "    with nc.Dataset(inpath, mode='r') as f:\n",
    "        '''\n",
    "        print(f.variables.keys())\n",
    "        print(f.variables['pre'])\n",
    "        print(f.variables['time'])\n",
    "        '''\n",
    "        #print(f.variables['stn'])\n",
    "        \n",
    "        lat = (f.variables['lat'][:])\n",
    "        lon = (f.variables['lon'][:])\n",
    "        time = (f.variables['time'][:])\n",
    "        t = nc.num2date(time, 'days since 1900-01-01 00:00:0.0').data\n",
    "        tmp = (f.variables['tmp'][:])\n",
    "        \n",
    "        return time, tmp\n",
    "\n",
    "# %%\n",
    "def region1(data):\n",
    "    pre_rg1global = xr.DataArray(data, dims=['t', 'y', 'x'], coords=[\n",
    "                               time, lat, lon])  # 原tmp-base数据\n",
    "    pre_rg1 = pre_rg1global.loc[:, 40:55, 100:135]\n",
    "\n",
    "    return pre_rg1        \n",
    "\n",
    "#%%\n",
    "yr1 = [1981, 1991, 2001, 2011]\n",
    "yr2 = [1990, 2000, 2010, 2020]\n",
    "for a, b in zip(yr1, yr2):\n",
    "    t, _ = read_data_nc1(a, b)\n",
    "    if a==1981:\n",
    "        time, tmp = t, _\n",
    "    else:\n",
    "        time, tmp = np.hstack((time, t)), np.vstack((tmp, _))\n",
    "        \n",
    "\n",
    "#%%\n",
    "'''\n",
    "pre_rg1 = region1(pre)\n",
    "lat_rg1 = pre_rg1.y\n",
    "lon_rg1 = pre_rg1.x\n",
    "'''\n",
    "\n"
   ]
  },
  {
   "cell_type": "markdown",
   "id": "63802500",
   "metadata": {},
   "source": [
    "### 原始数据连接 -> (480, 360, 720)"
   ]
  },
  {
   "cell_type": "code",
   "execution_count": null,
   "id": "61b4006a",
   "metadata": {},
   "outputs": [],
   "source": [
    "#%%生成新的nc文件\n",
    "def CreatNC(data):\n",
    "    new_NC = nc.Dataset(r\"E:/CRU/TMP_DATA/TMP_CRU_ORIGINAL_81_20.nc\", 'w', format='NETCDF4')\n",
    "    \n",
    "    new_NC.createDimension('time', 480)\n",
    "    new_NC.createDimension('lat', 360)\n",
    "    new_NC.createDimension('lon', 720)\n",
    "    \n",
    "    var=new_NC.createVariable('tmp', 'f', (\"time\",\"lat\",\"lon\"))\n",
    "    new_NC.createVariable('time', 'f', (\"time\"))\n",
    "    new_NC.createVariable('lat', 'f', (\"lat\"))\n",
    "    new_NC.createVariable('lon', 'f', (\"lon\"))\n",
    "    \n",
    "    new_NC.variables['tmp'][:]=data\n",
    "    new_NC.variables['time'][:]=time\n",
    "    new_NC.variables['lat'][:]=lat\n",
    "    new_NC.variables['lon'][:]=lon\n",
    "        \n",
    "    \n",
    "    #var.lat_range=\"[40, 55], 30, 精度：0.5, 边界：[40.25, 54.75]\"\n",
    "    #var.lon_range=\"[100, 135], 70, 精度：0.5, 边界：[100.25, 134.75]\"\n",
    "    var.Fillvalues=\"9.96921e+36\"\n",
    "    var.time=\"1981.1-2020.12\"\n",
    "    \n",
    "    #最后记得关闭文件\n",
    "    new_NC.close()\n",
    "\n",
    "# CreatNC(tmp)"
   ]
  },
  {
   "cell_type": "markdown",
   "id": "355b71bd",
   "metadata": {},
   "source": [
    "### 480(输入data) -> 月 年\n",
    "> (480, 360, 720) -> (12, 40, 360, 720)"
   ]
  },
  {
   "cell_type": "code",
   "execution_count": null,
   "id": "86c9608f",
   "metadata": {},
   "outputs": [],
   "source": [
    "#%%生成新的nc文件\n",
    "def CreatNC2(data):\n",
    "    new_NC = nc.Dataset(r\"E:/CRU/TMP_DATA/TMP_CRU_MONTH_81_20.nc\", 'w', format='NETCDF4')\n",
    "    \n",
    "    year = np.arange(1, 41, 1)\n",
    "    month = np.arange(1, 13, 1)\n",
    "    \n",
    "    new_NC.createDimension('month', 12)\n",
    "    new_NC.createDimension('year', 40)\n",
    "    new_NC.createDimension('lat', 360)\n",
    "    new_NC.createDimension('lon', 720)\n",
    "    \n",
    "    var=new_NC.createVariable('tmp', 'f', (\"month\",\"year\",\"lat\",\"lon\"))\n",
    "    new_NC.createVariable('lat', 'f', (\"lat\"))\n",
    "    new_NC.createVariable('lon', 'f', (\"lon\"))\n",
    "    \n",
    "    new_NC.variables['tmp'][:]=data\n",
    "    new_NC.variables['lat'][:]=lat\n",
    "    new_NC.variables['lon'][:]=lon\n",
    "        \n",
    "    \n",
    "    #var.lat_range=\"[40, 55], 30, 精度：0.5, 边界：[40.25, 54.75]\"\n",
    "    #var.lon_range=\"[100, 135], 70, 精度：0.5, 边界：[100.25, 134.75]\"\n",
    "    var.Fillvalues=\"9.96921e+36\"\n",
    "    var.time=\"1981.1-2020.12\"\n",
    "    \n",
    "    #最后记得关闭文件\n",
    "    new_NC.close()\n",
    "    \n",
    "#%% 480(输入data) -> 月 年\n",
    "def mn_yr(data):\n",
    "    tmp_mn = []\n",
    "    for mn in range(12):\n",
    "        tmp_ = []\n",
    "        for yr in range(40):\n",
    "            tmp_.append(data[mn])\n",
    "            mn += 12\n",
    "        tmp_mn.append(tmp_)\n",
    "            \n",
    "    tmp_mn = np.array(tmp_mn)\n",
    "    \n",
    "    return tmp_mn\n",
    "\n",
    "tmp_mn = mn_yr(tmp)\n",
    "\n",
    "# CreatNC2(tmp_mn)\n",
    "\n"
   ]
  },
  {
   "cell_type": "markdown",
   "id": "90b874b1",
   "metadata": {},
   "source": [
    "### 480 -> 月 年（输入data）-> 季节 年\n",
    "> (12, 40, 360, 720)->(4, 40, 360, 720) 顺序：春夏秋冬 #####第一版计算冬季有问题，冬季应掐头去尾"
   ]
  },
  {
   "cell_type": "code",
   "execution_count": null,
   "id": "5cfe92eb",
   "metadata": {},
   "outputs": [],
   "source": [
    "# %%生成新的nc文件\n",
    "def CreatNC3(data):\n",
    "    new_NC = nc.Dataset(\n",
    "        r\"E:/CRU/TMP_DATA/TMP_CRU_SEASON_81_20.nc\", 'w', format='NETCDF4')\n",
    "\n",
    "    year = np.arange(1, 5, 1)\n",
    "    month = np.arange(1, 13, 1)\n",
    "\n",
    "    new_NC.createDimension('month', 4)\n",
    "    new_NC.createDimension('year', 40)\n",
    "    new_NC.createDimension('lat', 360)\n",
    "    new_NC.createDimension('lon', 720)\n",
    "\n",
    "    var = new_NC.createVariable('tmp', 'f', (\"month\", \"year\", \"lat\", \"lon\"))\n",
    "    new_NC.createVariable('lat', 'f', (\"lat\"))\n",
    "    new_NC.createVariable('lon', 'f', (\"lon\"))\n",
    "\n",
    "    new_NC.variables['tmp'][:] = data\n",
    "    new_NC.variables['lat'][:] = lat\n",
    "    new_NC.variables['lon'][:] = lon\n",
    "\n",
    "    #var.lat_range=\"[40, 55], 30, 精度：0.5, 边界：[40.25, 54.75]\"\n",
    "    #var.lon_range=\"[100, 135], 70, 精度：0.5, 边界：[100.25, 134.75]\"\n",
    "    var.Fillvalues = \"9.96921e+36\"\n",
    "    var.time = \"1981.1-2020.12\"\n",
    "    var.sort = \"春 夏 秋 冬\"\n",
    "\n",
    "    # 最后记得关闭文件\n",
    "    new_NC.close()\n",
    "\n",
    "# %% 480 -> 月 年（输入data）-> 季节 年\n",
    "\n",
    "'''冬季计算有问题版\n",
    "def season_yr(data):\n",
    "    tmp_s = np.vstack((data[2:, :], data[:2, :]))\n",
    "    tmp_sea = []\n",
    "    for mn1, mn2 in zip(range(0, 12, 3), range(3, 15, 3)):\n",
    "        tmp_sea.append(tmp_s[mn1:mn2, :])\n",
    "\n",
    "    tmp_sea = np.array(tmp_sea)\n",
    "    tmp_sea = tmp_sea.mean(axis=1)\n",
    "\n",
    "    return tmp_sea\n",
    "'''\n",
    "\n",
    "######### 修改版\n",
    "\n",
    "\n",
    "# %%\n",
    "tmp_sea = season_yr(tmp_mn)\n",
    "# CreatNC3(tmp_sea)"
   ]
  },
  {
   "cell_type": "markdown",
   "id": "6fc20d7a",
   "metadata": {},
   "source": [
    "### 480 -> Zscore归一化值\n",
    "> 可输入年月值（此程序） 或480序列值(Gleam 程序)\n",
    "\n",
    "> reverse非常慢，逐月保存  \n",
    "\n",
    "> preprocessing()碰到NaN值会跳过"
   ]
  },
  {
   "cell_type": "code",
   "execution_count": null,
   "id": "f529c4f4",
   "metadata": {},
   "outputs": [],
   "source": [
    "#%%生成新的nc文件\n",
    "def CreatNC4(data, mn):\n",
    "    new_NC = nc.Dataset(rf\"E:/CRU/TMP_DATA/Zscore/TMP_CRU_Zscore_81_20_month{i}.nc\", 'w', format='NETCDF4')\n",
    "    \n",
    "    year = np.arange(1, 41, 1)\n",
    "    \n",
    "    new_NC.createDimension('year', 40)\n",
    "    new_NC.createDimension('lat', 360)\n",
    "    new_NC.createDimension('lon', 720)\n",
    "    \n",
    "    var=new_NC.createVariable('tmp', 'f', (\"year\",\"lat\",\"lon\"))\n",
    "    new_NC.createVariable('lat', 'f', (\"lat\"))\n",
    "    new_NC.createVariable('lon', 'f', (\"lon\"))\n",
    "    \n",
    "    new_NC.variables['tmp'][:]=data\n",
    "    new_NC.variables['lat'][:]=lat\n",
    "    new_NC.variables['lon'][:]=lon\n",
    "        \n",
    "    \n",
    "    #var.lat_range=\"[40, 55], 30, 精度：0.5, 边界：[40.25, 54.75]\"\n",
    "    #var.lon_range=\"[100, 135], 70, 精度：0.5, 边界：[100.25, 134.75]\"\n",
    "    var.Fillvalues=\"9.96921e+36\"\n",
    "    var.time=\"1981.1-2020.12 'days since 1900-01-01 00:00:0.0'\"\n",
    "    \n",
    "    #最后记得关闭文件\n",
    "    new_NC.close()\n",
    "    \n",
    "#%% 480 -> 归一化值\n",
    "def tmp_month_reverse(mn, data, data_z):\n",
    "    ind = mn-1\n",
    "\n",
    "    for i in range(40):\n",
    "        data_z[ind, :, :] = data[i, :, :]\n",
    "        ind += 12\n",
    "    \n",
    "    \n",
    "    return data_z\n",
    "\n",
    "def Zscore(data):\n",
    "    tmp_mn_z = np.zeros((40, 360, 720))\n",
    "    data_z = np.zeros((480, 360, 720))\n",
    "    for mn in range(1, 13):\n",
    "        for r in range(360):\n",
    "            if r%30 == 0:\n",
    "                print(f\"columns {r} is done!\")\n",
    "            for c in range(720):\n",
    "                tmp_mn_z[:, r, c] = preprocessing.scale(data[mn, :, r, c]) #########\n",
    "        CreatNC4(tmp_mn_z, mn)\n",
    "                \n",
    "Zscore(tmp_mn)\n",
    "#tmp_z = Zscore(tmp_mn)\n",
    "#CreatNC4(data_z)"
   ]
  },
  {
   "cell_type": "markdown",
   "id": "ba8a64ac",
   "metadata": {},
   "source": [
    "### 异常值，循环求"
   ]
  },
  {
   "cell_type": "code",
   "execution_count": null,
   "id": "73a11881",
   "metadata": {},
   "outputs": [],
   "source": []
  }
 ],
 "metadata": {
  "kernelspec": {
   "display_name": "Python 3 (ipykernel)",
   "language": "python",
   "name": "python3"
  },
  "language_info": {
   "codemirror_mode": {
    "name": "ipython",
    "version": 3
   },
   "file_extension": ".py",
   "mimetype": "text/x-python",
   "name": "python",
   "nbconvert_exporter": "python",
   "pygments_lexer": "ipython3",
   "version": "3.9.12"
  },
  "toc": {
   "base_numbering": 1,
   "nav_menu": {},
   "number_sections": true,
   "sideBar": true,
   "skip_h1_title": false,
   "title_cell": "Table of Contents",
   "title_sidebar": "Contents",
   "toc_cell": false,
   "toc_position": {
    "height": "calc(100% - 180px)",
    "left": "10px",
    "top": "150px",
    "width": "428.475px"
   },
   "toc_section_display": true,
   "toc_window_display": false
  },
  "varInspector": {
   "cols": {
    "lenName": 16,
    "lenType": 16,
    "lenVar": 40
   },
   "kernels_config": {
    "python": {
     "delete_cmd_postfix": "",
     "delete_cmd_prefix": "del ",
     "library": "var_list.py",
     "varRefreshCmd": "print(var_dic_list())"
    },
    "r": {
     "delete_cmd_postfix": ") ",
     "delete_cmd_prefix": "rm(",
     "library": "var_list.r",
     "varRefreshCmd": "cat(var_dic_list()) "
    }
   },
   "position": {
    "height": "144.85px",
    "left": "1127.4px",
    "right": "20px",
    "top": "121px",
    "width": "350px"
   },
   "types_to_exclude": [
    "module",
    "function",
    "builtin_function_or_method",
    "instance",
    "_Feature"
   ],
   "window_display": true
  },
  "vscode": {
   "interpreter": {
    "hash": "c45877ca8879bd6de1f8ecfa1b07a6092539ffb29764f4d7259821dd181faedb"
   }
  }
 },
 "nbformat": 4,
 "nbformat_minor": 5
}
