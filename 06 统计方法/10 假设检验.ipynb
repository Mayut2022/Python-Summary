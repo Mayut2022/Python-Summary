{
 "cells": [
  {
   "cell_type": "markdown",
   "id": "ec2952bc",
   "metadata": {},
   "source": [
    "# 参数检验\n",
    "1. [【Python】单样本、独立样本、配对样本的t检验](https://blog.csdn.net/missinghead/article/details/128756538?ops_request_misc=%257B%2522request%255Fid%2522%253A%2522168369063416800182767443%2522%252C%2522scm%2522%253A%252220140713.130102334.pc%255Fall.%2522%257D&request_id=168369063416800182767443&biz_id=0&utm_medium=distribute.pc_search_result.none-task-blog-2~all~first_rank_ecpm_v1~rank_v31_ecpm-2-128756538-null-null.142^v86^insert_down38v5,239^v2^insert_chatgpt&utm_term=python%20%20%E6%A0%B7%E6%9C%AC%E5%B7%AE%E5%BC%82%E6%A3%80%E9%AA%8C&spm=1018.2226.3001.4187)\n",
    "> 严格来说样本应出自同一时间序列，服从正态分布，进行方差齐性检验；p-value>0.05接受原假设不存在显著差异，反之拒绝原假设接受备择假设，样本存在显著差异"
   ]
  },
  {
   "cell_type": "code",
   "execution_count": null,
   "id": "686ec9a8",
   "metadata": {},
   "outputs": [],
   "source": []
  },
  {
   "cell_type": "markdown",
   "id": "73c5d110",
   "metadata": {},
   "source": [
    "# 非参数检验\n",
    "1. 秩和检验 [秩和检验(rank sum test)及其Python实现](https://blog.csdn.net/jiaochong11/article/details/105630108?ops_request_misc=%257B%2522request%255Fid%2522%253A%2522168369484516800213018640%2522%252C%2522scm%2522%253A%252220140713.130102334..%2522%257D&request_id=168369484516800213018640&biz_id=0&utm_medium=distribute.pc_search_result.none-task-blog-2~all~sobaiduend~default-4-105630108-null-null.142^v86^insert_down38v5,239^v2^insert_chatgpt&utm_term=python%20%E7%A7%A9%E5%92%8C%E6%A3%80%E9%AA%8C&spm=1018.2226.3001.4187)\n",
    "2. Kolmogorov-Smirnov test (K-S 检验）（西蒙诺夫检验）[知乎详解](https://zhuanlan.zhihu.com/p/292678346)"
   ]
  },
  {
   "cell_type": "markdown",
   "id": "9a4f74b2",
   "metadata": {},
   "source": []
  },
  {
   "cell_type": "markdown",
   "id": "e9e64d48",
   "metadata": {},
   "source": [
    "# 相关系数临界值计算\n",
    "> [在线计算相关系数临界值在线计算器](https://www.osgeo.cn/app/sb142)"
   ]
  }
 ],
 "metadata": {
  "kernelspec": {
   "display_name": "Python 3 (ipykernel)",
   "language": "python",
   "name": "python3"
  },
  "language_info": {
   "codemirror_mode": {
    "name": "ipython",
    "version": 3
   },
   "file_extension": ".py",
   "mimetype": "text/x-python",
   "name": "python",
   "nbconvert_exporter": "python",
   "pygments_lexer": "ipython3",
   "version": "3.9.12"
  },
  "toc": {
   "base_numbering": 1,
   "nav_menu": {},
   "number_sections": true,
   "sideBar": true,
   "skip_h1_title": false,
   "title_cell": "Table of Contents",
   "title_sidebar": "Contents",
   "toc_cell": false,
   "toc_position": {},
   "toc_section_display": true,
   "toc_window_display": false
  },
  "varInspector": {
   "cols": {
    "lenName": 16,
    "lenType": 16,
    "lenVar": 40
   },
   "kernels_config": {
    "python": {
     "delete_cmd_postfix": "",
     "delete_cmd_prefix": "del ",
     "library": "var_list.py",
     "varRefreshCmd": "print(var_dic_list())"
    },
    "r": {
     "delete_cmd_postfix": ") ",
     "delete_cmd_prefix": "rm(",
     "library": "var_list.r",
     "varRefreshCmd": "cat(var_dic_list()) "
    }
   },
   "types_to_exclude": [
    "module",
    "function",
    "builtin_function_or_method",
    "instance",
    "_Feature"
   ],
   "window_display": false
  }
 },
 "nbformat": 4,
 "nbformat_minor": 5
}
