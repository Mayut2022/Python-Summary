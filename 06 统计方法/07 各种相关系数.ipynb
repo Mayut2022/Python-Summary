{
 "cells": [
  {
   "attachments": {
    "image.png": {
     "image/png": "[encoded data removed]"
    }
   },
   "cell_type": "markdown",
   "id": "7fceaede",
   "metadata": {},
   "source": [
    "![image.png](attachment:image.png)"
   ]
  },
  {
   "cell_type": "markdown",
   "id": "b79840e9",
   "metadata": {},
   "source": [
    "# 简单相关系数\n",
    "1. Pearsonr相关系数；\n",
    "> 本质为两标准化的值，因此用原值、异常值、Zscore值计算结果均一样。\n",
    "2. spearman相关系数；\n",
    "3. kendall秩相关系数；"
   ]
  },
  {
   "cell_type": "markdown",
   "id": "59ff6110",
   "metadata": {},
   "source": [
    "## Pearsonr相关\n",
    "> r, p = pearson(a, b)"
   ]
  },
  {
   "cell_type": "code",
   "execution_count": 3,
   "id": "d93a3d9e",
   "metadata": {
    "ExecuteTime": {
     "end_time": "2022-11-09T13:24:52.128161Z",
     "start_time": "2022-11-09T13:24:51.652878Z"
    },
    "collapsed": true
   },
   "outputs": [
    {
     "ename": "ValueError",
     "evalue": "array must not contain infs or NaNs",
     "output_type": "error",
     "traceback": [
      "\u001b[0;31m---------------------------------------------------------------------------\u001b[0m",
      "\u001b[0;31mValueError\u001b[0m                                Traceback (most recent call last)",
      "Cell \u001b[0;32mIn[3], line 15\u001b[0m\n\u001b[1;32m     13\u001b[0m b_d \u001b[39m=\u001b[39m b\u001b[39m-\u001b[39mb\u001b[39m.\u001b[39mmean()\n\u001b[1;32m     14\u001b[0m \u001b[39m#%%\u001b[39;00m\n\u001b[0;32m---> 15\u001b[0m pccs \u001b[39m=\u001b[39m pearsonr(a_d, b_d)\n\u001b[1;32m     16\u001b[0m \u001b[39mprint\u001b[39m(pccs)\n",
      "File \u001b[0;32m~/env-py310/lib/python3.10/site-packages/scipy/stats/_stats_py.py:4454\u001b[0m, in \u001b[0;36mpearsonr\u001b[0;34m(x, y, alternative)\u001b[0m\n\u001b[1;32m   4449\u001b[0m ym \u001b[39m=\u001b[39m y\u001b[39m.\u001b[39mastype(dtype) \u001b[39m-\u001b[39m ymean\n\u001b[1;32m   4451\u001b[0m \u001b[39m# Unlike np.linalg.norm or the expression sqrt((xm*xm).sum()),\u001b[39;00m\n\u001b[1;32m   4452\u001b[0m \u001b[39m# scipy.linalg.norm(xm) does not overflow if xm is, for example,\u001b[39;00m\n\u001b[1;32m   4453\u001b[0m \u001b[39m# [-5e210, 5e210, 3e200, -3e200]\u001b[39;00m\n\u001b[0;32m-> 4454\u001b[0m normxm \u001b[39m=\u001b[39m linalg\u001b[39m.\u001b[39;49mnorm(xm)\n\u001b[1;32m   4455\u001b[0m normym \u001b[39m=\u001b[39m linalg\u001b[39m.\u001b[39mnorm(ym)\n\u001b[1;32m   4457\u001b[0m threshold \u001b[39m=\u001b[39m \u001b[39m1e-13\u001b[39m\n",
      "File \u001b[0;32m~/env-py310/lib/python3.10/site-packages/scipy/linalg/_misc.py:145\u001b[0m, in \u001b[0;36mnorm\u001b[0;34m(a, ord, axis, keepdims, check_finite)\u001b[0m\n\u001b[1;32m    143\u001b[0m \u001b[39m# Differs from numpy only in non-finite handling and the use of blas.\u001b[39;00m\n\u001b[1;32m    144\u001b[0m \u001b[39mif\u001b[39;00m check_finite:\n\u001b[0;32m--> 145\u001b[0m     a \u001b[39m=\u001b[39m np\u001b[39m.\u001b[39;49masarray_chkfinite(a)\n\u001b[1;32m    146\u001b[0m \u001b[39melse\u001b[39;00m:\n\u001b[1;32m    147\u001b[0m     a \u001b[39m=\u001b[39m np\u001b[39m.\u001b[39masarray(a)\n",
      "File \u001b[0;32m~/env-py310/lib/python3.10/site-packages/numpy/lib/function_base.py:628\u001b[0m, in \u001b[0;36masarray_chkfinite\u001b[0;34m(a, dtype, order)\u001b[0m\n\u001b[1;32m    626\u001b[0m a \u001b[39m=\u001b[39m asarray(a, dtype\u001b[39m=\u001b[39mdtype, order\u001b[39m=\u001b[39morder)\n\u001b[1;32m    627\u001b[0m \u001b[39mif\u001b[39;00m a\u001b[39m.\u001b[39mdtype\u001b[39m.\u001b[39mchar \u001b[39min\u001b[39;00m typecodes[\u001b[39m'\u001b[39m\u001b[39mAllFloat\u001b[39m\u001b[39m'\u001b[39m] \u001b[39mand\u001b[39;00m \u001b[39mnot\u001b[39;00m np\u001b[39m.\u001b[39misfinite(a)\u001b[39m.\u001b[39mall():\n\u001b[0;32m--> 628\u001b[0m     \u001b[39mraise\u001b[39;00m \u001b[39mValueError\u001b[39;00m(\n\u001b[1;32m    629\u001b[0m         \u001b[39m\"\u001b[39m\u001b[39marray must not contain infs or NaNs\u001b[39m\u001b[39m\"\u001b[39m)\n\u001b[1;32m    630\u001b[0m \u001b[39mreturn\u001b[39;00m a\n",
      "\u001b[0;31mValueError\u001b[0m: array must not contain infs or NaNs"
     ]
    }
   ],
   "source": [
    "import numpy as np\n",
    "import pandas as pd\n",
    "from scipy.stats import pearsonr\n",
    "# from sklearn import preprocessing\n",
    "#%%\n",
    "a = np.arange(10)\n",
    "a_d = a-a.mean()\n",
    "# a_d[0] = np.nan\n",
    "# a_z = preprocessing.scale(a)\n",
    "\n",
    "np.random.seed(123)\n",
    "b = np.random.randint(10, 100, 10)\n",
    "b_d = b-b.mean()\n",
    "#%%\n",
    "pccs = pearsonr(a_d, b_d)\n",
    "print(pccs)"
   ]
  },
  {
   "cell_type": "code",
   "execution_count": null,
   "id": "a87f4195",
   "metadata": {},
   "outputs": [],
   "source": [
    "def corr(d1, d2):\n",
    "    sp = d1.shape\n",
    "    spi, spj = sp[1], sp[2]\n",
    "    r, p = np.zeros((spi, spj)), np.zeros((spi, spj))\n",
    "    for i in range(spi):\n",
    "        for j in range(spj):\n",
    "            a = d1[:, i, j]\n",
    "            b = d2[:, i, j]\n",
    "            if np.isnan(a).any() or np.isnan(b).any():\n",
    "                r[i, j], p[i, j] = np.nan, np.nan\n",
    "            else:\n",
    "                r[i, j], p[i, j] = pearsonr(a, b)\n",
    "    return r, p"
   ]
  },
  {
   "cell_type": "markdown",
   "id": "a6b37ad9",
   "metadata": {},
   "source": [
    "# 已知自由度和sig level 求相关系数临界值\n",
    "> [在线计算相关系数临界值在线计算器](https://www.osgeo.cn/app/sb142)"
   ]
  },
  {
   "cell_type": "code",
   "execution_count": null,
   "id": "edf97115",
   "metadata": {},
   "outputs": [],
   "source": []
  }
 ],
 "metadata": {
  "kernelspec": {
   "display_name": "Python 3 (ipykernel)",
   "language": "python",
   "name": "python3"
  },
  "language_info": {
   "codemirror_mode": {
    "name": "ipython",
    "version": 3
   },
   "file_extension": ".py",
   "mimetype": "text/x-python",
   "name": "python",
   "nbconvert_exporter": "python",
   "pygments_lexer": "ipython3",
   "version": "3.9.12"
  },
  "toc": {
   "base_numbering": 1,
   "nav_menu": {},
   "number_sections": true,
   "sideBar": true,
   "skip_h1_title": false,
   "title_cell": "Table of Contents",
   "title_sidebar": "Contents",
   "toc_cell": false,
   "toc_position": {},
   "toc_section_display": true,
   "toc_window_display": false
  },
  "varInspector": {
   "cols": {
    "lenName": 16,
    "lenType": 16,
    "lenVar": 40
   },
   "kernels_config": {
    "python": {
     "delete_cmd_postfix": "",
     "delete_cmd_prefix": "del ",
     "library": "var_list.py",
     "varRefreshCmd": "print(var_dic_list())"
    },
    "r": {
     "delete_cmd_postfix": ") ",
     "delete_cmd_prefix": "rm(",
     "library": "var_list.r",
     "varRefreshCmd": "cat(var_dic_list()) "
    }
   },
   "types_to_exclude": [
    "module",
    "function",
    "builtin_function_or_method",
    "instance",
    "_Feature"
   ],
   "window_display": false
  },
  "vscode": {
   "interpreter": {
    "hash": "c45877ca8879bd6de1f8ecfa1b07a6092539ffb29764f4d7259821dd181faedb"
   }
  }
 },
 "nbformat": 4,
 "nbformat_minor": 5
}
