{
 "cells": [
  {
   "cell_type": "markdown",
   "id": "1148a17a",
   "metadata": {},
   "source": [
    "### 去除线性趋势"
   ]
  },
  {
   "cell_type": "code",
   "execution_count": 1,
   "id": "cdc30b40",
   "metadata": {},
   "outputs": [],
   "source": [
    "import netCDF4 as nc\n",
    "import numpy as np\n",
    "import matplotlib.pyplot as plt\n",
    "import xarray as xr\n",
    "from scipy import signal"
   ]
  },
  {
   "cell_type": "code",
   "execution_count": 2,
   "id": "cadbf0b2",
   "metadata": {},
   "outputs": [],
   "source": [
    "def read_data_nc1(yr):\n",
    "    global lat, lon\n",
    "    inpath=(\"D:/study/Gosif_Data_0.5/phenology/EuroAsia_dbl_derive2rd_%d.nc\"%yr)\n",
    "    with nc.Dataset(inpath, mode='r') as f:\n",
    "        #print(f.variables.keys())\n",
    "        SOP=(f.variables['SOP'][:])\n",
    "        lat=(f.variables['lat'][:])\n",
    "        lon=(f.variables['lon'][:])\n",
    "        #print(f.variables['sif'])\n",
    "        SOP[SOP==-9999]=np.nan\n",
    "    return SOP\n",
    "\n",
    "for yr in range(2001, 2021):\n",
    "        sop=read_data_nc1(yr)\n",
    "        sop=sop.reshape(1, 120, 240)\n",
    "        if yr == 2001:\n",
    "            sop_all= sop\n",
    "        else:\n",
    "            sop_all= np.vstack((sop_all, sop))"
   ]
  },
  {
   "cell_type": "markdown",
   "id": "29299feb",
   "metadata": {},
   "source": [
    "1. 数据去趋势 data_detrend=np.array(data),将数据复制，不然默认的是np.asarray(), 即将原变量也修改。\n",
    "2. 判断是否包含缺测值，含缺测值scipy.signal函数不能用\n",
    "3. 得到的是去趋势后的数据，需要加上数据均值"
   ]
  },
  {
   "cell_type": "code",
   "execution_count": 4,
   "id": "862cf654",
   "metadata": {},
   "outputs": [],
   "source": [
    "def detrend(data):          \n",
    "    data_detrend=np.array(data)\n",
    "    for r in range(120):\n",
    "        for c in range(240):\n",
    "            test=data_detrend[:, r, c]\n",
    "            contain_nan = (True in np.isnan(test))\n",
    "            if contain_nan==True:\n",
    "                continue\n",
    "            else:\n",
    "                detrend=signal.detrend(test, type='linear') \n",
    "                data_detrend[:, r, c]=detrend+test.mean()\n",
    "                \n",
    "    return data_detrend\n",
    "\n",
    "sop_all_detrend=detrend(sop_all)"
   ]
  },
  {
   "cell_type": "code",
   "execution_count": null,
   "id": "73b574ae",
   "metadata": {},
   "outputs": [],
   "source": []
  },
  {
   "cell_type": "code",
   "execution_count": null,
   "id": "532e6798",
   "metadata": {},
   "outputs": [],
   "source": []
  }
 ],
 "metadata": {
  "kernelspec": {
   "display_name": "Python 3 (ipykernel)",
   "language": "python",
   "name": "python3"
  },
  "language_info": {
   "codemirror_mode": {
    "name": "ipython",
    "version": 3
   },
   "file_extension": ".py",
   "mimetype": "text/x-python",
   "name": "python",
   "nbconvert_exporter": "python",
   "pygments_lexer": "ipython3",
   "version": "3.9.12"
  },
  "toc": {
   "base_numbering": 1,
   "nav_menu": {},
   "number_sections": true,
   "sideBar": true,
   "skip_h1_title": false,
   "title_cell": "Table of Contents",
   "title_sidebar": "Contents",
   "toc_cell": false,
   "toc_position": {},
   "toc_section_display": true,
   "toc_window_display": false
  },
  "varInspector": {
   "cols": {
    "lenName": 16,
    "lenType": 16,
    "lenVar": 40
   },
   "kernels_config": {
    "python": {
     "delete_cmd_postfix": "",
     "delete_cmd_prefix": "del ",
     "library": "var_list.py",
     "varRefreshCmd": "print(var_dic_list())"
    },
    "r": {
     "delete_cmd_postfix": ") ",
     "delete_cmd_prefix": "rm(",
     "library": "var_list.r",
     "varRefreshCmd": "cat(var_dic_list()) "
    }
   },
   "position": {
    "height": "442.85px",
    "left": "1049.2px",
    "right": "20px",
    "top": "130px",
    "width": "383px"
   },
   "types_to_exclude": [
    "module",
    "function",
    "builtin_function_or_method",
    "instance",
    "_Feature"
   ],
   "window_display": false
  }
 },
 "nbformat": 4,
 "nbformat_minor": 5
}
