{
 "cells": [
  {
   "cell_type": "markdown",
   "id": "772fb8f8",
   "metadata": {},
   "source": [
    "滑动t检验（Sliding t-test），也称为移动窗口t检验或移动平均t检验，是一种用于时间序列数据分析的统计方法。它用于检测数据序列中的窗口或子序列是否具有显著的均值差异。\n",
    "\n",
    "滑动t检验的基本思想是通过在时间序列上滑动一个固定大小的窗口，计算窗口内的数据子序列的均值，并与预先设定的参考均值进行比较。然后使用t检验来评估窗口内的均值差异是否显著。\n",
    "\n",
    "以下是滑动t检验的一般步骤：\n",
    "\n",
    "确定窗口大小：选择一个适当的窗口大小，该窗口将用于在时间序列上进行滑动。\n",
    "\n",
    "滑动窗口：从时间序列的起始位置开始，将窗口应用于数据序列，并计算窗口内数据子序列的均值。\n",
    "\n",
    "计算t值：使用窗口内的数据均值、窗口内的样本数量以及预先设定的参考均值，计算t值。t值可以通过以下公式计算：t = (窗口内样本均值 - 参考均值) / (窗口内样本标准差 / √(窗口内样本数量))。\n",
    "\n",
    "进行假设检验：使用计算得到的t值和自由度（窗口内样本数量减1），进行t检验。根据显著性水平和自由度，确定t值的临界值。\n",
    "\n",
    "判断显著性：比较计算得到的t值与临界值。如果t值超过了临界值，则可以得出窗口内的数据子序列在均值上存在显著差异。否则，差异被认为不显著。\n",
    "\n",
    "滑动窗口移动：将窗口向前滑动一个固定的步长，然后重复步骤2至步骤5，直到滑动窗口覆盖整个时间序列。"
   ]
  },
  {
   "cell_type": "markdown",
   "id": "dee0ae31",
   "metadata": {},
   "source": [
    "t值的临界值可以通过查阅t分布表或使用统计软件进行计算。对于给定的**显著性水平（通常以α表示）和自由度（通常为样本大小减1）**，可以找到对应的临界t值。\n",
    "\n",
    "常见的方法包括以下两种：\n",
    "\n",
    "使用t分布表：t分布表列出了不同自由度和显著性水平下的t值。您可以查阅相关的t分布表，找到与您的自由度和显著性水平相对应的临界t值。\n",
    "\n",
    "使用统计软件：许多统计软件（如Python中的SciPy、R语言、SPSS等）提供计算临界t值的功能。您可以使用这些软件来计算给定自由度和显著性水平下的临界t值。通常，您需要提供自由度和显著性水平作为输入，软件将返回对应的临界t值。"
   ]
  },
  {
   "cell_type": "code",
   "execution_count": 15,
   "id": "7e1ce924",
   "metadata": {
    "ExecuteTime": {
     "end_time": "2024-01-21T07:03:26.984342Z",
     "start_time": "2024-01-21T07:03:26.968267Z"
    }
   },
   "outputs": [
    {
     "name": "stdout",
     "output_type": "stream",
     "text": [
      "t 检验的临界值: 2.2621571627409915\n"
     ]
    }
   ],
   "source": [
    "import scipy.stats as stats\n",
    "\n",
    "# 设置显著性水平和自由度\n",
    "alpha = 0.05  # 显著性水平\n",
    "df = 9  # 自由度 degrees of freedom (样本数-1)\n",
    "\n",
    "# 计算 t 检验的临界值\n",
    "critical_value = stats.t.ppf(1 - alpha/2, df)\n",
    "\n",
    "print(\"t 检验的临界值:\", critical_value)"
   ]
  },
  {
   "cell_type": "code",
   "execution_count": 16,
   "id": "ee33d342",
   "metadata": {
    "ExecuteTime": {
     "end_time": "2024-01-21T07:04:28.033833Z",
     "start_time": "2024-01-21T07:04:28.007018Z"
    }
   },
   "outputs": [
    {
     "name": "stdout",
     "output_type": "stream",
     "text": [
      "滑动 t 检验的临界值: [4.302652729911275, 4.302652729911275, 4.302652729911275, 4.302652729911275, 4.302652729911275, 4.302652729911275, 4.302652729911275, 4.302652729911275]\n"
     ]
    }
   ],
   "source": [
    "import numpy as np\n",
    "import scipy.stats as stats\n",
    "\n",
    "# 示例数据\n",
    "data = np.array([1, 2, 3, 4, 5, 6, 7, 8, 9, 10])\n",
    "\n",
    "# 滑动窗口大小和步长\n",
    "window_size = 3\n",
    "step_size = 1\n",
    "\n",
    "# 显著性水平和自由度\n",
    "alpha = 0.05\n",
    "df = window_size - 1\n",
    "\n",
    "# 计算滑动 t 检验的临界值\n",
    "critical_values = []\n",
    "for i in range(0, len(data) - window_size + 1, step_size):\n",
    "    window_data = data[i:i+window_size]\n",
    "    mean = np.mean(window_data)\n",
    "    std_error = np.std(window_data) / np.sqrt(window_size)\n",
    "    t_value = (mean - np.mean(data)) / std_error\n",
    "    critical_value = stats.t.ppf(1 - alpha / 2, df)\n",
    "    critical_values.append(critical_value)\n",
    "\n",
    "print(\"滑动 t 检验的临界值:\", critical_values)"
   ]
  },
  {
   "cell_type": "code",
   "execution_count": null,
   "id": "754abc7f",
   "metadata": {},
   "outputs": [],
   "source": []
  }
 ],
 "metadata": {
  "kernelspec": {
   "display_name": "Python 3 (ipykernel)",
   "language": "python",
   "name": "python3"
  },
  "language_info": {
   "codemirror_mode": {
    "name": "ipython",
    "version": 3
   },
   "file_extension": ".py",
   "mimetype": "text/x-python",
   "name": "python",
   "nbconvert_exporter": "python",
   "pygments_lexer": "ipython3",
   "version": "3.9.12"
  },
  "toc": {
   "base_numbering": 1,
   "nav_menu": {},
   "number_sections": true,
   "sideBar": true,
   "skip_h1_title": false,
   "title_cell": "Table of Contents",
   "title_sidebar": "Contents",
   "toc_cell": false,
   "toc_position": {},
   "toc_section_display": true,
   "toc_window_display": false
  },
  "varInspector": {
   "cols": {
    "lenName": 16,
    "lenType": 16,
    "lenVar": 40
   },
   "kernels_config": {
    "python": {
     "delete_cmd_postfix": "",
     "delete_cmd_prefix": "del ",
     "library": "var_list.py",
     "varRefreshCmd": "print(var_dic_list())"
    },
    "r": {
     "delete_cmd_postfix": ") ",
     "delete_cmd_prefix": "rm(",
     "library": "var_list.r",
     "varRefreshCmd": "cat(var_dic_list()) "
    }
   },
   "types_to_exclude": [
    "module",
    "function",
    "builtin_function_or_method",
    "instance",
    "_Feature"
   ],
   "window_display": false
  }
 },
 "nbformat": 4,
 "nbformat_minor": 5
}
