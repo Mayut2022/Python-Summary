{
 "cells": [
  {
   "cell_type": "markdown",
   "id": "c6bb90eb",
   "metadata": {},
   "source": [
    "> [MK趋势检验](https://blog.csdn.net/aaakirito/article/details/116600294)\n",
    "\n",
    "> [pymannkendall模块](https://blog.csdn.net/HMXNX/article/details/121574739)"
   ]
  },
  {
   "cell_type": "code",
   "execution_count": 1,
   "id": "58f35bd0",
   "metadata": {},
   "outputs": [],
   "source": [
    "import netCDF4 as nc\n",
    "import numpy as np\n",
    "import matplotlib.pyplot as plt\n",
    "import xarray as xr\n",
    "\n",
    "import pymannkendall as MK"
   ]
  },
  {
   "cell_type": "code",
   "execution_count": 2,
   "id": "1cd35c6a",
   "metadata": {},
   "outputs": [],
   "source": [
    "def read_data_nc1(yr):\n",
    "    global lat, lon\n",
    "    inpath=(\"D:/study/Gosif_Data_0.5/phenology/EuroAsia_dbl_derive2rd_%d.nc\"%yr)\n",
    "    with nc.Dataset(inpath, mode='r') as f:\n",
    "        #print(f.variables.keys())\n",
    "        SOP=(f.variables['SOP'][:])\n",
    "        lat=(f.variables['lat'][:])\n",
    "        lon=(f.variables['lon'][:])\n",
    "        #print(f.variables['sif'])\n",
    "        #SOP[SOP==-9999]=np.nan\n",
    "    return SOP"
   ]
  },
  {
   "cell_type": "code",
   "execution_count": 3,
   "id": "e794c2a2",
   "metadata": {},
   "outputs": [],
   "source": [
    "def Sen(data):\n",
    "    trend=np.zeros((120, 240))\n",
    "    mk=np.zeros((120, 240))\n",
    "    for r in range(120):\n",
    "        if r%30==0:\n",
    "            print(\"still alive!\")\n",
    "        for c in range(240):\n",
    "            num = str(data[:, r, c].tolist())\n",
    "            fill=num.count(\"-9999\")\n",
    "            if fill >2:\n",
    "                trend[r, c]=-9999\n",
    "            #elif fill==1 or fill==2:\n",
    "                #trend[r, c]=-5000\n",
    "            else:\n",
    "                res=MK.original_test(data[:, r, c], alpha=0.05)\n",
    "                trend[r, c]=res[7]\n",
    "                if res[0]==\"increasing\":\n",
    "                    mk[r, c]= -1 #提前\n",
    "                elif res[0]==\"decreasing\":\n",
    "                    mk[r, c]= 1 #延后\n",
    "                \n",
    "    return trend, mk"
   ]
  },
  {
   "cell_type": "code",
   "execution_count": null,
   "id": "ca84c800",
   "metadata": {},
   "outputs": [
    {
     "name": "stdout",
     "output_type": "stream",
     "text": [
      "still alive!\n"
     ]
    }
   ],
   "source": [
    "for yr in range(2001, 2021):\n",
    "        sop=read_data_nc1(yr)\n",
    "        sop=sop.reshape(1, 120, 240)\n",
    "        if yr == 2001:\n",
    "            sop_all= sop\n",
    "        else:\n",
    "            sop_all= np.vstack((sop_all, sop))\n",
    "            \n",
    "tr, mk=Sen(sop_all)"
   ]
  },
  {
   "cell_type": "code",
   "execution_count": null,
   "id": "48aedab4",
   "metadata": {},
   "outputs": [],
   "source": []
  }
 ],
 "metadata": {
  "kernelspec": {
   "display_name": "env-py310",
   "language": "python",
   "name": "python3"
  },
  "language_info": {
   "codemirror_mode": {
    "name": "ipython",
    "version": 3
   },
   "file_extension": ".py",
   "mimetype": "text/x-python",
   "name": "python",
   "nbconvert_exporter": "python",
   "pygments_lexer": "ipython3",
   "version": "3.10.6 (main, Nov 14 2022, 16:10:14) [GCC 11.3.0]"
  },
  "toc": {
   "base_numbering": 1,
   "nav_menu": {},
   "number_sections": true,
   "sideBar": true,
   "skip_h1_title": false,
   "title_cell": "Table of Contents",
   "title_sidebar": "Contents",
   "toc_cell": false,
   "toc_position": {},
   "toc_section_display": true,
   "toc_window_display": false
  },
  "varInspector": {
   "cols": {
    "lenName": 16,
    "lenType": 16,
    "lenVar": 40
   },
   "kernels_config": {
    "python": {
     "delete_cmd_postfix": "",
     "delete_cmd_prefix": "del ",
     "library": "var_list.py",
     "varRefreshCmd": "print(var_dic_list())"
    },
    "r": {
     "delete_cmd_postfix": ") ",
     "delete_cmd_prefix": "rm(",
     "library": "var_list.r",
     "varRefreshCmd": "cat(var_dic_list()) "
    }
   },
   "types_to_exclude": [
    "module",
    "function",
    "builtin_function_or_method",
    "instance",
    "_Feature"
   ],
   "window_display": false
  },
  "vscode": {
   "interpreter": {
    "hash": "c45877ca8879bd6de1f8ecfa1b07a6092539ffb29764f4d7259821dd181faedb"
   }
  }
 },
 "nbformat": 4,
 "nbformat_minor": 5
}
