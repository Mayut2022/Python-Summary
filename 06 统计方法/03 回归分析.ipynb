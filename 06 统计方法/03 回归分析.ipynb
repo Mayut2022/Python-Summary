{
 "cells": [
  {
   "cell_type": "markdown",
   "id": "a124ef00",
   "metadata": {},
   "source": [
    "# 一元线性回归\n",
    "> from scipy.stats import linregress [摸鱼的相关分析和回归分析](https://www.heywhale.com/mw/project/61162916fe727700176cac60)\n",
    "\n",
    "> 相关分析与回归分析都是统计上研究变量之间关系的常用方法。用来判断两组变量之间的统计相关性。相关分析中两组变量的地位是平等的，而回归分析两个变量位置一般不能互换(自变量和因变量)。\n",
    "\n",
    "> linregress函数返回5个值，分别为回归斜率，回归截距，相关系数，p-value，估计斜率的标准误差。  \n",
    "> slope, intercept, r_value, p_value, std_err = stats.linregress(x, y)"
   ]
  },
  {
   "cell_type": "code",
   "execution_count": 1,
   "id": "0e3acd74",
   "metadata": {},
   "outputs": [],
   "source": [
    "import netCDF4 as nc\n",
    "import numpy as np\n",
    "import matplotlib.pyplot as plt\n",
    "import xarray as xr\n",
    "\n",
    "from scipy.stats import linregress"
   ]
  },
  {
   "cell_type": "code",
   "execution_count": 2,
   "id": "30aa7476",
   "metadata": {},
   "outputs": [],
   "source": [
    "def read_data_nc1(yr):\n",
    "    global lat, lon\n",
    "    inpath=(\"D:/study/Gosif_Data_0.5/phenology/EuroAsia_dbl_derive2rd_%d.nc\"%yr)\n",
    "    with nc.Dataset(inpath, mode='r') as f:\n",
    "        #print(f.variables.keys())\n",
    "        SOP=(f.variables['SOP'][:])\n",
    "        lat=(f.variables['lat'][:])\n",
    "        lon=(f.variables['lon'][:])\n",
    "        #print(f.variables['sif'])\n",
    "        SOP[SOP==-9999]=np.nan\n",
    "    return SOP"
   ]
  },
  {
   "cell_type": "code",
   "execution_count": 4,
   "id": "6414b014",
   "metadata": {},
   "outputs": [],
   "source": [
    "#%%读取数据\n",
    "for yr in range(2001, 2021):\n",
    "        sop=read_data_nc1(yr)\n",
    "        sop=sop.reshape(1, 120, 240)\n",
    "        if yr == 2001:\n",
    "            sop_all= sop\n",
    "        else:\n",
    "            sop_all= np.vstack((sop_all, sop))\n",
    "\n",
    "\n",
    "#%%\n",
    "t=np.arange(1, 21, 1)\n",
    "yr=np.arange(2001, 2021, 1)\n",
    "s,r,p = np.zeros((120, 240)),np.zeros((120, 240)),np.zeros((120, 240))\n",
    "\n",
    "for i in range(len(lat)):\n",
    "    for j in range(len(lon)):\n",
    "        s[i,j],_,r[i,j], p[i,j],_  = linregress(t, sop_all[:,i,j])"
   ]
  },
  {
   "cell_type": "markdown",
   "id": "8357a1cc",
   "metadata": {},
   "source": [
    "## 标准误(Standard Error)\n",
    "> [与R-square类似，衡量模型拟合程度](https://zhuanlan.zhihu.com/p/42074332)  \n",
    "\n",
    "> 计算公式 SE(b) = sqrt(Σ(y - ŷ)^2 / (n - 2)) / sqrt(Σ(x - x̄)^2)  \n",
    "> 其中，SE(b) 表示回归系数的标准误，y 是观测到的因变量值，ŷ 是根据回归模型预测的因变量值，n 是样本大小，x 是自变量值，x̄ 是自变量的均值。  \n",
    "\n",
    "> 例如，假设我们的回归分析结果显示房屋面积的回归系数为 50，标准误为 5。这意味着我们估计的回归系数为每增加 1 平方米的房屋面积，房屋价格平均增加 50 美元。而标准误为 5 表示我们的估计值相对准确，有较高的置信度。  \n",
    "置信区间是用来估计回归系数真实值的范围。通常使用回归系数的估计值加减两倍标准误来计算置信区间。在这种情况下，回归系数的置信区间为 50 ± (2 * 5)，即 (40, 60)。"
   ]
  },
  {
   "cell_type": "code",
   "execution_count": 1,
   "id": "d7b96a4d",
   "metadata": {
    "ExecuteTime": {
     "end_time": "2023-11-29T03:03:39.909316Z",
     "start_time": "2023-11-29T03:03:36.828056Z"
    }
   },
   "outputs": [
    {
     "name": "stdout",
     "output_type": "stream",
     "text": [
      "标准误: 0.11547005383792515\n"
     ]
    }
   ],
   "source": [
    "import numpy as np\n",
    "import statsmodels.api as sm\n",
    "\n",
    "# 示例数据\n",
    "x = np.array([1, 2, 3, 4, 5])\n",
    "y = np.array([2, 4, 5, 6, 8])\n",
    "\n",
    "# 添加常数列，构建回归模型\n",
    "X = sm.add_constant(x)\n",
    "\n",
    "# 执行一元线性回归\n",
    "model = sm.OLS(y, X)\n",
    "results = model.fit()\n",
    "\n",
    "# 输出回归系数的标准误\n",
    "print(\"标准误:\", results.bse[1])"
   ]
  },
  {
   "cell_type": "markdown",
   "id": "b73a2621",
   "metadata": {},
   "source": [
    "## 临界回归系数\n",
    "1. 确定显著性水平（通常以 α 表示），例如 0.05 表示 5% 的显著性水平。\n",
    "2. 确定自由度（通常是样本大小减去回归模型中的参数个数）。\n",
    "3. 使用 t 分布的累积分布函数（CDF）或查找 t 分布表，找到对应显著性水平和自由度的 t 分布临界值。\n",
    "4. 根据回归模型的标准误，计算临界回归系数。"
   ]
  },
  {
   "cell_type": "code",
   "execution_count": 2,
   "id": "98d21adf",
   "metadata": {
    "ExecuteTime": {
     "end_time": "2023-11-29T03:13:47.752431Z",
     "start_time": "2023-11-29T03:13:47.739742Z"
    }
   },
   "outputs": [
    {
     "name": "stdout",
     "output_type": "stream",
     "text": [
      "临界回归系数: 1.0053173773482227\n"
     ]
    }
   ],
   "source": [
    "from scipy import stats\n",
    "\n",
    "# 示例数据\n",
    "alpha = 0.05  # 显著性水平\n",
    "n = 50  # 样本大小\n",
    "df = n - 2  # 自由度\n",
    "se = 0.5  # 回归系数的标准误\n",
    "\n",
    "# 计算临界回归系数\n",
    "critical_value = stats.t.ppf(1 - alpha / 2, df) * se\n",
    "\n",
    "print(\"临界回归系数:\", critical_value)"
   ]
  },
  {
   "cell_type": "markdown",
   "id": "db2d9ca8",
   "metadata": {},
   "source": [
    "# 多元线性回归"
   ]
  },
  {
   "cell_type": "code",
   "execution_count": null,
   "id": "c08b8525",
   "metadata": {},
   "outputs": [],
   "source": []
  },
  {
   "cell_type": "code",
   "execution_count": null,
   "id": "ed806c78",
   "metadata": {},
   "outputs": [],
   "source": []
  }
 ],
 "metadata": {
  "kernelspec": {
   "display_name": "Python 3 (ipykernel)",
   "language": "python",
   "name": "python3"
  },
  "language_info": {
   "codemirror_mode": {
    "name": "ipython",
    "version": 3
   },
   "file_extension": ".py",
   "mimetype": "text/x-python",
   "name": "python",
   "nbconvert_exporter": "python",
   "pygments_lexer": "ipython3",
   "version": "3.9.12"
  },
  "toc": {
   "base_numbering": 1,
   "nav_menu": {},
   "number_sections": true,
   "sideBar": true,
   "skip_h1_title": false,
   "title_cell": "Table of Contents",
   "title_sidebar": "Contents",
   "toc_cell": false,
   "toc_position": {},
   "toc_section_display": true,
   "toc_window_display": false
  },
  "varInspector": {
   "cols": {
    "lenName": 16,
    "lenType": 16,
    "lenVar": 40
   },
   "kernels_config": {
    "python": {
     "delete_cmd_postfix": "",
     "delete_cmd_prefix": "del ",
     "library": "var_list.py",
     "varRefreshCmd": "print(var_dic_list())"
    },
    "r": {
     "delete_cmd_postfix": ") ",
     "delete_cmd_prefix": "rm(",
     "library": "var_list.r",
     "varRefreshCmd": "cat(var_dic_list()) "
    }
   },
   "types_to_exclude": [
    "module",
    "function",
    "builtin_function_or_method",
    "instance",
    "_Feature"
   ],
   "window_display": false
  }
 },
 "nbformat": 4,
 "nbformat_minor": 5
}
