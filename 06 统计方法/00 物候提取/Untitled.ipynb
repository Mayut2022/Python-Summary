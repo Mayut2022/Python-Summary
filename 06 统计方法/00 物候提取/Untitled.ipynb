{
 "cells": [
  {
   "cell_type": "code",
   "execution_count": null,
   "id": "b3a73f11",
   "metadata": {},
   "outputs": [],
   "source": [
    "# -*- coding: utf-8 -*-\n",
    "\"\"\"\n",
    "Created on Fri Jul  8 16:13:26 2022\n",
    "\n",
    "@author: MaYutong\n",
    "\"\"\"\n",
    "\n",
    "import netCDF4 as nc\n",
    "import numpy as np\n",
    "import matplotlib.pyplot as plt\n",
    "import xarray as xr\n",
    "import numpy.ma as ma\n",
    "\n",
    "\n",
    "def read_data(yr):\n",
    "    global lat, lon\n",
    "    inpath = (r'E:/Gosif_Africa/Africa/sif_africa_%d.nc' % yr)\n",
    "    with nc.Dataset(inpath) as f:\n",
    "        sif = (f.variables['sif'][:])\n",
    "        lat = (f.variables['lat'][:])\n",
    "        lon = (f.variables['lon'][:])\n",
    "    sif = sif*0.0001\n",
    "    return sif\n",
    "\n",
    "\n",
    "def congo(data):\n",
    "    t = np.arange(1, 365, 8)\n",
    "    spei_global = xr.DataArray(data, dims=['t', 'y', 'x'], coords=[\n",
    "                               t, lat, lon])  # 原SPEI-base数据\n",
    "    spei_cg = spei_global.loc[:, -6:5, 14:31]\n",
    "\n",
    "    return spei_cg\n",
    "\n",
    "\n",
    "# %%\n",
    "if __name__ == \"__main__\":\n",
    "    sif = read_data(2004)\n",
    "    sif_cg = congo(sif)"
   ]
  }
 ],
 "metadata": {
  "kernelspec": {
   "display_name": "Python 3 (ipykernel)",
   "language": "python",
   "name": "python3"
  },
  "language_info": {
   "codemirror_mode": {
    "name": "ipython",
    "version": 3
   },
   "file_extension": ".py",
   "mimetype": "text/x-python",
   "name": "python",
   "nbconvert_exporter": "python",
   "pygments_lexer": "ipython3",
   "version": "3.9.12"
  },
  "toc": {
   "base_numbering": 1,
   "nav_menu": {},
   "number_sections": true,
   "sideBar": true,
   "skip_h1_title": false,
   "title_cell": "Table of Contents",
   "title_sidebar": "Contents",
   "toc_cell": false,
   "toc_position": {},
   "toc_section_display": true,
   "toc_window_display": false
  },
  "varInspector": {
   "cols": {
    "lenName": 16,
    "lenType": 16,
    "lenVar": 40
   },
   "kernels_config": {
    "python": {
     "delete_cmd_postfix": "",
     "delete_cmd_prefix": "del ",
     "library": "var_list.py",
     "varRefreshCmd": "print(var_dic_list())"
    },
    "r": {
     "delete_cmd_postfix": ") ",
     "delete_cmd_prefix": "rm(",
     "library": "var_list.r",
     "varRefreshCmd": "cat(var_dic_list()) "
    }
   },
   "types_to_exclude": [
    "module",
    "function",
    "builtin_function_or_method",
    "instance",
    "_Feature"
   ],
   "window_display": false
  }
 },
 "nbformat": 4,
 "nbformat_minor": 5
}
