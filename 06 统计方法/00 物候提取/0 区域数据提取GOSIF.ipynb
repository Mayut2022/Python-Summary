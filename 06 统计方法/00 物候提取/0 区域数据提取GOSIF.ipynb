{
 "cells": [
  {
   "cell_type": "code",
   "execution_count": 1,
   "id": "80828409",
   "metadata": {
    "ExecuteTime": {
     "end_time": "2022-07-08T08:01:43.156069Z",
     "start_time": "2022-07-08T08:01:35.897492Z"
    }
   },
   "outputs": [],
   "source": [
    "import netCDF4 as nc\n",
    "import numpy as np\n",
    "import os\n",
    "import rasterio\n",
    "import xarray as xr"
   ]
  },
  {
   "cell_type": "markdown",
   "id": "18fd051f",
   "metadata": {},
   "source": [
    "## 用rasterio读取tiff文件 边界、中心点"
   ]
  },
  {
   "cell_type": "code",
   "execution_count": null,
   "id": "d6ae5f07",
   "metadata": {},
   "outputs": [],
   "source": [
    "inpath=r'D:/Gosif_Data/2021/GOSIF_2021001.tif'\n",
    "\n",
    "with rasterio.open(inpath) as ds:\n",
    "    sif = ds.read(1)\n",
    "\n",
    "#边界肯定是没有任何问题的\n",
    "def tif_bounds():    \n",
    "    x1, y1 = (ds.bounds.left, ds.bounds.top)\n",
    "    row, col = ds.index(x1, y1)  # 对应的行列号\n",
    "    print(f'(投影坐标{x1}, {y1})对应的行列号是({row}, {col})')\n",
    "    # 根据行列号得到地理坐标\n",
    "    x1, y1 = ds.xy(row, col)  # 中心点的坐标\n",
    "    print(f'行列号({row}, {col})对应的中心投影坐标是({x1}, {y1})')\n",
    "    \n",
    "    print('-------------------------------------------------')\n",
    "    x2, y2 = (ds.bounds.right, ds.bounds.bottom)\n",
    "    row2, col2 = ds.index(x2, y2)  # 对应的行列号\n",
    "    x2, y2 = ds.xy(row2, col2)  # 中心点的坐标\n",
    "    print(f'行列号({row2}, {col2})对应的中心投影坐标是({x2}, {y2})')\n",
    "\n",
    "bounds= ds.bounds #[left, bottom, right, top]\n",
    "lat = np.linspace(89.975, -89.975, 3600)\n",
    "lon = np.linspace(-180, 179.95, 7200)\n"
   ]
  },
  {
   "cell_type": "markdown",
   "id": "bbc8a7dc",
   "metadata": {},
   "source": [
    "## 批量读取+生成新的nc文件"
   ]
  },
  {
   "cell_type": "code",
   "execution_count": 2,
   "id": "f1cb2d67",
   "metadata": {
    "ExecuteTime": {
     "end_time": "2022-06-02T07:50:06.407659Z",
     "start_time": "2022-06-02T07:50:06.392503Z"
    }
   },
   "outputs": [],
   "source": [
    "#%%\n",
    "def sif_xarray(band1):\n",
    "    sif=xr.DataArray(band1,dims=['y','x'],coords=[lat, lon])\n",
    "    return sif.loc[75:45, -15:180]\n",
    "\n",
    "#%%\n",
    "def SIF_all(yr):\n",
    "    inpath = ('D:/Gosif_Data/%d/' %yr)\n",
    "    filelist = os.listdir(inpath)\n",
    "    global n, lat_nc, lon_nc\n",
    "    n=len(filelist)\n",
    "    \n",
    "    for i in range(n):\n",
    "        sif_file=(str(inpath)+filelist[i])\n",
    "        ds = rasterio.open(sif_file)\n",
    "        sif = ds.read(1)\n",
    "        sif_CHN=sif_xarray(sif)\n",
    "        lat_nc= np.array(sif_CHN.y)\n",
    "        lon_nc= np.array(sif_CHN.x)\n",
    "        sif_CHN=np.array(sif_CHN)\n",
    "        sif_CHN=sif_CHN.reshape(1, 600, 3900)\n",
    "        \n",
    "        if(i==0):\n",
    "            sif_all=sif_CHN\n",
    "        else:\n",
    "            sif_all=np.vstack((sif_all, sif_CHN))\n",
    "        ds.close()\n",
    "    \n",
    "    return sif_all\n",
    "\n",
    "#%%生成新的nc文件\n",
    "def CreatNC(yr, data):\n",
    "    doys=np.arange(1, 365, 8)\n",
    "    \n",
    "    new_NC = nc.Dataset(r\"D:/Gosif_TemBoreal/sif_TemBoreal_%d.nc\" %yr, 'w', format='NETCDF4')\n",
    "    \n",
    "    new_NC.createDimension('doys', 46)\n",
    "    new_NC.createDimension('lat', 600)\n",
    "    new_NC.createDimension('lon', 3900)\n",
    "    \n",
    "    var=new_NC.createVariable('sif', 'f', (\"doys\",\"lat\",\"lon\"))\n",
    "    new_NC.createVariable('lat', 'f', (\"lat\"))\n",
    "    new_NC.createVariable('lon', 'f', (\"lon\"))\n",
    "    \n",
    "    new_NC.variables['sif'][:]=data\n",
    "    new_NC.variables['lat'][:]=lat_nc\n",
    "    new_NC.variables['lon'][:]=lon_nc\n",
    "        \n",
    "    var.sif= (\"AsiaTropic range SIF %d\" %yr)\n",
    "    var.lat_range=\"[75, 45], 600, 精度：0.05, 边界：[74.975, 45.025]\"\n",
    "    var.lon_range=\"[-15, 180], 3900, 精度：0.05, 边界：[-15, 180.00]\"\n",
    "    var.data=\"scale factor和缺测值均未处理\"\n",
    "    var.Fillvalues=\"32767 (water bodies) and 32766 (lands under snow/ice throughout the year)\"\n",
    "    var.veg_nonveg=\"annual mean <0 & 32767/32766\"\n",
    "    \n",
    "    #最后记得关闭文件\n",
    "    new_NC.close()"
   ]
  },
  {
   "cell_type": "code",
   "execution_count": null,
   "id": "6d6e6c87",
   "metadata": {},
   "outputs": [],
   "source": [
    "if __name__ == '__main__':\n",
    "    for yr in range(2001,2022):\n",
    "        sif_all= SIF_all(yr)\n",
    "        CreatNC(yr, sif_all)\n",
    "        print(\"%d is done!\" %yr)"
   ]
  }
 ],
 "metadata": {
  "kernelspec": {
   "display_name": "Python 3",
   "language": "python",
   "name": "python3"
  },
  "language_info": {
   "codemirror_mode": {
    "name": "ipython",
    "version": 3
   },
   "file_extension": ".py",
   "mimetype": "text/x-python",
   "name": "python",
   "nbconvert_exporter": "python",
   "pygments_lexer": "ipython3",
   "version": "3.8.8"
  },
  "toc": {
   "base_numbering": 1,
   "nav_menu": {},
   "number_sections": true,
   "sideBar": true,
   "skip_h1_title": false,
   "title_cell": "Table of Contents",
   "title_sidebar": "Contents",
   "toc_cell": false,
   "toc_position": {},
   "toc_section_display": true,
   "toc_window_display": false
  },
  "varInspector": {
   "cols": {
    "lenName": 16,
    "lenType": 16,
    "lenVar": 40
   },
   "kernels_config": {
    "python": {
     "delete_cmd_postfix": "",
     "delete_cmd_prefix": "del ",
     "library": "var_list.py",
     "varRefreshCmd": "print(var_dic_list())"
    },
    "r": {
     "delete_cmd_postfix": ") ",
     "delete_cmd_prefix": "rm(",
     "library": "var_list.r",
     "varRefreshCmd": "cat(var_dic_list()) "
    }
   },
   "types_to_exclude": [
    "module",
    "function",
    "builtin_function_or_method",
    "instance",
    "_Feature"
   ],
   "window_display": false
  }
 },
 "nbformat": 4,
 "nbformat_minor": 5
}
