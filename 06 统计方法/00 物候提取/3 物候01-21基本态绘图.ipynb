{
 "cells": [
  {
   "cell_type": "markdown",
   "id": "de964991",
   "metadata": {},
   "source": [
    "## [Cartopy官方文档](https://scitools.org.uk/cartopy/docs/latest/)\n",
    "### cartopy的地图投影位于cartopy.crs中 [cartopy投影文档](https://scitools.org.uk/cartopy/docs/latest/reference/projections.html)\n",
    "### import cartopy.feature as cfeature\n",
    "1. cfeature自带[Example](https://scitools.org.uk/cartopy/docs/latest/gallery/lines_and_polygons/features.html#sphx-glr-gallery-lines-and-polygons-features-py)\n",
    "2. NaturalEarthFeature[API reference](https://scitools.org.uk/cartopy/docs/latest/reference/generated/cartopy.feature.NaturalEarthFeature.html)\n",
    "3. ShapelyFeature[]()\n"
   ]
  },
  {
   "cell_type": "code",
   "execution_count": 7,
   "id": "893d8001",
   "metadata": {
    "ExecuteTime": {
     "end_time": "2022-07-05T02:49:48.745914Z",
     "start_time": "2022-07-05T02:49:48.731883Z"
    }
   },
   "outputs": [],
   "source": [
    "import netCDF4 as nc\n",
    "import numpy as np\n",
    "import matplotlib.pyplot as plt\n",
    "import xarray as xr\n",
    "\n",
    "import cartopy.crs as ccrs\n",
    "import cartopy.feature as cfeature\n",
    "import matplotlib.ticker as mticker\n",
    "\n",
    "from cartopy.mpl.gridliner import LONGITUDE_FORMATTER, LATITUDE_FORMATTER\n",
    "from cartopy.mpl.ticker import LongitudeFormatter, LatitudeFormatter\n",
    "from cartopy.io.shapereader import Reader, natural_earth\n",
    "\n",
    "plt.rcParams['font.sans-serif'] = ['Times New Roman']\n",
    "plt.rcParams['axes.unicode_minus'] = False"
   ]
  },
  {
   "cell_type": "markdown",
   "id": "c9435b9f",
   "metadata": {},
   "source": [
    "## 读取数据\n",
    "### method1 sg+double logistic function+derive 2rd"
   ]
  },
  {
   "cell_type": "code",
   "execution_count": 8,
   "id": "673975eb",
   "metadata": {
    "ExecuteTime": {
     "end_time": "2022-07-05T02:49:49.713977Z",
     "start_time": "2022-07-05T02:49:49.707001Z"
    }
   },
   "outputs": [],
   "source": [
    "def read_data_nc1(yr):\n",
    "    global lat, lon\n",
    "    inpath = (\"E:\\Gosif_CHN\\phenology\\CHN_dbl_derive_%d.nc\" % yr)\n",
    "    with nc.Dataset(inpath, mode='r') as f:\n",
    "        # print(f.variables.keys())\n",
    "        # print(f.variables['sif'])\n",
    "        SOP = (f.variables['SOP2'][:])\n",
    "        lat = (f.variables['lat'][:])\n",
    "        lon = (f.variables['lon'][:])\n",
    "\n",
    "        SOP[SOP == -9999] = np.nan\n",
    "    return SOP"
   ]
  },
  {
   "cell_type": "markdown",
   "id": "daff3ee5",
   "metadata": {},
   "source": [
    "### method2 sg+cubic+ratio2"
   ]
  },
  {
   "cell_type": "code",
   "execution_count": 9,
   "id": "be68df9e",
   "metadata": {
    "ExecuteTime": {
     "end_time": "2022-07-05T02:49:50.611616Z",
     "start_time": "2022-07-05T02:49:50.596129Z"
    }
   },
   "outputs": [],
   "source": [
    "def read_data_nc2(yr):\n",
    "    global lat, lon\n",
    "    inpath = (\"E:\\Gosif_CHN\\phenology\\CHN_cb_ratio2_%d.nc\" % yr)\n",
    "    with nc.Dataset(inpath, mode='r') as f:\n",
    "        # print(f.variables.keys())\n",
    "        # print(f.variables['sif'])\n",
    "        SOP = (f.variables['SOP'][:])\n",
    "        lat = (f.variables['lat'][:])\n",
    "        lon = (f.variables['lon'][:])\n",
    "\n",
    "        SOP[SOP == -9999] = np.nan\n",
    "    return SOP"
   ]
  },
  {
   "cell_type": "markdown",
   "id": "660527ce",
   "metadata": {},
   "source": [
    "### method3 sg+cubic+seasonal amplitude"
   ]
  },
  {
   "cell_type": "code",
   "execution_count": 10,
   "id": "6340174d",
   "metadata": {
    "ExecuteTime": {
     "end_time": "2022-07-05T02:49:51.944049Z",
     "start_time": "2022-07-05T02:49:51.939066Z"
    }
   },
   "outputs": [],
   "source": [
    "def read_data_nc3(yr):\n",
    "    global lat, lon\n",
    "    inpath = (\"E:\\Gosif_CHN\\phenology\\CHN_cb_samp_%d.nc\" % yr)\n",
    "    with nc.Dataset(inpath, mode='r') as f:\n",
    "        # print(f.variables.keys())\n",
    "        # print(f.variables['sif'])\n",
    "        SOP = (f.variables['SOP'][:])\n",
    "        lat = (f.variables['lat'][:])\n",
    "        lon = (f.variables['lon'][:])\n",
    "\n",
    "        SOP[SOP == -9999] = np.nan\n",
    "    return SOP"
   ]
  },
  {
   "cell_type": "markdown",
   "id": "9f44012d",
   "metadata": {},
   "source": [
    "### 读取LUC数据 Glass-glc 2015数据"
   ]
  },
  {
   "cell_type": "code",
   "execution_count": 11,
   "id": "2d2cc299",
   "metadata": {
    "ExecuteTime": {
     "end_time": "2022-07-05T02:49:53.328928Z",
     "start_time": "2022-07-05T02:49:53.322951Z"
    }
   },
   "outputs": [],
   "source": [
    "def read_data_lcc():\n",
    "    inpath = r\"E:\\GLASS-glc\\GLASS-GLC_2015_GOSIF_nearest_CHN.nc\"\n",
    "    with nc.Dataset(inpath, mode='r') as f:\n",
    "        lcc = (f.variables['lcc'][:])\n",
    "    return lcc"
   ]
  },
  {
   "cell_type": "code",
   "execution_count": 30,
   "id": "ab597e7c",
   "metadata": {
    "ExecuteTime": {
     "end_time": "2022-07-05T03:03:09.989124Z",
     "start_time": "2022-07-05T03:03:09.966605Z"
    }
   },
   "outputs": [],
   "source": [
    "'''Cartopy 绘图'''\n",
    "def CreatMap(data, lon, lat, levels, cmap, savename):\n",
    "    fig = plt.figure(figsize=(14, 6), dpi=1080)\n",
    "    proj = ccrs.PlateCarree()\n",
    "    ax = fig.add_subplot(111,projection = proj)\n",
    "    fig.subplots_adjust(left=0.1, bottom=0.2, right=0.9, top=0.9, wspace=None, hspace=None)\n",
    "    \n",
    "    #区域\n",
    "    #region = [-18, 52, -35, 37]\n",
    "    region = [70, 140, 15, 55]\n",
    "    ax.set_extent(region, crs=ccrs.PlateCarree())\n",
    "    \n",
    "    # 打开边框\n",
    "    ax.spines['geo'].set_visible(True)\n",
    "    \n",
    "    #设置cfeature自带底图\n",
    "    ax.add_feature(cfeature.COASTLINE.with_scale('50m'), linewidth=1)\n",
    "    \n",
    "    #设置shp文件\n",
    "    shp_path1 = r'E:\\SHP\\gadm36_CHN_shp\\gadm36_CHN_1.shp'\n",
    "    shp_path2 = r'E:/SHP/world_shp/world_adm0_Project.shp'\n",
    "    \n",
    "    provinces = cfeature.ShapelyFeature(\n",
    "        Reader(shp_path1).geometries(),\n",
    "        ccrs.PlateCarree(), \n",
    "        edgecolor='k',\n",
    "        facecolor='none')\n",
    "    \n",
    "    world = cfeature.ShapelyFeature(\n",
    "        Reader(shp_path2).geometries(),\n",
    "        ccrs.PlateCarree(), \n",
    "        edgecolor='k',\n",
    "        facecolor='none')\n",
    "    ax.add_feature(provinces, linewidth=0.8, zorder=3)\n",
    "    ax.add_feature(world, linewidth=0.8, zorder=3)\n",
    "    \n",
    "    ax.xaxis.set_major_formatter(LongitudeFormatter())\n",
    "    ax.yaxis.set_major_formatter(LatitudeFormatter())\n",
    "\n",
    "    ax.set_xticks(list(range(70, 141, 10)))\n",
    "    ax.set_yticks(list(range(20, 51, 10)))#需要显示的纬度\n",
    "    ax.tick_params(labelsize= 15)\n",
    "    \n",
    "    # 设置网格点\n",
    "    lb=ax.gridlines(draw_labels=True, x_inline=False, y_inline=False,\\\n",
    "            linewidth=0.5, color='lightgray', linestyle='--' , alpha=0.8)# alpha是透明度\n",
    "    \n",
    "    lb.top_labels= False\n",
    "    lb.bottom_labels= False\n",
    "    lb.right_labels= False\n",
    "    lb.left_labels= False\n",
    "    lb.xlabel_style={'size':15}#修改经纬度字体大小\n",
    "    lb.ylabel_style={'size':15}\n",
    "    \n",
    "    \n",
    "    \n",
    "    #绘制填色图等\n",
    "    lon, lat = np.meshgrid(lon, lat)\n",
    "    cs=ax.contourf(lon, lat, data, \\\n",
    "                   levels=levels, transform=ccrs.PlateCarree(), \\\n",
    "                   cmap=cmap, extend=\"both\", zorder=1)\n",
    "    \n",
    "    cs2 = ax.contourf(lon, lat, lcc,\n",
    "                      levels=[5, 15], transform=ccrs.PlateCarree(),\n",
    "                      colors=\"white\", extend=\"neither\", zorder=2)\n",
    "    \n",
    "    cbar_ax = fig.add_axes([0.25, 0.1, 0.5, 0.03])\n",
    "    cb = fig.colorbar(cs, cax=cbar_ax, orientation='horizontal')\n",
    "    cb.ax.tick_params(labelsize=None)\n",
    "    cb.set_label('days of year', fontsize=15)\n",
    "    \n",
    "    \n",
    "    plt.suptitle(str(savename), fontsize=20)\n",
    "    #plt.savefig(r'D:/Gosif_CHN/物候2001-2021/dbl_derive2/%s.jpg' %savename)\n",
    "    #plt.savefig(r'D:/Gosif_CHN/物候2001-2021/cb_ratio2/%s.jpg' %savename)\n",
    "    #plt.savefig(r'D:/Gosif_CHN/物候2001-2021/三种方法比较/%s.jpg' %savename)\n",
    "    plt.show()"
   ]
  },
  {
   "cell_type": "markdown",
   "id": "ca6a28c4",
   "metadata": {},
   "source": [
    "## 画图（每种方法单独绘图）\n",
    "### 01-21基本态画图"
   ]
  },
  {
   "cell_type": "code",
   "execution_count": null,
   "id": "8bb54847",
   "metadata": {},
   "outputs": [],
   "source": [
    "for yr in range(2001, 2002):\n",
    "    sop = read_data_nc3(yr)\n",
    "    lcc = read_data_lcc()\n",
    "    sop[lcc == 10] = np.nan\n",
    "    print('---------start of the photosynthetic period---------')\n",
    "    print('%d SOP 95 percentile is: ' % yr, np.nanpercentile(sop, 90))\n",
    "    print('%d SOP 5 percentile is: ' % yr, np.nanpercentile(sop, 10))\n",
    "\n",
    "    lev1 = np.arange(95, 181, 5)\n",
    "    cmap = 'rainbow_r'\n",
    "    CreatMap(sop, lon, lat, lev1, cmap, savename=\"SOP %d\" % (yr))"
   ]
  },
  {
   "cell_type": "markdown",
   "id": "fbf66f3d",
   "metadata": {},
   "source": [
    "### 01-02三种方法分别距平"
   ]
  },
  {
   "cell_type": "code",
   "execution_count": null,
   "id": "c3c9aa10",
   "metadata": {},
   "outputs": [],
   "source": [
    "for yr in range(2001, 2022):\n",
    "    sop=read_data_nc1(yr)\n",
    "    sop=sop.reshape(1, 800, 1400)\n",
    "    if yr == 2001:\n",
    "        sop_all= sop\n",
    "    else:\n",
    "        sop_all= np.vstack((sop_all, sop))\n",
    "            \n",
    "sop_ave=np.mean(sop_all, axis=0)\n",
    "lcc = read_data_lcc()\n",
    "for yr in range(2001, 2002):\n",
    "    sop=read_data_nc1(yr)\n",
    "    sop_d=sop-sop_ave\n",
    "    sop_d[lcc == 10] = np.nan\n",
    "    print('---------start of the photosynthetic period anomaly---------')\n",
    "    print('%d SOP anomaly 95 percentile is: ' % yr, np.nanpercentile(sop_d, 90))\n",
    "    print('%d SOP anomaly 5 percentile is: ' % yr, np.nanpercentile(sop_d, 10))\n",
    "    \n",
    "    lev1 = np.arange(-16, 17, 2)\n",
    "    cmap = 'RdBu_r'\n",
    "    CreatMap(sop_d, lon, lat, lev1, cmap, savename=\"SOP anomaly %d\" % (yr))"
   ]
  },
  {
   "cell_type": "markdown",
   "id": "4821e78e",
   "metadata": {},
   "source": [
    "### 平均值"
   ]
  },
  {
   "cell_type": "code",
   "execution_count": null,
   "id": "9e6e6738",
   "metadata": {},
   "outputs": [],
   "source": [
    "for yr in range(2001, 2022):\n",
    "    sop=read_data_nc1(yr)\n",
    "    sop=sop.reshape(1, 800, 1400)\n",
    "    if yr == 2001:\n",
    "        sop_all= sop\n",
    "    else:\n",
    "        sop_all= np.vstack((sop_all, sop))\n",
    "            \n",
    "sop_ave=np.mean(sop_all, axis=0)"
   ]
  },
  {
   "cell_type": "markdown",
   "id": "5cec9fdc",
   "metadata": {},
   "source": [
    "## 三种方法比较\n",
    "### 三种方法数据标准差"
   ]
  },
  {
   "cell_type": "code",
   "execution_count": 9,
   "id": "5645124e",
   "metadata": {
    "ExecuteTime": {
     "end_time": "2022-06-08T07:42:47.886429Z",
     "start_time": "2022-06-08T07:42:46.553532Z"
    }
   },
   "outputs": [
    {
     "data": {
      "text/plain": [
       "'\\nprint(\\'---------start of the photosynthetic period---------\\')\\nprint(\\'%d SOP 95 percentile is: \\' % yr, np.nanpercentile(sop, 90))\\nprint(\\'%d SOP 5 percentile is: \\' % yr, np.nanpercentile(sop, 10))\\n\\nlev1 = np.arange(95, 181, 5)\\ncmap = \\'rainbow_r\\'\\n# CreatMap(sop, lon, lat, lev1, cmap, savename=\"SOP %d\" % (yr))\\n'"
      ]
     },
     "execution_count": 9,
     "metadata": {},
     "output_type": "execute_result"
    }
   ],
   "source": [
    "lcc = read_data_lcc()\n",
    "def data_all(i):\n",
    "    for yr in range(2001, 2022):\n",
    "        sop = eval(\"read_data_nc%d(%d)\" %(i, yr))\n",
    "        sop = sop.reshape(1, 800, 1400)\n",
    "        if yr == 2001:\n",
    "            sop_all = sop\n",
    "        else:\n",
    "            sop_all = np.vstack((sop_all, sop))\n",
    "    return sop_all\n",
    "\n",
    "sop1_all = data_all(1)\n",
    "sop2_all = data_all(2)\n",
    "sop3_all = data_all(3)\n",
    "\n",
    "for yr in range(21):\n",
    "    a=sop1_all[yr, :, :].reshape(1, 800, 1400)\n",
    "    b=sop2_all[yr, :, :].reshape(1, 800, 1400)\n",
    "    c=sop3_all[yr, :, :].reshape(1, 800, 1400)\n",
    "    sop_yr=np.vstack((a, b, c))\n",
    "    del a, b, c\n",
    "    \n",
    "    sop_yr_std=np.std(sop_yr, axis=0).data\n",
    "    sop_yr_std[lcc==10]=np.nan\n",
    "    \n",
    "    print('---------start of the photosynthetic period std---------')\n",
    "    print('%d SOP year std 90 percentile is: ' % yr, np.nanpercentile(sop_yr_std, 90))\n",
    "    print('%d SOP year std 10 percentile is: ' % yr, np.nanpercentile(sop_yr_std, 10))\n",
    "    \n",
    "    lev_l=int(np.nanpercentile(sop_yr_std, 10))\n",
    "    lev_r=math.ceil(np.nanpercentile(sop_yr_std, 90))\n",
    "    lev1=np.arange(lev_l, lev_r, 1)\n",
    "    cmap=\"Blues\"\n",
    "    \n",
    "    CreatMap(sop_yr_std, lon, lat, lev1, cmap, savename=\"SOP 3 method std %d\" % (yr+2001))"
   ]
  },
  {
   "cell_type": "markdown",
   "id": "0270c3e7",
   "metadata": {},
   "source": [
    "### 三种方法距平后标准差"
   ]
  },
  {
   "cell_type": "code",
   "execution_count": null,
   "id": "2ed992e3",
   "metadata": {},
   "outputs": [],
   "source": []
  }
 ],
 "metadata": {
  "kernelspec": {
   "display_name": "Python 3",
   "language": "python",
   "name": "python3"
  },
  "language_info": {
   "codemirror_mode": {
    "name": "ipython",
    "version": 3
   },
   "file_extension": ".py",
   "mimetype": "text/x-python",
   "name": "python",
   "nbconvert_exporter": "python",
   "pygments_lexer": "ipython3",
   "version": "3.8.8"
  },
  "toc": {
   "base_numbering": 1,
   "nav_menu": {},
   "number_sections": true,
   "sideBar": true,
   "skip_h1_title": false,
   "title_cell": "Table of Contents",
   "title_sidebar": "Contents",
   "toc_cell": false,
   "toc_position": {},
   "toc_section_display": true,
   "toc_window_display": false
  },
  "varInspector": {
   "cols": {
    "lenName": 16,
    "lenType": 16,
    "lenVar": 40
   },
   "kernels_config": {
    "python": {
     "delete_cmd_postfix": "",
     "delete_cmd_prefix": "del ",
     "library": "var_list.py",
     "varRefreshCmd": "print(var_dic_list())"
    },
    "r": {
     "delete_cmd_postfix": ") ",
     "delete_cmd_prefix": "rm(",
     "library": "var_list.r",
     "varRefreshCmd": "cat(var_dic_list()) "
    }
   },
   "position": {
    "height": "281.844px",
    "left": "912.667px",
    "right": "20px",
    "top": "0px",
    "width": "350px"
   },
   "types_to_exclude": [
    "module",
    "function",
    "builtin_function_or_method",
    "instance",
    "_Feature"
   ],
   "window_display": false
  }
 },
 "nbformat": 4,
 "nbformat_minor": 5
}
