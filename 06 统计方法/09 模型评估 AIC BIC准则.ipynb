{
 "cells": [
  {
   "cell_type": "markdown",
   "id": "8a40e14e",
   "metadata": {},
   "source": [
    "[赤池信息量准则AIC(最小化信息准则)、贝叶斯信息准则BIC](https://blog.csdn.net/WHYbeHERE/article/details/124715579?ops_request_misc=&request_id=&biz_id=102&utm_term=AIC%20%E5%87%86%E5%88%99python%20%E5%AE%9E%E7%8E%B0&utm_medium=distribute.pc_search_result.none-task-blog-2~all~sobaiduweb~default-2-124715579.142^v82^insert_down38,201^v4^add_ask,239^v2^insert_chatgpt&spm=1018.2226.3001.4187)"
   ]
  },
  {
   "cell_type": "code",
   "execution_count": null,
   "id": "31ed6162",
   "metadata": {},
   "outputs": [],
   "source": []
  },
  {
   "cell_type": "markdown",
   "id": "48ae9a64",
   "metadata": {},
   "source": [
    "[Python计算统计分析MSE 、 RMSE、 MAE、r2](https://blog.csdn.net/z15818264727/article/details/122638802?ops_request_misc=&request_id=&biz_id=102&utm_term=python%20%E6%B1%82MSE&utm_medium=distribute.pc_search_result.none-task-blog-2~all~sobaiduweb~default-0-122638802.142^v82^insert_down38,201^v4^add_ask,239^v2^insert_chatgpt&spm=1018.2226.3001.4187)"
   ]
  }
 ],
 "metadata": {
  "kernelspec": {
   "display_name": "Python 3 (ipykernel)",
   "language": "python",
   "name": "python3"
  },
  "language_info": {
   "codemirror_mode": {
    "name": "ipython",
    "version": 3
   },
   "file_extension": ".py",
   "mimetype": "text/x-python",
   "name": "python",
   "nbconvert_exporter": "python",
   "pygments_lexer": "ipython3",
   "version": "3.9.12"
  },
  "toc": {
   "base_numbering": 1,
   "nav_menu": {},
   "number_sections": true,
   "sideBar": true,
   "skip_h1_title": false,
   "title_cell": "Table of Contents",
   "title_sidebar": "Contents",
   "toc_cell": false,
   "toc_position": {},
   "toc_section_display": true,
   "toc_window_display": false
  },
  "varInspector": {
   "cols": {
    "lenName": 16,
    "lenType": 16,
    "lenVar": 40
   },
   "kernels_config": {
    "python": {
     "delete_cmd_postfix": "",
     "delete_cmd_prefix": "del ",
     "library": "var_list.py",
     "varRefreshCmd": "print(var_dic_list())"
    },
    "r": {
     "delete_cmd_postfix": ") ",
     "delete_cmd_prefix": "rm(",
     "library": "var_list.r",
     "varRefreshCmd": "cat(var_dic_list()) "
    }
   },
   "types_to_exclude": [
    "module",
    "function",
    "builtin_function_or_method",
    "instance",
    "_Feature"
   ],
   "window_display": false
  }
 },
 "nbformat": 4,
 "nbformat_minor": 5
}
