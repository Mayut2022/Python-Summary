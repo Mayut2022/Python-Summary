{
 "cells": [
  {
   "cell_type": "markdown",
   "id": "af53e3cb",
   "metadata": {},
   "source": [
    "# [利用PYTHON计算偏相关系数](https://blog.csdn.net/qq_32678749/article/details/108125508?ops_request_misc=%257B%2522request%255Fid%2522%253A%2522167980706216800226588856%2522%252C%2522scm%2522%253A%252220140713.130102334..%2522%257D&request_id=167980706216800226588856&biz_id=0&utm_medium=distribute.pc_search_result.none-task-blog-2~all~sobaiduend~default-2-108125508-null-null.142^v76^pc_new_rank,201^v4^add_ask,239^v2^insert_chatgpt&utm_term=python%20%E5%81%8F%E7%9B%B8%E5%85%B3%E7%B3%BB%E6%95%B0&spm=1018.2226.3001.4187)"
   ]
  },
  {
   "cell_type": "code",
   "execution_count": 38,
   "id": "726288c6",
   "metadata": {
    "ExecuteTime": {
     "end_time": "2023-04-23T13:43:17.986823Z",
     "start_time": "2023-04-23T13:43:17.972709Z"
    }
   },
   "outputs": [],
   "source": [
    "import numpy as np\n",
    "import pandas as pd\n",
    "\n",
    "import pingouin as pg"
   ]
  },
  {
   "cell_type": "code",
   "execution_count": 39,
   "id": "90c74b90",
   "metadata": {
    "ExecuteTime": {
     "end_time": "2023-04-23T13:43:18.409459Z",
     "start_time": "2023-04-23T13:43:18.379103Z"
    }
   },
   "outputs": [
    {
     "data": {
      "text/html": [
       "<div>\n",
       "<style scoped>\n",
       "    .dataframe tbody tr th:only-of-type {\n",
       "        vertical-align: middle;\n",
       "    }\n",
       "\n",
       "    .dataframe tbody tr th {\n",
       "        vertical-align: top;\n",
       "    }\n",
       "\n",
       "    .dataframe thead th {\n",
       "        text-align: right;\n",
       "    }\n",
       "</style>\n",
       "<table border=\"1\" class=\"dataframe\">\n",
       "  <thead>\n",
       "    <tr style=\"text-align: right;\">\n",
       "      <th></th>\n",
       "      <th>LAI</th>\n",
       "      <th>SPEI</th>\n",
       "      <th>SM</th>\n",
       "    </tr>\n",
       "  </thead>\n",
       "  <tbody>\n",
       "    <tr>\n",
       "      <th>0</th>\n",
       "      <td>26</td>\n",
       "      <td>86</td>\n",
       "      <td>17</td>\n",
       "    </tr>\n",
       "    <tr>\n",
       "      <th>1</th>\n",
       "      <td>88</td>\n",
       "      <td>58</td>\n",
       "      <td>87</td>\n",
       "    </tr>\n",
       "    <tr>\n",
       "      <th>2</th>\n",
       "      <td>71</td>\n",
       "      <td>4</td>\n",
       "      <td>6</td>\n",
       "    </tr>\n",
       "    <tr>\n",
       "      <th>3</th>\n",
       "      <td>65</td>\n",
       "      <td>64</td>\n",
       "      <td>13</td>\n",
       "    </tr>\n",
       "    <tr>\n",
       "      <th>4</th>\n",
       "      <td>71</td>\n",
       "      <td>11</td>\n",
       "      <td>34</td>\n",
       "    </tr>\n",
       "    <tr>\n",
       "      <th>5</th>\n",
       "      <td>33</td>\n",
       "      <td>79</td>\n",
       "      <td>83</td>\n",
       "    </tr>\n",
       "  </tbody>\n",
       "</table>\n",
       "</div>"
      ],
      "text/plain": [
       "   LAI  SPEI  SM\n",
       "0   26    86  17\n",
       "1   88    58  87\n",
       "2   71     4   6\n",
       "3   65    64  13\n",
       "4   71    11  34\n",
       "5   33    79  83"
      ]
     },
     "execution_count": 39,
     "metadata": {},
     "output_type": "execute_result"
    }
   ],
   "source": [
    "df = pd.DataFrame(np.random.randint(1, 100, 18).reshape((6, 3)))\n",
    "states = [\"LAI\", \"SPEI\", \"SM\"]\n",
    "df.columns = states\n",
    "\n",
    "df"
   ]
  },
  {
   "cell_type": "markdown",
   "id": "c1766c3a",
   "metadata": {},
   "source": [
    "## pingouin包计算偏相关"
   ]
  },
  {
   "cell_type": "code",
   "execution_count": 41,
   "id": "67ba1d54",
   "metadata": {
    "ExecuteTime": {
     "end_time": "2023-04-23T13:43:46.870984Z",
     "start_time": "2023-04-23T13:43:46.827312Z"
    }
   },
   "outputs": [
    {
     "data": {
      "text/html": [
       "<div>\n",
       "<style scoped>\n",
       "    .dataframe tbody tr th:only-of-type {\n",
       "        vertical-align: middle;\n",
       "    }\n",
       "\n",
       "    .dataframe tbody tr th {\n",
       "        vertical-align: top;\n",
       "    }\n",
       "\n",
       "    .dataframe thead th {\n",
       "        text-align: right;\n",
       "    }\n",
       "</style>\n",
       "<table border=\"1\" class=\"dataframe\">\n",
       "  <thead>\n",
       "    <tr style=\"text-align: right;\">\n",
       "      <th></th>\n",
       "      <th>n</th>\n",
       "      <th>r</th>\n",
       "      <th>CI95%</th>\n",
       "      <th>p-val</th>\n",
       "    </tr>\n",
       "  </thead>\n",
       "  <tbody>\n",
       "    <tr>\n",
       "      <th>pearson</th>\n",
       "      <td>6</td>\n",
       "      <td>-0.70652</td>\n",
       "      <td>[-0.98, 0.47]</td>\n",
       "      <td>0.182219</td>\n",
       "    </tr>\n",
       "  </tbody>\n",
       "</table>\n",
       "</div>"
      ],
      "text/plain": [
       "         n        r          CI95%     p-val\n",
       "pearson  6 -0.70652  [-0.98, 0.47]  0.182219"
      ]
     },
     "execution_count": 41,
     "metadata": {},
     "output_type": "execute_result"
    },
    {
     "data": {
      "text/html": [
       "<div>\n",
       "<style scoped>\n",
       "    .dataframe tbody tr th:only-of-type {\n",
       "        vertical-align: middle;\n",
       "    }\n",
       "\n",
       "    .dataframe tbody tr th {\n",
       "        vertical-align: top;\n",
       "    }\n",
       "\n",
       "    .dataframe thead th {\n",
       "        text-align: right;\n",
       "    }\n",
       "</style>\n",
       "<table border=\"1\" class=\"dataframe\">\n",
       "  <thead>\n",
       "    <tr style=\"text-align: right;\">\n",
       "      <th></th>\n",
       "      <th>n</th>\n",
       "      <th>r</th>\n",
       "      <th>CI95%</th>\n",
       "      <th>p-val</th>\n",
       "    </tr>\n",
       "  </thead>\n",
       "  <tbody>\n",
       "    <tr>\n",
       "      <th>pearson</th>\n",
       "      <td>6</td>\n",
       "      <td>0.420043</td>\n",
       "      <td>[-0.73, 0.95]</td>\n",
       "      <td>0.481356</td>\n",
       "    </tr>\n",
       "  </tbody>\n",
       "</table>\n",
       "</div>"
      ],
      "text/plain": [
       "         n         r          CI95%     p-val\n",
       "pearson  6  0.420043  [-0.73, 0.95]  0.481356"
      ]
     },
     "execution_count": 41,
     "metadata": {},
     "output_type": "execute_result"
    }
   ],
   "source": [
    "pcorr1 = pg.partial_corr(data=df, x='LAI', y='SPEI', covar='SM')\n",
    "pcorr2 = pg.partial_corr(data=df, x='LAI', y='SM', covar='SPEI')\n",
    "\n",
    "pcorr1\n",
    "pcorr2"
   ]
  },
  {
   "cell_type": "markdown",
   "id": "45c90c4f",
   "metadata": {},
   "source": [
    "## pandas包计算偏相关"
   ]
  },
  {
   "cell_type": "code",
   "execution_count": 42,
   "id": "5977e223",
   "metadata": {
    "ExecuteTime": {
     "end_time": "2023-04-23T13:43:51.624763Z",
     "start_time": "2023-04-23T13:43:51.603305Z"
    }
   },
   "outputs": [
    {
     "data": {
      "text/html": [
       "<div>\n",
       "<style scoped>\n",
       "    .dataframe tbody tr th:only-of-type {\n",
       "        vertical-align: middle;\n",
       "    }\n",
       "\n",
       "    .dataframe tbody tr th {\n",
       "        vertical-align: top;\n",
       "    }\n",
       "\n",
       "    .dataframe thead th {\n",
       "        text-align: right;\n",
       "    }\n",
       "</style>\n",
       "<table border=\"1\" class=\"dataframe\">\n",
       "  <thead>\n",
       "    <tr style=\"text-align: right;\">\n",
       "      <th></th>\n",
       "      <th>LAI</th>\n",
       "      <th>SPEI</th>\n",
       "      <th>SM</th>\n",
       "    </tr>\n",
       "  </thead>\n",
       "  <tbody>\n",
       "    <tr>\n",
       "      <th>LAI</th>\n",
       "      <td>1.000000</td>\n",
       "      <td>-0.706520</td>\n",
       "      <td>0.420043</td>\n",
       "    </tr>\n",
       "    <tr>\n",
       "      <th>SPEI</th>\n",
       "      <td>-0.706520</td>\n",
       "      <td>1.000000</td>\n",
       "      <td>0.523789</td>\n",
       "    </tr>\n",
       "    <tr>\n",
       "      <th>SM</th>\n",
       "      <td>0.420043</td>\n",
       "      <td>0.523789</td>\n",
       "      <td>1.000000</td>\n",
       "    </tr>\n",
       "  </tbody>\n",
       "</table>\n",
       "</div>"
      ],
      "text/plain": [
       "           LAI      SPEI        SM\n",
       "LAI   1.000000 -0.706520  0.420043\n",
       "SPEI -0.706520  1.000000  0.523789\n",
       "SM    0.420043  0.523789  1.000000"
      ]
     },
     "execution_count": 42,
     "metadata": {},
     "output_type": "execute_result"
    }
   ],
   "source": [
    "df.pcorr()"
   ]
  },
  {
   "cell_type": "markdown",
   "id": "b10eb4fb",
   "metadata": {},
   "source": [
    "### df.rolling()+df.pcorr()计算滑动偏相关"
   ]
  },
  {
   "cell_type": "code",
   "execution_count": 47,
   "id": "dfe6dd9d",
   "metadata": {
    "ExecuteTime": {
     "end_time": "2023-04-23T13:48:06.313757Z",
     "start_time": "2023-04-23T13:48:06.269503Z"
    }
   },
   "outputs": [
    {
     "name": "stdout",
     "output_type": "stream",
     "text": [
      "   LAI  SPEI  SM\n",
      "0   26    86  17\n",
      "1   88    58  87\n",
      "2   71     4   6\n"
     ]
    },
    {
     "data": {
      "text/html": [
       "<div>\n",
       "<style scoped>\n",
       "    .dataframe tbody tr th:only-of-type {\n",
       "        vertical-align: middle;\n",
       "    }\n",
       "\n",
       "    .dataframe tbody tr th {\n",
       "        vertical-align: top;\n",
       "    }\n",
       "\n",
       "    .dataframe thead th {\n",
       "        text-align: right;\n",
       "    }\n",
       "</style>\n",
       "<table border=\"1\" class=\"dataframe\">\n",
       "  <thead>\n",
       "    <tr style=\"text-align: right;\">\n",
       "      <th></th>\n",
       "      <th>LAI</th>\n",
       "      <th>SPEI</th>\n",
       "      <th>SM</th>\n",
       "    </tr>\n",
       "  </thead>\n",
       "  <tbody>\n",
       "    <tr>\n",
       "      <th>LAI</th>\n",
       "      <td>1.000000</td>\n",
       "      <td>0.631826</td>\n",
       "      <td>-0.574972</td>\n",
       "    </tr>\n",
       "    <tr>\n",
       "      <th>SPEI</th>\n",
       "      <td>0.631826</td>\n",
       "      <td>1.000000</td>\n",
       "      <td>-0.270892</td>\n",
       "    </tr>\n",
       "    <tr>\n",
       "      <th>SM</th>\n",
       "      <td>-0.574972</td>\n",
       "      <td>-0.270892</td>\n",
       "      <td>1.000000</td>\n",
       "    </tr>\n",
       "  </tbody>\n",
       "</table>\n",
       "</div>"
      ],
      "text/plain": [
       "           LAI      SPEI        SM\n",
       "LAI   1.000000  0.631826 -0.574972\n",
       "SPEI  0.631826  1.000000 -0.270892\n",
       "SM   -0.574972 -0.270892  1.000000"
      ]
     },
     "execution_count": 47,
     "metadata": {},
     "output_type": "execute_result"
    },
    {
     "name": "stdout",
     "output_type": "stream",
     "text": [
      "   LAI  SPEI  SM\n",
      "1   88    58  87\n",
      "2   71     4   6\n",
      "3   65    64  13\n"
     ]
    },
    {
     "data": {
      "text/html": [
       "<div>\n",
       "<style scoped>\n",
       "    .dataframe tbody tr th:only-of-type {\n",
       "        vertical-align: middle;\n",
       "    }\n",
       "\n",
       "    .dataframe tbody tr th {\n",
       "        vertical-align: top;\n",
       "    }\n",
       "\n",
       "    .dataframe thead th {\n",
       "        text-align: right;\n",
       "    }\n",
       "</style>\n",
       "<table border=\"1\" class=\"dataframe\">\n",
       "  <thead>\n",
       "    <tr style=\"text-align: right;\">\n",
       "      <th></th>\n",
       "      <th>LAI</th>\n",
       "      <th>SPEI</th>\n",
       "      <th>SM</th>\n",
       "    </tr>\n",
       "  </thead>\n",
       "  <tbody>\n",
       "    <tr>\n",
       "      <th>LAI</th>\n",
       "      <td>1.000000</td>\n",
       "      <td>0.768323</td>\n",
       "      <td>-0.905611</td>\n",
       "    </tr>\n",
       "    <tr>\n",
       "      <th>SPEI</th>\n",
       "      <td>0.768323</td>\n",
       "      <td>1.000000</td>\n",
       "      <td>0.424346</td>\n",
       "    </tr>\n",
       "    <tr>\n",
       "      <th>SM</th>\n",
       "      <td>-0.905611</td>\n",
       "      <td>0.424346</td>\n",
       "      <td>1.000000</td>\n",
       "    </tr>\n",
       "  </tbody>\n",
       "</table>\n",
       "</div>"
      ],
      "text/plain": [
       "           LAI      SPEI        SM\n",
       "LAI   1.000000  0.768323 -0.905611\n",
       "SPEI  0.768323  1.000000  0.424346\n",
       "SM   -0.905611  0.424346  1.000000"
      ]
     },
     "execution_count": 47,
     "metadata": {},
     "output_type": "execute_result"
    },
    {
     "name": "stdout",
     "output_type": "stream",
     "text": [
      "   LAI  SPEI  SM\n",
      "2   71     4   6\n",
      "3   65    64  13\n",
      "4   71    11  34\n"
     ]
    },
    {
     "data": {
      "text/html": [
       "<div>\n",
       "<style scoped>\n",
       "    .dataframe tbody tr th:only-of-type {\n",
       "        vertical-align: middle;\n",
       "    }\n",
       "\n",
       "    .dataframe tbody tr th {\n",
       "        vertical-align: top;\n",
       "    }\n",
       "\n",
       "    .dataframe thead th {\n",
       "        text-align: right;\n",
       "    }\n",
       "</style>\n",
       "<table border=\"1\" class=\"dataframe\">\n",
       "  <thead>\n",
       "    <tr style=\"text-align: right;\">\n",
       "      <th></th>\n",
       "      <th>LAI</th>\n",
       "      <th>SPEI</th>\n",
       "      <th>SM</th>\n",
       "    </tr>\n",
       "  </thead>\n",
       "  <tbody>\n",
       "    <tr>\n",
       "      <th>LAI</th>\n",
       "      <td>1.000000</td>\n",
       "      <td>0.848998</td>\n",
       "      <td>-0.366776</td>\n",
       "    </tr>\n",
       "    <tr>\n",
       "      <th>SPEI</th>\n",
       "      <td>0.848998</td>\n",
       "      <td>1.000000</td>\n",
       "      <td>-0.180179</td>\n",
       "    </tr>\n",
       "    <tr>\n",
       "      <th>SM</th>\n",
       "      <td>-0.366776</td>\n",
       "      <td>-0.180179</td>\n",
       "      <td>1.000000</td>\n",
       "    </tr>\n",
       "  </tbody>\n",
       "</table>\n",
       "</div>"
      ],
      "text/plain": [
       "           LAI      SPEI        SM\n",
       "LAI   1.000000  0.848998 -0.366776\n",
       "SPEI  0.848998  1.000000 -0.180179\n",
       "SM   -0.366776 -0.180179  1.000000"
      ]
     },
     "execution_count": 47,
     "metadata": {},
     "output_type": "execute_result"
    },
    {
     "name": "stdout",
     "output_type": "stream",
     "text": [
      "   LAI  SPEI  SM\n",
      "3   65    64  13\n",
      "4   71    11  34\n",
      "5   33    79  83\n"
     ]
    },
    {
     "data": {
      "text/html": [
       "<div>\n",
       "<style scoped>\n",
       "    .dataframe tbody tr th:only-of-type {\n",
       "        vertical-align: middle;\n",
       "    }\n",
       "\n",
       "    .dataframe tbody tr th {\n",
       "        vertical-align: top;\n",
       "    }\n",
       "\n",
       "    .dataframe thead th {\n",
       "        text-align: right;\n",
       "    }\n",
       "</style>\n",
       "<table border=\"1\" class=\"dataframe\">\n",
       "  <thead>\n",
       "    <tr style=\"text-align: right;\">\n",
       "      <th></th>\n",
       "      <th>LAI</th>\n",
       "      <th>SPEI</th>\n",
       "      <th>SM</th>\n",
       "    </tr>\n",
       "  </thead>\n",
       "  <tbody>\n",
       "    <tr>\n",
       "      <th>LAI</th>\n",
       "      <td>1.000000</td>\n",
       "      <td>0.196723</td>\n",
       "      <td>0.693123</td>\n",
       "    </tr>\n",
       "    <tr>\n",
       "      <th>SPEI</th>\n",
       "      <td>0.196723</td>\n",
       "      <td>1.000000</td>\n",
       "      <td>0.570381</td>\n",
       "    </tr>\n",
       "    <tr>\n",
       "      <th>SM</th>\n",
       "      <td>0.693123</td>\n",
       "      <td>0.570381</td>\n",
       "      <td>1.000000</td>\n",
       "    </tr>\n",
       "  </tbody>\n",
       "</table>\n",
       "</div>"
      ],
      "text/plain": [
       "           LAI      SPEI        SM\n",
       "LAI   1.000000  0.196723  0.693123\n",
       "SPEI  0.196723  1.000000  0.570381\n",
       "SM    0.693123  0.570381  1.000000"
      ]
     },
     "execution_count": 47,
     "metadata": {},
     "output_type": "execute_result"
    },
    {
     "data": {
      "text/plain": [
       "array([       nan,        nan, 0.63182604, 0.76832274, 0.84899847,\n",
       "       0.19672275])"
      ]
     },
     "execution_count": 47,
     "metadata": {},
     "output_type": "execute_result"
    },
    {
     "data": {
      "text/plain": [
       "array([        nan,         nan, -0.57497162, -0.9056115 , -0.36677613,\n",
       "        0.69312301])"
      ]
     },
     "execution_count": 47,
     "metadata": {},
     "output_type": "execute_result"
    }
   ],
   "source": [
    "win = 3\n",
    "pcorr1 = np.zeros(6)\n",
    "pcorr2 = np.zeros(6)\n",
    "for  i, a  in enumerate(df.rolling(3)):\n",
    "    b = a.copy()\n",
    "    if i+1>=win:\n",
    "        print(b)\n",
    "        corr  = b.pcorr()\n",
    "        corr\n",
    "        pcorr1[i] = corr.iloc[0, 1]  \n",
    "        pcorr2[i] = corr.iloc[0, 2]  \n",
    "    else:\n",
    "        pcorr1[i] = np.nan \n",
    "        pcorr2[i] = np.nan\n",
    "\n",
    "pcorr1\n",
    "pcorr2"
   ]
  },
  {
   "cell_type": "code",
   "execution_count": null,
   "id": "48b02a25",
   "metadata": {},
   "outputs": [],
   "source": []
  }
 ],
 "metadata": {
  "kernelspec": {
   "display_name": "Python 3 (ipykernel)",
   "language": "python",
   "name": "python3"
  },
  "language_info": {
   "codemirror_mode": {
    "name": "ipython",
    "version": 3
   },
   "file_extension": ".py",
   "mimetype": "text/x-python",
   "name": "python",
   "nbconvert_exporter": "python",
   "pygments_lexer": "ipython3",
   "version": "3.9.12"
  },
  "toc": {
   "base_numbering": 1,
   "nav_menu": {},
   "number_sections": true,
   "sideBar": true,
   "skip_h1_title": false,
   "title_cell": "Table of Contents",
   "title_sidebar": "Contents",
   "toc_cell": false,
   "toc_position": {},
   "toc_section_display": true,
   "toc_window_display": false
  },
  "varInspector": {
   "cols": {
    "lenName": 16,
    "lenType": 16,
    "lenVar": 40
   },
   "kernels_config": {
    "python": {
     "delete_cmd_postfix": "",
     "delete_cmd_prefix": "del ",
     "library": "var_list.py",
     "varRefreshCmd": "print(var_dic_list())"
    },
    "r": {
     "delete_cmd_postfix": ") ",
     "delete_cmd_prefix": "rm(",
     "library": "var_list.r",
     "varRefreshCmd": "cat(var_dic_list()) "
    }
   },
   "types_to_exclude": [
    "module",
    "function",
    "builtin_function_or_method",
    "instance",
    "_Feature"
   ],
   "window_display": false
  }
 },
 "nbformat": 4,
 "nbformat_minor": 5
}
