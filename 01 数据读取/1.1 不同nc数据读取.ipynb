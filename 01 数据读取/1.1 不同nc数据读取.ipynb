{
 "cells": [
  {
   "cell_type": "code",
   "execution_count": 1,
   "id": "a39e3ae0",
   "metadata": {
    "ExecuteTime": {
     "end_time": "2022-06-06T12:51:09.498942Z",
     "start_time": "2022-06-06T12:51:09.455713Z"
    }
   },
   "outputs": [],
   "source": [
    "import netCDF4 as nc\n"
   ]
  },
  {
   "cell_type": "markdown",
   "id": "1124d12e",
   "metadata": {},
   "source": [
    "### ERA-hours data"
   ]
  },
  {
   "cell_type": "code",
   "execution_count": 2,
   "id": "d0b2c854",
   "metadata": {
    "ExecuteTime": {
     "end_time": "2022-06-06T12:53:07.302748Z",
     "start_time": "2022-06-06T12:53:07.286859Z"
    },
    "collapsed": true
   },
   "outputs": [
    {
     "name": "stdout",
     "output_type": "stream",
     "text": [
      "dict_keys(['longitude', 'latitude', 'time', 'tp'])\n",
      "<class 'netCDF4._netCDF4.Variable'>\n",
      "int32 time(time)\n",
      "    units: hours since 1900-01-01 00:00:00.0\n",
      "    long_name: time\n",
      "    calendar: gregorian\n",
      "unlimited dimensions: \n",
      "current shape = (24,)\n",
      "filling on, default _FillValue of -2147483647 used\n"
     ]
    }
   ],
   "source": [
    "inpath = (r'D:/adaptor.mars.internal-1654503548.5877626-23973-15-116a2881-a1fc-4066-a9d9-0e6b1ce89576.nc')\n",
    "\n",
    "with nc.Dataset(inpath) as f:\n",
    "    print(f.variables.keys())\n",
    "    tp=(f.variables['tp'][0, :, :])\n",
    "    lat=(f.variables['latitude'][:])\n",
    "    lon=(f.variables['longitude'][:])\n",
    "    #print(f.variables['spei'])\n",
    "    print(f.variables['time'])\n",
    "    time=(f.variables['time'][:])\n",
    "    t=nc.num2date(f.variables['time'][:],'hours since 1900-01-01 00:00:0.0').data"
   ]
  },
  {
   "cell_type": "markdown",
   "id": "032d9eaa",
   "metadata": {},
   "source": [
    "###  SPEI-base数据"
   ]
  },
  {
   "cell_type": "code",
   "execution_count": 4,
   "id": "e94f331e",
   "metadata": {
    "ExecuteTime": {
     "end_time": "2022-06-06T12:53:59.004908Z",
     "start_time": "2022-06-06T12:53:58.691896Z"
    },
    "collapsed": true
   },
   "outputs": [
    {
     "name": "stdout",
     "output_type": "stream",
     "text": [
      "dict_keys(['lon', 'lat', 'time', 'spei'])\n",
      "<class 'netCDF4._netCDF4.Variable'>\n",
      "float32 spei(time, lat, lon)\n",
      "    units: z-values\n",
      "    _FillValue: 1e+30\n",
      "    long_name: Standardized Precipitation-Evapotranspiration Index\n",
      "unlimited dimensions: \n",
      "current shape = (1440, 360, 720)\n",
      "filling on\n",
      "<class 'netCDF4._netCDF4.Variable'>\n",
      "float64 time(time)\n",
      "    units: days since 1900-1-1\n",
      "    long_name: time\n",
      "    limits: 380, 11306\n",
      "unlimited dimensions: \n",
      "current shape = (1440,)\n",
      "filling on, default _FillValue of 9.969209968386869e+36 used\n"
     ]
    }
   ],
   "source": [
    "inpath2 = (r'D:/SPEI_base/spei02.nc')\n",
    "with nc.Dataset(inpath2) as f:\n",
    "    #print(f.variables.keys())\n",
    "    tp=(f.variables['spei'][0, :, :])\n",
    "    lat=(f.variables['lat'][:])\n",
    "    lon=(f.variables['lon'][:])\n",
    "    #print(f.variables['spei'])\n",
    "    #print(f.variables['time'])\n",
    "    time=(f.variables['time'][:])\n",
    "    t=nc.num2date(f.variables['time'][:],'days since 1900-01-01 00:00:0.0').data"
   ]
  },
  {
   "cell_type": "code",
   "execution_count": null,
   "id": "440f72a3",
   "metadata": {},
   "outputs": [],
   "source": []
  }
 ],
 "metadata": {
  "kernelspec": {
   "display_name": "Python 3 (ipykernel)",
   "language": "python",
   "name": "python3"
  },
  "language_info": {
   "codemirror_mode": {
    "name": "ipython",
    "version": 3
   },
   "file_extension": ".py",
   "mimetype": "text/x-python",
   "name": "python",
   "nbconvert_exporter": "python",
   "pygments_lexer": "ipython3",
   "version": "3.9.12"
  },
  "toc": {
   "base_numbering": 1,
   "nav_menu": {},
   "number_sections": true,
   "sideBar": true,
   "skip_h1_title": false,
   "title_cell": "Table of Contents",
   "title_sidebar": "Contents",
   "toc_cell": false,
   "toc_position": {},
   "toc_section_display": true,
   "toc_window_display": false
  },
  "varInspector": {
   "cols": {
    "lenName": 16,
    "lenType": 16,
    "lenVar": 40
   },
   "kernels_config": {
    "python": {
     "delete_cmd_postfix": "",
     "delete_cmd_prefix": "del ",
     "library": "var_list.py",
     "varRefreshCmd": "print(var_dic_list())"
    },
    "r": {
     "delete_cmd_postfix": ") ",
     "delete_cmd_prefix": "rm(",
     "library": "var_list.r",
     "varRefreshCmd": "cat(var_dic_list()) "
    }
   },
   "types_to_exclude": [
    "module",
    "function",
    "builtin_function_or_method",
    "instance",
    "_Feature"
   ],
   "window_display": false
  }
 },
 "nbformat": 4,
 "nbformat_minor": 5
}
