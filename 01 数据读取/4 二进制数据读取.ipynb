{
 "cells": [
  {
   "cell_type": "markdown",
   "id": "1efa2340",
   "metadata": {},
   "source": [
    "# 常见的数据类型（d, f常用）\n",
    "1. 整数：\n",
    "d：有符号十进制整数，例如 42。\n",
    "x：十六进制整数，例如 0x2A。\n",
    "o：八进制整数，例如 052。\n",
    "b：二进制整数，例如 0b101010。\n",
    "\n",
    "2. 浮点数：\n",
    "f：浮点数，例如 3.141592653589793。\n",
    "\n",
    "3. 字符串：\n",
    "s：字符串，例如 'Hello, World!'。\n",
    "\n",
    "4. 布尔值：\n",
    "?：布尔值，例如 True 或 False。\n",
    "\n",
    "5. 复数：\n",
    "D：复数，例如 3.14+2.71j。"
   ]
  },
  {
   "cell_type": "markdown",
   "id": "84956542",
   "metadata": {},
   "source": [
    "# 写入二进制文件\n",
    "> 1. \"wb\" w为write，b为binary  \n",
    "[open函数官网API](https://docs.python.org/3/library/functions.html?highlight=open#open)\n",
    "\n",
    "> 2. np.tofile() __可能（尚不确定）__存在一些问题  \n",
    "参数'sep'默认为空字符串，二进制文件不被分隔"
   ]
  },
  {
   "cell_type": "code",
   "execution_count": null,
   "id": "c50f1763",
   "metadata": {},
   "outputs": [],
   "source": [
    "data = np.array(\n",
    "with open(f'{new_path}', 'wb') as f:\n",
    "        f.write(data_new)\n",
    "        data.tofile(f, format='%d', dtype=np.int16) ## 默认不分割"
   ]
  },
  {
   "cell_type": "markdown",
   "id": "84d94c39",
   "metadata": {},
   "source": [
    "# 读取二进制文件\n",
    "> 读取时首先要知道数据类型/所占字节数（如 np.int16, np.int32；Fortran默认读取字节数是4字节），以及数据结构（如数组的维度）  \n",
    "字节数=位数/8，如\"np.int16\"是一个16位整数类型，占据2字节的存储空间\n",
    "\n",
    "> 1. open()函数读取\n",
    "\n",
    "> 2. numpy读取  \n",
    "注意设置dtype"
   ]
  },
  {
   "cell_type": "code",
   "execution_count": 1,
   "id": "5c618fe6",
   "metadata": {
    "ExecuteTime": {
     "end_time": "2023-08-31T02:37:37.100338Z",
     "start_time": "2023-08-31T02:37:36.866462Z"
    },
    "collapsed": true
   },
   "outputs": [
    {
     "ename": "FileNotFoundError",
     "evalue": "[Errno 2] No such file or directory: 'E:/LAI4g/GIMMS_LAI4g_1982_2020_Excel/GIMMS_LAI4g_V10_19820101.bin'",
     "output_type": "error",
     "traceback": [
      "\u001b[1;31m---------------------------------------------------------------------------\u001b[0m",
      "\u001b[1;31mFileNotFoundError\u001b[0m                         Traceback (most recent call last)",
      "Input \u001b[1;32mIn [1]\u001b[0m, in \u001b[0;36m<cell line: 4>\u001b[1;34m()\u001b[0m\n\u001b[0;32m      1\u001b[0m path \u001b[38;5;241m=\u001b[39m \u001b[38;5;124m'\u001b[39m\u001b[38;5;124mE:/LAI4g/GIMMS_LAI4g_1982_2020_Excel/GIMMS_LAI4g_V10_19820101.bin\u001b[39m\u001b[38;5;124m'\u001b[39m\n\u001b[0;32m      3\u001b[0m \u001b[38;5;66;03m# open()函数读取\u001b[39;00m\n\u001b[1;32m----> 4\u001b[0m \u001b[38;5;28;01mwith\u001b[39;00m \u001b[38;5;28;43mopen\u001b[39;49m\u001b[43m(\u001b[49m\u001b[43mpath\u001b[49m\u001b[43m,\u001b[49m\u001b[43m \u001b[49m\u001b[38;5;124;43m'\u001b[39;49m\u001b[38;5;124;43mrb\u001b[39;49m\u001b[38;5;124;43m'\u001b[39;49m\u001b[43m)\u001b[49m \u001b[38;5;28;01mas\u001b[39;00m file:\n\u001b[0;32m      5\u001b[0m     binary_data \u001b[38;5;241m=\u001b[39m file\u001b[38;5;241m.\u001b[39mread()\n\u001b[0;32m      7\u001b[0m \u001b[38;5;66;03m########## numpy读取\u001b[39;00m\n",
      "\u001b[1;31mFileNotFoundError\u001b[0m: [Errno 2] No such file or directory: 'E:/LAI4g/GIMMS_LAI4g_1982_2020_Excel/GIMMS_LAI4g_V10_19820101.bin'"
     ]
    }
   ],
   "source": [
    "path = 'E:/LAI4g/GIMMS_LAI4g_1982_2020_Excel/GIMMS_LAI4g_V10_19820101.bin'\n",
    "\n",
    "# open()函数读取\n",
    "with open(path, 'rb') as file:\n",
    "    binary_data = file.read()\n",
    "\n",
    "########## numpy读取\n",
    "array_1d = np.fromfile(path, dtype=np.int32) \n",
    "data = array_1d.reshape(2160, 4320)"
   ]
  },
  {
   "cell_type": "markdown",
   "id": "eff80597",
   "metadata": {},
   "source": [
    "# 其他问题\n",
    "> np.uint16，u代表unsigned，即无符号\n",
    "\n",
    "> __np.int16 和 np.uint16 的范围是不同的，因为它们分别是带符号和无符号的16位整数数据类型__  \n",
    "a. np.int16 是带符号的16位整数数据类型，表示范围是从 -32768 到 32767。它可以存储负数和正数，其中一位用于表示符号（正负号），所以剩下的15位用于表示数值。因此，np.int16 的范围是从 -2^15 到 2^15 - 1。  \n",
    "b. np.uint16 是无符号的16位整数数据类型，表示范围是从 0 到 65535。它只能存储非负整数，因为没有一位用于表示符号，所有16位都用于表示数值。因此，np.uint16 的范围是从 0 到 2^16 - 1。"
   ]
  },
  {
   "cell_type": "code",
   "execution_count": null,
   "id": "0e44c328",
   "metadata": {},
   "outputs": [],
   "source": []
  }
 ],
 "metadata": {
  "kernelspec": {
   "display_name": "Python 3 (ipykernel)",
   "language": "python",
   "name": "python3"
  },
  "language_info": {
   "codemirror_mode": {
    "name": "ipython",
    "version": 3
   },
   "file_extension": ".py",
   "mimetype": "text/x-python",
   "name": "python",
   "nbconvert_exporter": "python",
   "pygments_lexer": "ipython3",
   "version": "3.9.12"
  },
  "toc": {
   "base_numbering": 1,
   "nav_menu": {},
   "number_sections": true,
   "sideBar": true,
   "skip_h1_title": false,
   "title_cell": "Table of Contents",
   "title_sidebar": "Contents",
   "toc_cell": false,
   "toc_position": {},
   "toc_section_display": true,
   "toc_window_display": false
  },
  "varInspector": {
   "cols": {
    "lenName": 16,
    "lenType": 16,
    "lenVar": 40
   },
   "kernels_config": {
    "python": {
     "delete_cmd_postfix": "",
     "delete_cmd_prefix": "del ",
     "library": "var_list.py",
     "varRefreshCmd": "print(var_dic_list())"
    },
    "r": {
     "delete_cmd_postfix": ") ",
     "delete_cmd_prefix": "rm(",
     "library": "var_list.r",
     "varRefreshCmd": "cat(var_dic_list()) "
    }
   },
   "types_to_exclude": [
    "module",
    "function",
    "builtin_function_or_method",
    "instance",
    "_Feature"
   ],
   "window_display": false
  }
 },
 "nbformat": 4,
 "nbformat_minor": 5
}
