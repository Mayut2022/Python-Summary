{
 "cells": [
  {
   "cell_type": "markdown",
   "id": "31424593",
   "metadata": {},
   "source": [
    "# netCDF4读取\n",
    "1. f.variables 得到变量列表，其中key为变量名，values为nc格式的数据\n",
    "2. 时间格式转换：nc.num2date()/datetime/pandas\n",
    "3. 属性常用关键字，在读取文件时会自动计算"
   ]
  },
  {
   "cell_type": "code",
   "execution_count": 1,
   "id": "42923bed",
   "metadata": {},
   "outputs": [],
   "source": [
    "import netCDF4 as nc\n",
    "import numpy as np"
   ]
  },
  {
   "cell_type": "markdown",
   "id": "29d0de9a",
   "metadata": {},
   "source": [
    "## f.variables"
   ]
  },
  {
   "cell_type": "code",
   "execution_count": null,
   "id": "728c2855",
   "metadata": {},
   "outputs": [],
   "source": [
    "inpath = (fr\"E:/ERA5/adaptor.mars.internal-1706248324.889576-22324-13-f47c138e-3d82-4878-813e-99a8405dd3d5.nc\")\n",
    "with nc.Dataset(inpath, mode='r') as f:\n",
    "    var_dict = f.variables\n",
    "    var_keys = var_dict.keys()\n",
    "    for key, var in var_dict.items():\n",
    "        data = var[:] \n",
    "    \n",
    "    for attr_name in var.ncattrs():\n",
    "        attr_value = getattr(var, attr_name)\n",
    "        print(attr_name, attr_value)\n",
    "\n",
    "\n",
    "########### 常用复制-粘贴\n",
    "# print(f.variables.keys())\n",
    "# var_keys = list(var_dict.keys())\n",
    "# print(f.variables[var_name], \"\\n\")\n",
    "# lat = (f.variables['latitude'][:])\n",
    "# lon = (f.variables['longitude'][:])\n",
    "# level = (f.variables['level'][:])\n",
    "# time = (f.variables['time'][:])"
   ]
  },
  {
   "cell_type": "markdown",
   "id": "cddd9c77",
   "metadata": {},
   "source": [
    "## 时间格式转换\n",
    "> 其中datetime仅可进行单个元素的转换，支持float类型  \n",
    "> float 和 array of float的区别是：float32 视为单个浮点数的数据类型，而 array of float32 是一种容器，用于存储多个 float32 值的数据结构。  \n",
    "举个例子，假设你有一个名为 temperature 的变量，它存储一个月份内每天的温度值。如果你使用 float32 数据类型，你只能存储一个温度值，而如果你使用 array of float32 数据结构，你可以存储一个包含一个月份内所有温度值的数组。"
   ]
  },
  {
   "cell_type": "code",
   "execution_count": 2,
   "id": "66ab7ea9",
   "metadata": {},
   "outputs": [],
   "source": [
    "import cftime\n",
    "from datetime import datetime, timedelta\n",
    "import pandas as pd"
   ]
  },
  {
   "cell_type": "code",
   "execution_count": null,
   "id": "dc147cf5",
   "metadata": {},
   "outputs": [],
   "source": [
    "### cftime\n",
    "t = nc.num2date(time, 'hours since 1900-01-01 00:00:0.0').data\n",
    "\n",
    "### datetime\n",
    "# 定义参考时间（1900-01-01 00:00:00.0）\n",
    "reference_time = datetime(1900, 1, 1, 0, 0, 0)\n",
    "# 计算时间偏移量\n",
    "time_offset = timedelta(hours=float(time[0]))\n",
    "# 计算转换后的日期时间\n",
    "converted_time = reference_time + time_offset\n",
    "\n",
    "### pandas\n",
    "time_series = pd.to_datetime(time, unit='h', origin='1900-01-01')"
   ]
  },
  {
   "cell_type": "markdown",
   "id": "4b118ead",
   "metadata": {},
   "source": [
    "## 常用属性关键字\n",
    "> **scale_factor 和 add_offset** 属性的目的是在存储和传输数据时进行数据压缩和优化，在读取数据时会进行自动校正！  \n",
    "**scale_factor** 允许将原始数据乘以一个因子，从而将数据的范围缩放到更小的范围内。这样可以降低数据的存储需求和传输带宽。例如，如果原始数据表示温度，范围是从 -100 到 100，但你可以使用 scale_factor 将数据缩放到 -1 到 1 的范围内，以减小存储和传输的数据量。  \n",
    "**add_offset** 允许将一个固定值添加到原始数据上，从而进行偏移。这对于调整数据的零点或基准值非常有用。例如，如果原始数据表示海拔高度，以米为单位，但你可以使用 add_offset 将数据的零点偏移到海平面上，以便存储和传输相对海平面的高度。\n",
    "\n",
    "1. scale_factor：缩放因子，用于将数据乘以一个固定值进行缩放。\n",
    "2. add_offset：偏移量，用于将一个固定值添加到数据上进行偏移。\n",
    "3. units：变量的单位。\n",
    "4. long_name：变量的长名称或描述。\n",
    "5. standard_name：变量的标准名称，根据特定的科学标准命名。\n",
    "6. valid_min：变量的有效最小值。\n",
    "7. valid_max：变量的有效最大值。\n",
    "8. missing_value：缺失值，用于标识数据中缺失或无效的值。\n",
    "9. fill_value：填充值，用于标识数据中未填充的位置。\n",
    "10. calendar：时间变量的日历类型，例如 \"standard\"、\"gregorian\" 等。\n",
    "11. time_units：时间变量的单位，例如 \"seconds since 1970-01-01\"。\n",
    "12. coordinates：变量所依赖的坐标变量。"
   ]
  },
  {
   "cell_type": "code",
   "execution_count": null,
   "id": "70f17058",
   "metadata": {},
   "outputs": [],
   "source": []
  },
  {
   "cell_type": "code",
   "execution_count": null,
   "id": "17257c64",
   "metadata": {},
   "outputs": [],
   "source": []
  },
  {
   "cell_type": "markdown",
   "id": "cd8fd6fd",
   "metadata": {},
   "source": [
    "# Xarray读取"
   ]
  },
  {
   "cell_type": "code",
   "execution_count": null,
   "id": "22523c18",
   "metadata": {},
   "outputs": [],
   "source": []
  }
 ],
 "metadata": {
  "kernelspec": {
   "display_name": "Python 3 (ipykernel)",
   "language": "python",
   "name": "python3"
  },
  "language_info": {
   "codemirror_mode": {
    "name": "ipython",
    "version": 3
   },
   "file_extension": ".py",
   "mimetype": "text/x-python",
   "name": "python",
   "nbconvert_exporter": "python",
   "pygments_lexer": "ipython3",
   "version": "3.10.4"
  },
  "toc": {
   "base_numbering": 1,
   "nav_menu": {},
   "number_sections": true,
   "sideBar": true,
   "skip_h1_title": false,
   "title_cell": "Table of Contents",
   "title_sidebar": "Contents",
   "toc_cell": false,
   "toc_position": {},
   "toc_section_display": true,
   "toc_window_display": false
  },
  "varInspector": {
   "cols": {
    "lenName": 16,
    "lenType": 16,
    "lenVar": 40
   },
   "kernels_config": {
    "python": {
     "delete_cmd_postfix": "",
     "delete_cmd_prefix": "del ",
     "library": "var_list.py",
     "varRefreshCmd": "print(var_dic_list())"
    },
    "r": {
     "delete_cmd_postfix": ") ",
     "delete_cmd_prefix": "rm(",
     "library": "var_list.r",
     "varRefreshCmd": "cat(var_dic_list()) "
    }
   },
   "oldHeight": 281.844,
   "position": {
    "height": "179px",
    "left": "706.667px",
    "right": "20px",
    "top": "124px",
    "width": "489px"
   },
   "types_to_exclude": [
    "module",
    "function",
    "builtin_function_or_method",
    "instance",
    "_Feature"
   ],
   "varInspector_section_display": "none",
   "window_display": false
  },
  "vscode": {
   "interpreter": {
    "hash": "c45877ca8879bd6de1f8ecfa1b07a6092539ffb29764f4d7259821dd181faedb"
   }
  }
 },
 "nbformat": 4,
 "nbformat_minor": 5
}
