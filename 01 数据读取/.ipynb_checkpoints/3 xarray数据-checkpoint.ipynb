{
 "cells": [
  {
   "cell_type": "markdown",
   "id": "ac35def5",
   "metadata": {},
   "source": [
    "## xarray应用\n",
    "1. xarray核心对象的创建：DataArray和Dataset\n",
    "2. 取值和赋值"
   ]
  },
  {
   "cell_type": "code",
   "execution_count": 32,
   "id": "89579b70",
   "metadata": {},
   "outputs": [],
   "source": [
    "import netCDF4 as nc\n",
    "import xarray as xr\n",
    "import numpy as np"
   ]
  },
  {
   "cell_type": "code",
   "execution_count": 33,
   "id": "02a50f76",
   "metadata": {},
   "outputs": [],
   "source": [
    "f=nc.Dataset(r'D:\\study\\DATA\\JH\\rumei\\hgt_early_200.nc',mode='r')"
   ]
  },
  {
   "cell_type": "code",
   "execution_count": 34,
   "id": "8cc592e4",
   "metadata": {},
   "outputs": [
    {
     "name": "stdout",
     "output_type": "stream",
     "text": [
      "<class 'netCDF4._netCDF4.Variable'>\n",
      "float32 hgt1(year, lat, lon)\n",
      "    long_name: mean Daily Geopotential height\n",
      "    units: m\n",
      "    missing_value: -9.96921e+36\n",
      "    level: 200hPa\n",
      "    day: 6-5\n",
      "unlimited dimensions: year\n",
      "current shape = (6, 73, 144)\n",
      "filling on, default _FillValue of 9.969209968386869e+36 used\n"
     ]
    },
    {
     "name": "stderr",
     "output_type": "stream",
     "text": [
      "<ipython-input-34-0595ad52ae44>:3: UserWarning: WARNING: missing_value not used since it\n",
      "cannot be safely cast to variable data type\n",
      "  hgt1=(f.variables['hgt1'][:])\n"
     ]
    }
   ],
   "source": [
    "lat=(f.variables['lat'][:])\n",
    "lon=(f.variables['lon'][:])\n",
    "hgt1=(f.variables['hgt1'][:])\n",
    "print(f.variables['hgt1'])"
   ]
  },
  {
   "cell_type": "markdown",
   "id": "a96f4e90",
   "metadata": {},
   "source": [
    "### DataArray和Dataset\n",
    "- xarray的核心是两个数据对象：DataArray和Dataset，DataArray存储数组，Dataset表示多个DataArray的集合"
   ]
  },
  {
   "cell_type": "code",
   "execution_count": null,
   "id": "12af8280",
   "metadata": {},
   "outputs": [],
   "source": []
  },
  {
   "cell_type": "markdown",
   "id": "76e2da98",
   "metadata": {},
   "source": [
    "### xarray按经纬度提取特定部分代码\n",
    "- DataArray对象需要现场创建"
   ]
  },
  {
   "cell_type": "code",
   "execution_count": 35,
   "id": "84175377",
   "metadata": {},
   "outputs": [],
   "source": [
    "HGT1=hgt1.mean(axis=0)"
   ]
  },
  {
   "cell_type": "code",
   "execution_count": 36,
   "id": "39cb117e",
   "metadata": {},
   "outputs": [],
   "source": [
    "def exact(u):\n",
    "    longitude=np.arange(0,360,2.5)\n",
    "    latitude=np.arange(90,-90.1,-2.5)\n",
    "    u=xr.DataArray(u,dims=['y','x'],coords=[latitude,longitude])\n",
    "    u=u.loc[40:0,60:160]\n",
    "    return u\n",
    "\n",
    "HGT1=exact(HGT1)"
   ]
  },
  {
   "cell_type": "code",
   "execution_count": 37,
   "id": "5c050b6f",
   "metadata": {},
   "outputs": [
    {
     "name": "stdout",
     "output_type": "stream",
     "text": [
      "(17, 41)\n"
     ]
    }
   ],
   "source": [
    "print(HGT1.shape)"
   ]
  },
  {
   "cell_type": "code",
   "execution_count": null,
   "id": "41fa9686",
   "metadata": {},
   "outputs": [],
   "source": []
  }
 ],
 "metadata": {
  "kernelspec": {
   "display_name": "Python 3 (ipykernel)",
   "language": "python",
   "name": "python3"
  },
  "language_info": {
   "codemirror_mode": {
    "name": "ipython",
    "version": 3
   },
   "file_extension": ".py",
   "mimetype": "text/x-python",
   "name": "python",
   "nbconvert_exporter": "python",
   "pygments_lexer": "ipython3",
   "version": "3.9.12"
  },
  "toc": {
   "base_numbering": 1,
   "nav_menu": {},
   "number_sections": true,
   "sideBar": true,
   "skip_h1_title": false,
   "title_cell": "Table of Contents",
   "title_sidebar": "Contents",
   "toc_cell": false,
   "toc_position": {},
   "toc_section_display": true,
   "toc_window_display": false
  },
  "varInspector": {
   "cols": {
    "lenName": 16,
    "lenType": 16,
    "lenVar": 40
   },
   "kernels_config": {
    "python": {
     "delete_cmd_postfix": "",
     "delete_cmd_prefix": "del ",
     "library": "var_list.py",
     "varRefreshCmd": "print(var_dic_list())"
    },
    "r": {
     "delete_cmd_postfix": ") ",
     "delete_cmd_prefix": "rm(",
     "library": "var_list.r",
     "varRefreshCmd": "cat(var_dic_list()) "
    }
   },
   "types_to_exclude": [
    "module",
    "function",
    "builtin_function_or_method",
    "instance",
    "_Feature"
   ],
   "window_display": false
  }
 },
 "nbformat": 4,
 "nbformat_minor": 5
}
