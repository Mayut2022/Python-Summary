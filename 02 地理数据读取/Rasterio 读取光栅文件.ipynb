{
 "cells": [
  {
   "cell_type": "markdown",
   "id": "8b226eb6",
   "metadata": {},
   "source": [
    "[Rasterio官方文档 quick start](https://rasterio.readthedocs.io/en/latest/index.html)"
   ]
  },
  {
   "cell_type": "code",
   "execution_count": 1,
   "id": "22e7bf52",
   "metadata": {},
   "outputs": [],
   "source": [
    "import rasterio"
   ]
  },
  {
   "cell_type": "code",
   "execution_count": 2,
   "id": "00e2edbc",
   "metadata": {},
   "outputs": [
    {
     "ename": "RasterioIOError",
     "evalue": "D:/study/Gosif_Data/GOSIF_2020001.tif: No such file or directory",
     "output_type": "error",
     "traceback": [
      "\u001b[1;31m---------------------------------------------------------------------------\u001b[0m",
      "\u001b[1;31mCPLE_OpenFailedError\u001b[0m                      Traceback (most recent call last)",
      "\u001b[1;32mrasterio\\_base.pyx\u001b[0m in \u001b[0;36mrasterio._base.DatasetBase.__init__\u001b[1;34m()\u001b[0m\n",
      "\u001b[1;32mrasterio\\_shim.pyx\u001b[0m in \u001b[0;36mrasterio._shim.open_dataset\u001b[1;34m()\u001b[0m\n",
      "\u001b[1;32mrasterio\\_err.pyx\u001b[0m in \u001b[0;36mrasterio._err.exc_wrap_pointer\u001b[1;34m()\u001b[0m\n",
      "\u001b[1;31mCPLE_OpenFailedError\u001b[0m: D:/study/Gosif_Data/GOSIF_2020001.tif: No such file or directory",
      "\nDuring handling of the above exception, another exception occurred:\n",
      "\u001b[1;31mRasterioIOError\u001b[0m                           Traceback (most recent call last)",
      "\u001b[1;32m<ipython-input-2-080005921935>\u001b[0m in \u001b[0;36m<module>\u001b[1;34m\u001b[0m\n\u001b[1;32m----> 1\u001b[1;33m \u001b[0mdataset\u001b[0m \u001b[1;33m=\u001b[0m \u001b[0mrasterio\u001b[0m\u001b[1;33m.\u001b[0m\u001b[0mopen\u001b[0m\u001b[1;33m(\u001b[0m\u001b[1;34m'D:\\study\\Gosif_Data\\GOSIF_2020001.tif'\u001b[0m\u001b[1;33m)\u001b[0m\u001b[1;33m\u001b[0m\u001b[1;33m\u001b[0m\u001b[0m\n\u001b[0m",
      "\u001b[1;32m~\\anaconda3\\lib\\site-packages\\rasterio\\env.py\u001b[0m in \u001b[0;36mwrapper\u001b[1;34m(*args, **kwds)\u001b[0m\n\u001b[0;32m    435\u001b[0m \u001b[1;33m\u001b[0m\u001b[0m\n\u001b[0;32m    436\u001b[0m         \u001b[1;32mwith\u001b[0m \u001b[0menv_ctor\u001b[0m\u001b[1;33m(\u001b[0m\u001b[0msession\u001b[0m\u001b[1;33m=\u001b[0m\u001b[0msession\u001b[0m\u001b[1;33m)\u001b[0m\u001b[1;33m:\u001b[0m\u001b[1;33m\u001b[0m\u001b[1;33m\u001b[0m\u001b[0m\n\u001b[1;32m--> 437\u001b[1;33m             \u001b[1;32mreturn\u001b[0m \u001b[0mf\u001b[0m\u001b[1;33m(\u001b[0m\u001b[1;33m*\u001b[0m\u001b[0margs\u001b[0m\u001b[1;33m,\u001b[0m \u001b[1;33m**\u001b[0m\u001b[0mkwds\u001b[0m\u001b[1;33m)\u001b[0m\u001b[1;33m\u001b[0m\u001b[1;33m\u001b[0m\u001b[0m\n\u001b[0m\u001b[0;32m    438\u001b[0m \u001b[1;33m\u001b[0m\u001b[0m\n\u001b[0;32m    439\u001b[0m     \u001b[1;32mreturn\u001b[0m \u001b[0mwrapper\u001b[0m\u001b[1;33m\u001b[0m\u001b[1;33m\u001b[0m\u001b[0m\n",
      "\u001b[1;32m~\\anaconda3\\lib\\site-packages\\rasterio\\__init__.py\u001b[0m in \u001b[0;36mopen\u001b[1;34m(fp, mode, driver, width, height, count, crs, transform, dtype, nodata, sharing, **kwargs)\u001b[0m\n\u001b[0;32m    226\u001b[0m         \u001b[1;31m# None.\u001b[0m\u001b[1;33m\u001b[0m\u001b[1;33m\u001b[0m\u001b[1;33m\u001b[0m\u001b[0m\n\u001b[0;32m    227\u001b[0m         \u001b[1;32mif\u001b[0m \u001b[0mmode\u001b[0m \u001b[1;33m==\u001b[0m \u001b[1;34m'r'\u001b[0m\u001b[1;33m:\u001b[0m\u001b[1;33m\u001b[0m\u001b[1;33m\u001b[0m\u001b[0m\n\u001b[1;32m--> 228\u001b[1;33m             \u001b[0ms\u001b[0m \u001b[1;33m=\u001b[0m \u001b[0mDatasetReader\u001b[0m\u001b[1;33m(\u001b[0m\u001b[0mpath\u001b[0m\u001b[1;33m,\u001b[0m \u001b[0mdriver\u001b[0m\u001b[1;33m=\u001b[0m\u001b[0mdriver\u001b[0m\u001b[1;33m,\u001b[0m \u001b[0msharing\u001b[0m\u001b[1;33m=\u001b[0m\u001b[0msharing\u001b[0m\u001b[1;33m,\u001b[0m \u001b[1;33m**\u001b[0m\u001b[0mkwargs\u001b[0m\u001b[1;33m)\u001b[0m\u001b[1;33m\u001b[0m\u001b[1;33m\u001b[0m\u001b[0m\n\u001b[0m\u001b[0;32m    229\u001b[0m         \u001b[1;32melif\u001b[0m \u001b[0mmode\u001b[0m \u001b[1;33m==\u001b[0m \u001b[1;34m\"r+\"\u001b[0m\u001b[1;33m:\u001b[0m\u001b[1;33m\u001b[0m\u001b[1;33m\u001b[0m\u001b[0m\n\u001b[0;32m    230\u001b[0m             s = get_writer_for_path(path, driver=driver)(\n",
      "\u001b[1;32mrasterio\\_base.pyx\u001b[0m in \u001b[0;36mrasterio._base.DatasetBase.__init__\u001b[1;34m()\u001b[0m\n",
      "\u001b[1;31mRasterioIOError\u001b[0m: D:/study/Gosif_Data/GOSIF_2020001.tif: No such file or directory"
     ]
    }
   ],
   "source": [
    "dataset = rasterio.open('D:\\study\\Gosif_Data\\GOSIF_2020001.tif')"
   ]
  },
  {
   "cell_type": "code",
   "execution_count": null,
   "id": "a84c604b",
   "metadata": {},
   "outputs": [],
   "source": [
    "dataset.count #bands"
   ]
  },
  {
   "cell_type": "code",
   "execution_count": 6,
   "id": "de927365",
   "metadata": {},
   "outputs": [
    {
     "data": {
      "text/plain": [
       "BoundingBox(left=-180.0, bottom=-90.0, right=180.0, top=90.0)"
      ]
     },
     "execution_count": 6,
     "metadata": {},
     "output_type": "execute_result"
    }
   ],
   "source": [
    "dataset.bounds "
   ]
  },
  {
   "cell_type": "code",
   "execution_count": 7,
   "id": "15382637",
   "metadata": {},
   "outputs": [
    {
     "data": {
      "text/plain": [
       "'GTiff'"
      ]
     },
     "execution_count": 7,
     "metadata": {},
     "output_type": "execute_result"
    }
   ],
   "source": [
    "dataset.driver"
   ]
  },
  {
   "cell_type": "code",
   "execution_count": 8,
   "id": "e56c31b6",
   "metadata": {},
   "outputs": [
    {
     "data": {
      "text/plain": [
       "Affine(0.05, 0.0, -180.0,\n",
       "       0.0, -0.05, 90.0)"
      ]
     },
     "execution_count": 8,
     "metadata": {},
     "output_type": "execute_result"
    }
   ],
   "source": [
    "dataset.transform"
   ]
  },
  {
   "cell_type": "code",
   "execution_count": 10,
   "id": "94823847",
   "metadata": {},
   "outputs": [
    {
     "data": {
      "text/plain": [
       "(1,)"
      ]
     },
     "execution_count": 10,
     "metadata": {},
     "output_type": "execute_result"
    }
   ],
   "source": [
    "# Data from a raster band can be accessed by the band’s index number. Following the GDAL convention, bands are indexed from 1.\n",
    "dataset.indexes"
   ]
  },
  {
   "cell_type": "code",
   "execution_count": 11,
   "id": "2efb2514",
   "metadata": {},
   "outputs": [],
   "source": [
    "band1 = dataset.read(1)"
   ]
  },
  {
   "cell_type": "code",
   "execution_count": 12,
   "id": "274f0de9",
   "metadata": {},
   "outputs": [
    {
     "name": "stdout",
     "output_type": "stream",
     "text": [
      "(3600, 7200)\n"
     ]
    }
   ],
   "source": [
    "print(band1.shape)"
   ]
  },
  {
   "cell_type": "code",
   "execution_count": 13,
   "id": "6857fb2f",
   "metadata": {},
   "outputs": [
    {
     "name": "stdout",
     "output_type": "stream",
     "text": [
      "[[32767 32767 32767 ... 32767 32767 32767]\n",
      " [32767 32767 32767 ... 32767 32767 32767]\n",
      " [32767 32767 32767 ... 32767 32767 32767]\n",
      " ...\n",
      " [32767 32767 32767 ... 32767 32767 32767]\n",
      " [32767 32767 32767 ... 32767 32767 32767]\n",
      " [32767 32767 32767 ... 32767 32767 32767]]\n"
     ]
    }
   ],
   "source": [
    "print(band1)"
   ]
  },
  {
   "cell_type": "code",
   "execution_count": 6,
   "id": "2ca74c3c",
   "metadata": {},
   "outputs": [
    {
     "name": "stdout",
     "output_type": "stream",
     "text": [
      "该栅格数据的基本数据集信息（这些信息都是以数据集属性的形式表示的）：\n",
      "数据格式：GTiff\n",
      "波段数目：1\n",
      "影像宽度：7200\n",
      "影像高度：3600\n",
      "地理范围：BoundingBox(left=-180.0, bottom=-90.0, right=180.0, top=90.0)\n",
      "反射变换参数（六参数模型）：\n",
      " | 0.05, 0.00,-180.00|\n",
      "| 0.00,-0.05, 90.00|\n",
      "| 0.00, 0.00, 1.00|\n",
      "投影定义：EPSG:4326\n",
      "第一波段的最大值：32767\n",
      "第一波段的最小值：-647\n",
      "第一波段的平均值：25700.157925655865\n",
      "(投影坐标-180.0, 90.0)对应的行列号是(0, 0)\n",
      "行列号(0, 0)对应的中心投影坐标是(-179.975, 89.975)\n",
      "行列号(0, 0)对应的左上角投影坐标是(-180.0, 90.0)\n",
      "-------------------------------------------------\n",
      "行列号(3600, 7200)对应的中心投影坐标是(180.025, -90.025)\n"
     ]
    },
    {
     "name": "stderr",
     "output_type": "stream",
     "text": [
      "<ipython-input-6-03fc49e0a8cb>:26: DeprecationWarning: Right multiplication will be prohibited in version 3.0\n",
      "  x, y = (row, col) * ds.transform\n"
     ]
    }
   ],
   "source": [
    "import rasterio\n",
    "\n",
    "with rasterio.open('D:\\study\\Gosif_Data\\GOSIF_2020.tif') as ds:\n",
    "    print('该栅格数据的基本数据集信息（这些信息都是以数据集属性的形式表示的）：')\n",
    "    print(f'数据格式：{ds.driver}')\n",
    "    print(f'波段数目：{ds.count}')\n",
    "    print(f'影像宽度：{ds.width}')\n",
    "    print(f'影像高度：{ds.height}')\n",
    "    print(f'地理范围：{ds.bounds}')\n",
    "    print(f'反射变换参数（六参数模型）：\\n {ds.transform}')\n",
    "    print(f'投影定义：{ds.crs}')\n",
    "    # 获取第一个波段数据，跟GDAL一样索引从1开始\n",
    "    # 直接获得numpy.ndarray类型的二维数组表示，如果read()函数不加参数，则得到所有波段（第一个维度是波段）\n",
    "    band1 = ds.read(1)\n",
    "    print(f'第一波段的最大值：{band1.max()}')\n",
    "    print(f'第一波段的最小值：{band1.min()}')\n",
    "    print(f'第一波段的平均值：{band1.mean()}')\n",
    "    # 根据地理坐标得到行列号\n",
    "    x, y = (ds.bounds.left , ds.bounds.top )  # 距离左上角东300米，南300米的投影坐标\n",
    "    row, col = ds.index(x, y)  # 对应的行列号\n",
    "    print(f'(投影坐标{x}, {y})对应的行列号是({row}, {col})')\n",
    "    # 根据行列号得到地理坐标\n",
    "    x, y = ds.xy(row, col)  # 中心点的坐标\n",
    "    print(f'行列号({row}, {col})对应的中心投影坐标是({x}, {y})')\n",
    "    # 那么如何得到对应点左上角的信息\n",
    "    x, y = (row, col) * ds.transform\n",
    "    print(f'行列号({row}, {col})对应的左上角投影坐标是({x}, {y})')\n",
    "    \n",
    "    print('-------------------------------------------------')\n",
    "    x2, y2 = (ds.bounds.right, ds.bounds.bottom)\n",
    "    row2, col2 = ds.index(x2, y2)  # 对应的行列号\n",
    "    x2, y2 = ds.xy(row2, col2)  # 中心点的坐标\n",
    "    print(f'行列号({row2}, {col2})对应的中心投影坐标是({x2}, {y2})')"
   ]
  },
  {
   "cell_type": "code",
   "execution_count": null,
   "id": "ebdc2872",
   "metadata": {},
   "outputs": [],
   "source": []
  }
 ],
 "metadata": {
  "kernelspec": {
   "display_name": "Python 3 (ipykernel)",
   "language": "python",
   "name": "python3"
  },
  "language_info": {
   "codemirror_mode": {
    "name": "ipython",
    "version": 3
   },
   "file_extension": ".py",
   "mimetype": "text/x-python",
   "name": "python",
   "nbconvert_exporter": "python",
   "pygments_lexer": "ipython3",
   "version": "3.9.12"
  },
  "toc": {
   "base_numbering": 1,
   "nav_menu": {},
   "number_sections": true,
   "sideBar": true,
   "skip_h1_title": false,
   "title_cell": "Table of Contents",
   "title_sidebar": "Contents",
   "toc_cell": false,
   "toc_position": {},
   "toc_section_display": true,
   "toc_window_display": false
  },
  "varInspector": {
   "cols": {
    "lenName": 16,
    "lenType": 16,
    "lenVar": 40
   },
   "kernels_config": {
    "python": {
     "delete_cmd_postfix": "",
     "delete_cmd_prefix": "del ",
     "library": "var_list.py",
     "varRefreshCmd": "print(var_dic_list())"
    },
    "r": {
     "delete_cmd_postfix": ") ",
     "delete_cmd_prefix": "rm(",
     "library": "var_list.r",
     "varRefreshCmd": "cat(var_dic_list()) "
    }
   },
   "types_to_exclude": [
    "module",
    "function",
    "builtin_function_or_method",
    "instance",
    "_Feature"
   ],
   "window_display": false
  }
 },
 "nbformat": 4,
 "nbformat_minor": 5
}
