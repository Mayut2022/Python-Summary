{
 "cells": [
  {
   "cell_type": "code",
   "execution_count": 1,
   "id": "98133ee4",
   "metadata": {},
   "outputs": [],
   "source": [
    "import cv2 as cv\n",
    "import numpy as np"
   ]
  },
  {
   "cell_type": "code",
   "execution_count": 2,
   "id": "30fd9ab7",
   "metadata": {},
   "outputs": [],
   "source": [
    "#第二个参数是通道数和位深的参数，\n",
    "#IMREAD_UNCHANGED = -1#不进行转化，比如保存为了16位的图片，读取出来仍然为16位。\n",
    "#IMREAD_GRAYSCALE = 0#进行转化为灰度图，比如保存为了16位的图片，读取出来为8位，类型为CV_8UC1。\n",
    "#IMREAD_COLOR = 1#进行转化为RGB三通道图像，图像深度转为8位\n",
    "#IMREAD_ANYDEPTH = 2#保持图像深度不变，进行转化为灰度图。\n",
    "#IMREAD_ANYCOLOR = 4#若图像通道数小于等于3，则保持原通道数不变；若通道数大于3则只取取前三个通道。图像深度转为8位"
   ]
  },
  {
   "cell_type": "code",
   "execution_count": 3,
   "id": "55e07668",
   "metadata": {},
   "outputs": [],
   "source": [
    "img = cv.imread(\"D:/study/GOSIF_2000057.tif\",2)"
   ]
  },
  {
   "cell_type": "code",
   "execution_count": 4,
   "id": "b9212ca5",
   "metadata": {},
   "outputs": [
    {
     "name": "stdout",
     "output_type": "stream",
     "text": [
      "[[32767 32767 32767 ... 32767 32767 32767]\n",
      " [32767 32767 32767 ... 32767 32767 32767]\n",
      " [32767 32767 32767 ... 32767 32767 32767]\n",
      " ...\n",
      " [32767 32767 32767 ... 32767 32767 32767]\n",
      " [32767 32767 32767 ... 32767 32767 32767]\n",
      " [32767 32767 32767 ... 32767 32767 32767]]\n"
     ]
    }
   ],
   "source": [
    "print(img)\n",
    "#print(img.shape)\n",
    "#print(img.dtype)"
   ]
  },
  {
   "cell_type": "code",
   "execution_count": 5,
   "id": "1f538cd5",
   "metadata": {},
   "outputs": [],
   "source": [
    "#创建窗口并显示图像\n",
    "cv.namedWindow(\"Image\")\n",
    "cv.imshow(\"Image\",img)\n",
    "cv.waitKey(0)\n",
    "#释放窗口\n",
    "cv.destroyAllWindows() "
   ]
  },
  {
   "cell_type": "code",
   "execution_count": null,
   "id": "03764cd3",
   "metadata": {},
   "outputs": [],
   "source": []
  }
 ],
 "metadata": {
  "kernelspec": {
   "display_name": "Python 3",
   "language": "python",
   "name": "python3"
  },
  "language_info": {
   "codemirror_mode": {
    "name": "ipython",
    "version": 3
   },
   "file_extension": ".py",
   "mimetype": "text/x-python",
   "name": "python",
   "nbconvert_exporter": "python",
   "pygments_lexer": "ipython3",
   "version": "3.8.8"
  }
 },
 "nbformat": 4,
 "nbformat_minor": 5
}
