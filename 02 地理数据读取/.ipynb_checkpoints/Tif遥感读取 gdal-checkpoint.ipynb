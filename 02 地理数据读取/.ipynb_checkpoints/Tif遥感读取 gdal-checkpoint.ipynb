{
 "cells": [
  {
   "cell_type": "markdown",
   "id": "dc9ff494",
   "metadata": {},
   "source": [
    "### osgeo gdal 读取tif"
   ]
  },
  {
   "cell_type": "code",
   "execution_count": 1,
   "id": "98d00f6a",
   "metadata": {},
   "outputs": [],
   "source": [
    "from osgeo import gdal"
   ]
  },
  {
   "cell_type": "code",
   "execution_count": 2,
   "id": "5e37ff6b",
   "metadata": {},
   "outputs": [],
   "source": [
    "dataset = gdal.Open('D:/study/GOSIF_2000057.tif')"
   ]
  },
  {
   "cell_type": "code",
   "execution_count": 7,
   "id": "c34586ae",
   "metadata": {},
   "outputs": [],
   "source": [
    "im_width = dataset.RasterXSize\n",
    "im_height = dataset.RasterYSize\n",
    "im_bands = dataset.RasterCount \n",
    "im_data = dataset.ReadAsArray(0,0,im_width,im_height)"
   ]
  },
  {
   "cell_type": "code",
   "execution_count": 6,
   "id": "aa89e2d5",
   "metadata": {},
   "outputs": [
    {
     "name": "stdout",
     "output_type": "stream",
     "text": [
      "7200\n",
      "3600\n"
     ]
    }
   ],
   "source": [
    "print(im_width)\n",
    "print(im_height)"
   ]
  },
  {
   "cell_type": "code",
   "execution_count": 8,
   "id": "8f1af8cc",
   "metadata": {},
   "outputs": [
    {
     "name": "stdout",
     "output_type": "stream",
     "text": [
      "(3600, 7200)\n"
     ]
    }
   ],
   "source": [
    "print(im_data.shape)"
   ]
  },
  {
   "cell_type": "markdown",
   "id": "cb51f607",
   "metadata": {},
   "source": [
    "### gdal 重投影"
   ]
  },
  {
   "cell_type": "code",
   "execution_count": null,
   "id": "9372a5c2",
   "metadata": {},
   "outputs": [],
   "source": [
    "from osgeo import gdal\n",
    "\n",
    "inpath= r'D:\\study\\GLASS-GLC\\GLASS-GLC_7classes_2015.tif'\n",
    "dataset = gdal.Open('D:\\study\\GLASS-GLC\\GLASS-GLC_7classes_2015.tif')\n",
    "\n",
    "im_width = dataset.RasterXSize\n",
    "im_height = dataset.RasterYSize\n",
    "im_bands = dataset.RasterCount \n",
    "im_data = dataset.ReadAsArray(0,0,im_width,im_height)\n",
    "\n",
    "ds = dataset.GetSubDatasets()\n",
    "\n",
    "gdal.Warp('D:\\study\\GLASS-GLC\\GLASS-GLC_7classes_2015_reprojection.tif', inpath, dstSRS='EPSG:4326')"
   ]
  }
 ],
 "metadata": {
  "kernelspec": {
   "display_name": "Python 3 (ipykernel)",
   "language": "python",
   "name": "python3"
  },
  "language_info": {
   "codemirror_mode": {
    "name": "ipython",
    "version": 3
   },
   "file_extension": ".py",
   "mimetype": "text/x-python",
   "name": "python",
   "nbconvert_exporter": "python",
   "pygments_lexer": "ipython3",
   "version": "3.9.12"
  },
  "toc": {
   "base_numbering": 1,
   "nav_menu": {},
   "number_sections": true,
   "sideBar": true,
   "skip_h1_title": false,
   "title_cell": "Table of Contents",
   "title_sidebar": "Contents",
   "toc_cell": false,
   "toc_position": {},
   "toc_section_display": true,
   "toc_window_display": false
  },
  "varInspector": {
   "cols": {
    "lenName": 16,
    "lenType": 16,
    "lenVar": 40
   },
   "kernels_config": {
    "python": {
     "delete_cmd_postfix": "",
     "delete_cmd_prefix": "del ",
     "library": "var_list.py",
     "varRefreshCmd": "print(var_dic_list())"
    },
    "r": {
     "delete_cmd_postfix": ") ",
     "delete_cmd_prefix": "rm(",
     "library": "var_list.r",
     "varRefreshCmd": "cat(var_dic_list()) "
    }
   },
   "types_to_exclude": [
    "module",
    "function",
    "builtin_function_or_method",
    "instance",
    "_Feature"
   ],
   "window_display": false
  }
 },
 "nbformat": 4,
 "nbformat_minor": 5
}
