{
 "cells": [
  {
   "cell_type": "markdown",
   "id": "8b226eb6",
   "metadata": {},
   "source": [
    "[Rasterio官方文档 quick start](https://rasterio.readthedocs.io/en/latest/index.html)"
   ]
  },
  {
   "cell_type": "code",
   "execution_count": 3,
   "id": "22e7bf52",
   "metadata": {},
   "outputs": [],
   "source": [
    "import rasterio"
   ]
  },
  {
   "cell_type": "code",
   "execution_count": 4,
   "id": "00e2edbc",
   "metadata": {},
   "outputs": [],
   "source": [
    "dataset = rasterio.open('D:\\study\\Gosif_Data\\GOSIF_2020001.tif')"
   ]
  },
  {
   "cell_type": "code",
   "execution_count": 5,
   "id": "a84c604b",
   "metadata": {},
   "outputs": [
    {
     "data": {
      "text/plain": [
       "1"
      ]
     },
     "execution_count": 5,
     "metadata": {},
     "output_type": "execute_result"
    }
   ],
   "source": [
    "dataset.count #bands"
   ]
  },
  {
   "cell_type": "code",
   "execution_count": 6,
   "id": "de927365",
   "metadata": {},
   "outputs": [
    {
     "data": {
      "text/plain": [
       "BoundingBox(left=-180.0, bottom=-90.0, right=180.0, top=90.0)"
      ]
     },
     "execution_count": 6,
     "metadata": {},
     "output_type": "execute_result"
    }
   ],
   "source": [
    "dataset.bounds "
   ]
  },
  {
   "cell_type": "code",
   "execution_count": 7,
   "id": "15382637",
   "metadata": {},
   "outputs": [
    {
     "data": {
      "text/plain": [
       "'GTiff'"
      ]
     },
     "execution_count": 7,
     "metadata": {},
     "output_type": "execute_result"
    }
   ],
   "source": [
    "dataset.driver"
   ]
  },
  {
   "cell_type": "code",
   "execution_count": 8,
   "id": "e56c31b6",
   "metadata": {},
   "outputs": [
    {
     "data": {
      "text/plain": [
       "Affine(0.05, 0.0, -180.0,\n",
       "       0.0, -0.05, 90.0)"
      ]
     },
     "execution_count": 8,
     "metadata": {},
     "output_type": "execute_result"
    }
   ],
   "source": [
    "dataset.transform"
   ]
  },
  {
   "cell_type": "code",
   "execution_count": 10,
   "id": "94823847",
   "metadata": {},
   "outputs": [
    {
     "data": {
      "text/plain": [
       "(1,)"
      ]
     },
     "execution_count": 10,
     "metadata": {},
     "output_type": "execute_result"
    }
   ],
   "source": [
    "# Data from a raster band can be accessed by the band’s index number. Following the GDAL convention, bands are indexed from 1.\n",
    "dataset.indexes"
   ]
  },
  {
   "cell_type": "code",
   "execution_count": 11,
   "id": "2efb2514",
   "metadata": {},
   "outputs": [],
   "source": [
    "band1 = dataset.read(1)"
   ]
  },
  {
   "cell_type": "code",
   "execution_count": 12,
   "id": "274f0de9",
   "metadata": {},
   "outputs": [
    {
     "name": "stdout",
     "output_type": "stream",
     "text": [
      "(3600, 7200)\n"
     ]
    }
   ],
   "source": [
    "print(band1.shape)"
   ]
  },
  {
   "cell_type": "code",
   "execution_count": 13,
   "id": "6857fb2f",
   "metadata": {},
   "outputs": [
    {
     "name": "stdout",
     "output_type": "stream",
     "text": [
      "[[32767 32767 32767 ... 32767 32767 32767]\n",
      " [32767 32767 32767 ... 32767 32767 32767]\n",
      " [32767 32767 32767 ... 32767 32767 32767]\n",
      " ...\n",
      " [32767 32767 32767 ... 32767 32767 32767]\n",
      " [32767 32767 32767 ... 32767 32767 32767]\n",
      " [32767 32767 32767 ... 32767 32767 32767]]\n"
     ]
    }
   ],
   "source": [
    "print(band1)"
   ]
  },
  {
   "cell_type": "code",
   "execution_count": 1,
   "id": "2ca74c3c",
   "metadata": {},
   "outputs": [
    {
     "name": "stdout",
     "output_type": "stream",
     "text": [
      "该栅格数据的基本数据集信息（这些信息都是以数据集属性的形式表示的）：\n",
      "数据格式：GTiff\n",
      "波段数目：1\n",
      "影像宽度：7200\n",
      "影像高度：3600\n",
      "地理范围：BoundingBox(left=-180.0, bottom=-90.0, right=180.0, top=90.0)\n",
      "反射变换参数（六参数模型）：\n",
      " | 0.05, 0.00,-180.00|\n",
      "| 0.00,-0.05, 90.00|\n",
      "| 0.00, 0.00, 1.00|\n",
      "投影定义：EPSG:4326\n",
      "第一波段的最大值：32767\n",
      "第一波段的最小值：-32768\n",
      "第一波段的平均值：25623.61214386574\n",
      "(投影坐标120.0, -210.0)对应的行列号是(6000, 6000)\n",
      "行列号(6000, 6000)对应的中心投影坐标是(120.025, -210.025)\n",
      "行列号(6000, 6000)对应的左上角投影坐标是(120.0, -210.0)\n"
     ]
    },
    {
     "name": "stderr",
     "output_type": "stream",
     "text": [
      "<ipython-input-1-aa1ba33b5888>:26: DeprecationWarning: Right multiplication will be prohibited in version 3.0\n",
      "  x, y = (row, col) * ds.transform\n"
     ]
    }
   ],
   "source": [
    "import rasterio\n",
    "\n",
    "with rasterio.open('D:\\study\\Gosif_Data\\GOSIF_2020001.tif') as ds:\n",
    "    print('该栅格数据的基本数据集信息（这些信息都是以数据集属性的形式表示的）：')\n",
    "    print(f'数据格式：{ds.driver}')\n",
    "    print(f'波段数目：{ds.count}')\n",
    "    print(f'影像宽度：{ds.width}')\n",
    "    print(f'影像高度：{ds.height}')\n",
    "    print(f'地理范围：{ds.bounds}')\n",
    "    print(f'反射变换参数（六参数模型）：\\n {ds.transform}')\n",
    "    print(f'投影定义：{ds.crs}')\n",
    "    # 获取第一个波段数据，跟GDAL一样索引从1开始\n",
    "    # 直接获得numpy.ndarray类型的二维数组表示，如果read()函数不加参数，则得到所有波段（第一个维度是波段）\n",
    "    band1 = ds.read(1)\n",
    "    print(f'第一波段的最大值：{band1.max()}')\n",
    "    print(f'第一波段的最小值：{band1.min()}')\n",
    "    print(f'第一波段的平均值：{band1.mean()}')\n",
    "    # 根据地理坐标得到行列号\n",
    "    x, y = (ds.bounds.left + 300, ds.bounds.top - 300)  # 距离左上角东300米，南300米的投影坐标\n",
    "    row, col = ds.index(x, y)  # 对应的行列号\n",
    "    print(f'(投影坐标{x}, {y})对应的行列号是({row}, {col})')\n",
    "    # 根据行列号得到地理坐标\n",
    "    x, y = ds.xy(row, col)  # 中心点的坐标\n",
    "    print(f'行列号({row}, {col})对应的中心投影坐标是({x}, {y})')\n",
    "    # 那么如何得到对应点左上角的信息\n",
    "    x, y = (row, col) * ds.transform\n",
    "    print(f'行列号({row}, {col})对应的左上角投影坐标是({x}, {y})')"
   ]
  },
  {
   "cell_type": "code",
   "execution_count": null,
   "id": "ebdc2872",
   "metadata": {},
   "outputs": [],
   "source": []
  }
 ],
 "metadata": {
  "kernelspec": {
   "display_name": "Python 3",
   "language": "python",
   "name": "python3"
  },
  "language_info": {
   "codemirror_mode": {
    "name": "ipython",
    "version": 3
   },
   "file_extension": ".py",
   "mimetype": "text/x-python",
   "name": "python",
   "nbconvert_exporter": "python",
   "pygments_lexer": "ipython3",
   "version": "3.8.8"
  }
 },
 "nbformat": 4,
 "nbformat_minor": 5
}
