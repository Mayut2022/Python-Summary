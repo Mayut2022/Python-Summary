{
 "cells": [
  {
   "cell_type": "code",
   "execution_count": 1,
   "id": "a8369e9a",
   "metadata": {},
   "outputs": [],
   "source": [
    "import numpy as np\n",
    "import geopandas as gpd\n",
    "import xarray as xr\n",
    "import salem\n",
    "import cartopy.crs as ccrs\n",
    "import cartopy.feature as cfeat\n",
    "from cartopy.mpl.gridliner import LONGITUDE_FORMATTER, LATITUDE_FORMATTER\n",
    "from cartopy.mpl.ticker import LongitudeFormatter,LatitudeFormatter\n",
    "from cartopy.io.shapereader import Reader, natural_earth\n",
    "import matplotlib.pyplot as plt\n",
    "import os"
   ]
  },
  {
   "cell_type": "markdown",
   "id": "ef8fd61d",
   "metadata": {},
   "source": [
    "> with……as……表示打开一个文件后自动关闭"
   ]
  },
  {
   "cell_type": "code",
   "execution_count": 2,
   "id": "1ccc2c4d",
   "metadata": {},
   "outputs": [],
   "source": [
    "def GetVar(file_names, DatasetName):\n",
    "    with  xr.open_dataset(file_names) as ncf:\n",
    "        print(ncf)\n",
    "        getvars = ncf[DatasetName][:,:]\n",
    "        print(\"File closed\")\n",
    "        return getvars "
   ]
  },
  {
   "cell_type": "code",
   "execution_count": 3,
   "id": "55470f03",
   "metadata": {},
   "outputs": [],
   "source": [
    "def CreateMap(fig):\n",
    "    proj = ccrs.LambertConformal(central_longitude=110, central_latitude=35, \n",
    "                             standard_parallels=(30, 60))  # 创建坐标系\n",
    "\n",
    "    ax = fig.subplots(1, 1, subplot_kw={'projection': proj})  \n",
    "    # --设置shp\n",
    "    provinces = cfeat.ShapelyFeature(\n",
    "        Reader(shp_path).geometries(),\n",
    "        ccrs.PlateCarree(), \n",
    "        edgecolor='k',\n",
    "        facecolor='none',\n",
    "    )\n",
    "    ax.add_feature(provinces, linewidth=0.6, zorder=2)\n",
    "    # --设置范围\n",
    "    ax.set_extent([80, 135, 15, 55], crs=ccrs.PlateCarree())\n",
    "    # --关闭边框\n",
    "    ax.spines['geo'].set_visible(False)\n",
    "    # --设置刻度\n",
    "    ax.tick_params(\n",
    "        axis='both', \n",
    "        labelsize=5, \n",
    "        direction='out',\n",
    "        labelbottom=False, \n",
    "        labeltop=False, \n",
    "        labelleft=False, \n",
    "        labelright=False\n",
    "    )\n",
    "    # --设置小地图\n",
    "    left, bottom, width, height = 0.675, 0.13, 0.23, 0.27\n",
    "    ax2 = fig.add_axes(\n",
    "        [left, bottom, width, height], \n",
    "        projection=ccrs.PlateCarree()\n",
    "    )\n",
    "    provinces = cfeat.ShapelyFeature(\n",
    "        Reader(shp_path).geometries(),\n",
    "        ccrs.PlateCarree(), \n",
    "        edgecolor='k',\n",
    "        facecolor='gray',\n",
    "    )\n",
    "    ax2.add_feature(provinces, linewidth=0.6, zorder=2)\n",
    "    ax2.set_extent([105, 125, 0, 25], crs=ccrs.PlateCarree())    \n",
    "    return ax"
   ]
  },
  {
   "cell_type": "markdown",
   "id": "239d763e",
   "metadata": {},
   "source": [
    "> \"china\"是初始的默认参数，调用函数时，实参\"Test\"覆盖了默认的参数值（在函数调用中明确指定的实参优先级高于默认参数的值）。  \n",
    "默认值用于在调用函数时省略对应的实参：\n",
    "\n",
    "```python\n",
    "MaskRegion(2)\n",
    "```\n"
   ]
  },
  {
   "cell_type": "code",
   "execution_count": 6,
   "id": "61c58133",
   "metadata": {},
   "outputs": [],
   "source": [
    "def MaskRegion(ds, region='china'): #相当于将region赋值为‘China’，传入的是['江苏省']\n",
    "    shp = gpd.read_file(shp_path).set_index('省')\n",
    "    if region != 'china':\n",
    "        shp = shp.loc[region, :] ###\n",
    "    ds_mask = ds.salem.roi(shape=shp)\n",
    "    return ds_mask"
   ]
  },
  {
   "cell_type": "markdown",
   "id": "ad2e9b29",
   "metadata": {},
   "source": [
    "### 经测试和MaskRegion效果相同 [Geopandas.clip官方文档](https://geopandas.org/en/stable/gallery/plot_clip.html?highlight=clip)\n",
    "> ###后面为不一样的语句"
   ]
  },
  {
   "cell_type": "code",
   "execution_count": 7,
   "id": "78b633eb",
   "metadata": {},
   "outputs": [],
   "source": [
    "def MaskRegion2(ds):\n",
    "    shp = gpd.read_file(shp_path).set_index('省')\n",
    "    JS=gdf[gdf['省']=='江苏省'] ###\n",
    "    a=gpd.clip(gdf, JS)\n",
    "    ds_mask = ds.salem.roi(shape=a)\n",
    "    return ds_mask"
   ]
  },
  {
   "cell_type": "code",
   "execution_count": 5,
   "id": "67f8518e",
   "metadata": {},
   "outputs": [],
   "source": [
    "def DrawFig(ds, levels, cmap, outpath='.',savename='save.png'):\n",
    "    fig = plt.figure(figsize=(10, 7), dpi=130)  # 创建页面\n",
    "    \n",
    "    im = ds.plot.contourf(\n",
    "        ax=CreateMap(fig), \n",
    "        cmap=cmap, \n",
    "        transform=ccrs.PlateCarree(),\n",
    "        levels=levels,\n",
    "        add_colorbar=False\n",
    "    )\n",
    "    cbar_ax = fig.add_axes([0.13, 0.17, 0.3, 0.012])\n",
    "    cb = fig.colorbar(im, cax=cbar_ax, orientation='horizontal')\n",
    "    #plt.savefig(f'{outpath}{os.sep}maskmap.png')\n",
    "    plt.savefig(savename)"
   ]
  },
  {
   "cell_type": "markdown",
   "id": "2edf9468",
   "metadata": {},
   "source": [
    "> 如果执行的是此程序，__name__=__main__；如果引用的模块，__name__=程序名，则不运行下面程序，一般运用于测试"
   ]
  },
  {
   "cell_type": "code",
   "execution_count": null,
   "id": "cbb0eacd",
   "metadata": {},
   "outputs": [],
   "source": [
    "#D:/study/MaskoutProvince/ExampleData.nc\n",
    "#D:/study/MaskoutProvince/province.shp\n",
    "if __name__ == \"__main__\":\n",
    "    file_name2 = r\"./ExampleData.nc\"\n",
    "    ds = GetVar(file_name2, \"pre\")\n",
    "    levels = np.arange(0, 20, 2)\n",
    "    cmap = 'Spectral_r'\n",
    "    shp_path = r'./province.shp' \n",
    "    \n",
    "    ds_mask = MaskRegion(ds,[\"江苏省\"])\n",
    "    print(\"ds_masked\")\n",
    "    \n",
    "    DrawFig(ds, levels, cmap, savename=\"unmaskdata.png\")\n",
    "    DrawFig(ds_mask, levels, cmap, savename=\"maskdata.png\")\n",
    "    \n",
    "    ds = np.array(ds)\n",
    "    ds_mask = np.array(ds_mask)"
   ]
  }
 ],
 "metadata": {
  "kernelspec": {
   "display_name": "Python 3 (ipykernel)",
   "language": "python",
   "name": "python3"
  },
  "language_info": {
   "codemirror_mode": {
    "name": "ipython",
    "version": 3
   },
   "file_extension": ".py",
   "mimetype": "text/x-python",
   "name": "python",
   "nbconvert_exporter": "python",
   "pygments_lexer": "ipython3",
   "version": "3.9.12"
  },
  "toc": {
   "base_numbering": 1,
   "nav_menu": {},
   "number_sections": true,
   "sideBar": true,
   "skip_h1_title": false,
   "title_cell": "Table of Contents",
   "title_sidebar": "Contents",
   "toc_cell": false,
   "toc_position": {},
   "toc_section_display": true,
   "toc_window_display": false
  },
  "varInspector": {
   "cols": {
    "lenName": 16,
    "lenType": 16,
    "lenVar": 40
   },
   "kernels_config": {
    "python": {
     "delete_cmd_postfix": "",
     "delete_cmd_prefix": "del ",
     "library": "var_list.py",
     "varRefreshCmd": "print(var_dic_list())"
    },
    "r": {
     "delete_cmd_postfix": ") ",
     "delete_cmd_prefix": "rm(",
     "library": "var_list.r",
     "varRefreshCmd": "cat(var_dic_list()) "
    }
   },
   "types_to_exclude": [
    "module",
    "function",
    "builtin_function_or_method",
    "instance",
    "_Feature"
   ],
   "window_display": false
  }
 },
 "nbformat": 4,
 "nbformat_minor": 5
}
