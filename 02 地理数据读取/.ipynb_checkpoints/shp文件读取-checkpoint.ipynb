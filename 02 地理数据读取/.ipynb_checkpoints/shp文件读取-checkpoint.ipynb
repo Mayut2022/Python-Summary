{
 "cells": [
  {
   "cell_type": "markdown",
   "id": "bc1e3714",
   "metadata": {},
   "source": [
    "### CSDN [GeoPandas操作矢量数据（shp、GeoJSON）](https://blog.csdn.net/summer_dew/article/details/87930256?ops_request_misc=%257B%2522request%255Fid%2522%253A%2522164670484616780269845666%2522%252C%2522scm%2522%253A%252220140713.130102334.pc%255Fall.%2522%257D&request_id=164670484616780269845666&biz_id=0&utm_medium=distribute.pc_search_result.none-task-blog-2~all~first_rank_ecpm_v1~rank_v31_ecpm-2-87930256.pc_search_result_control_group&utm_term=python+geopandas+%E7%9F%A2%E9%87%8F%E6%95%B0%E6%8D%AE&spm=1018.2226.3001.4187)"
   ]
  },
  {
   "cell_type": "code",
   "execution_count": 1,
   "id": "2e34db33",
   "metadata": {},
   "outputs": [],
   "source": [
    "import geopandas as gpd #数据读取和应用类似于Pandas"
   ]
  },
  {
   "cell_type": "code",
   "execution_count": 3,
   "id": "c104f9fa",
   "metadata": {},
   "outputs": [
    {
     "data": {
      "text/html": [
       "<div>\n",
       "<style scoped>\n",
       "    .dataframe tbody tr th:only-of-type {\n",
       "        vertical-align: middle;\n",
       "    }\n",
       "\n",
       "    .dataframe tbody tr th {\n",
       "        vertical-align: top;\n",
       "    }\n",
       "\n",
       "    .dataframe thead th {\n",
       "        text-align: right;\n",
       "    }\n",
       "</style>\n",
       "<table border=\"1\" class=\"dataframe\">\n",
       "  <thead>\n",
       "    <tr style=\"text-align: right;\">\n",
       "      <th></th>\n",
       "      <th>省代码</th>\n",
       "      <th>省</th>\n",
       "      <th>类型</th>\n",
       "      <th>geometry</th>\n",
       "    </tr>\n",
       "  </thead>\n",
       "  <tbody>\n",
       "    <tr>\n",
       "      <th>0</th>\n",
       "      <td>110000</td>\n",
       "      <td>北京市</td>\n",
       "      <td>直辖市</td>\n",
       "      <td>POLYGON ((116.67527 41.04010, 116.67616 41.040...</td>\n",
       "    </tr>\n",
       "    <tr>\n",
       "      <th>1</th>\n",
       "      <td>120000</td>\n",
       "      <td>天津市</td>\n",
       "      <td>直辖市</td>\n",
       "      <td>POLYGON ((117.44383 40.25101, 117.45611 40.246...</td>\n",
       "    </tr>\n",
       "    <tr>\n",
       "      <th>2</th>\n",
       "      <td>130000</td>\n",
       "      <td>河北省</td>\n",
       "      <td>省</td>\n",
       "      <td>MULTIPOLYGON (((118.85390 39.10692, 118.84934 ...</td>\n",
       "    </tr>\n",
       "    <tr>\n",
       "      <th>3</th>\n",
       "      <td>140000</td>\n",
       "      <td>山西省</td>\n",
       "      <td>省</td>\n",
       "      <td>POLYGON ((114.13714 40.73445, 114.13860 40.732...</td>\n",
       "    </tr>\n",
       "    <tr>\n",
       "      <th>4</th>\n",
       "      <td>150000</td>\n",
       "      <td>内蒙古自治区</td>\n",
       "      <td>自治区</td>\n",
       "      <td>POLYGON ((121.49813 53.32607, 121.50116 53.321...</td>\n",
       "    </tr>\n",
       "  </tbody>\n",
       "</table>\n",
       "</div>"
      ],
      "text/plain": [
       "      省代码       省   类型                                           geometry\n",
       "0  110000     北京市  直辖市  POLYGON ((116.67527 41.04010, 116.67616 41.040...\n",
       "1  120000     天津市  直辖市  POLYGON ((117.44383 40.25101, 117.45611 40.246...\n",
       "2  130000     河北省    省  MULTIPOLYGON (((118.85390 39.10692, 118.84934 ...\n",
       "3  140000     山西省    省  POLYGON ((114.13714 40.73445, 114.13860 40.732...\n",
       "4  150000  内蒙古自治区  自治区  POLYGON ((121.49813 53.32607, 121.50116 53.321..."
      ]
     },
     "execution_count": 3,
     "metadata": {},
     "output_type": "execute_result"
    }
   ],
   "source": [
    "gdf=gpd.read_file('D:/study/MaskoutProvince/province.shp')\n",
    "gdf.head()"
   ]
  },
  {
   "cell_type": "code",
   "execution_count": 5,
   "id": "8d7d1819",
   "metadata": {},
   "outputs": [
    {
     "name": "stdout",
     "output_type": "stream",
     "text": [
      "       省代码         省     类型                                           geometry\n",
      "0   110000       北京市    直辖市  POLYGON ((116.67527 41.04010, 116.67616 41.040...\n",
      "1   120000       天津市    直辖市  POLYGON ((117.44383 40.25101, 117.45611 40.246...\n",
      "2   130000       河北省      省  MULTIPOLYGON (((118.85390 39.10692, 118.84934 ...\n",
      "3   140000       山西省      省  POLYGON ((114.13714 40.73445, 114.13860 40.732...\n",
      "4   150000    内蒙古自治区    自治区  POLYGON ((121.49813 53.32607, 121.50116 53.321...\n",
      "5   150000      中朝共有    不统计  MULTIPOLYGON (((124.35849 39.94443, 124.35828 ...\n",
      "6   210000       辽宁省      省  MULTIPOLYGON (((121.03448 38.87063, 121.03528 ...\n",
      "7   220000       吉林省      省  MULTIPOLYGON (((130.56554 42.45006, 130.56503 ...\n",
      "8   230000      黑龙江省      省  POLYGON ((123.40249 53.53506, 123.40471 53.535...\n",
      "9   310000       上海市    直辖市  POLYGON ((121.45849 31.75982, 121.45930 31.759...\n",
      "10  320000       江苏省      省  MULTIPOLYGON (((121.40616 32.52242, 121.40375 ...\n",
      "11  330000       浙江省      省  MULTIPOLYGON (((120.47933 27.15321, 120.48163 ...\n",
      "12  340000       安徽省      省  POLYGON ((119.05631 32.46333, 119.06003 32.469...\n",
      "13  350000       福建省      省  MULTIPOLYGON (((117.29228 23.59563, 117.29206 ...\n",
      "14  360000       江西省      省  POLYGON ((116.68416 30.07160, 116.68577 30.070...\n",
      "15  370000       山东省      省  MULTIPOLYGON (((119.92422 35.62388, 119.92294 ...\n",
      "16  410000       河南省      省  POLYGON ((113.74946 36.36547, 113.75296 36.359...\n",
      "17  420000       湖北省      省  POLYGON ((109.63156 33.27173, 109.63232 33.271...\n",
      "18  430000       湖南省      省  POLYGON ((110.84790 30.12861, 110.84934 30.128...\n",
      "19  440000       广东省      省  MULTIPOLYGON (((110.59023 20.37852, 110.59232 ...\n",
      "20  450000   广西壮族自治区    自治区  MULTIPOLYGON (((109.20674 20.91898, 109.20686 ...\n",
      "21  460000       海南省      省  MULTIPOLYGON (((113.22996 6.32363, 113.22806 6...\n",
      "22  500000       重庆市    直辖市  POLYGON ((108.53329 32.18348, 108.53350 32.183...\n",
      "23  510000       四川省      省  POLYGON ((102.95840 34.27996, 102.95933 34.270...\n",
      "24  520000       贵州省      省  POLYGON ((107.57016 29.20471, 107.57047 29.195...\n",
      "25  530000       云南省      省  POLYGON ((99.11309 29.22427, 99.11112 29.22167...\n",
      "26  540000     西藏自治区    自治区  POLYGON ((88.38821 36.47854, 88.38947 36.47845...\n",
      "27  610000       陕西省      省  POLYGON ((111.15013 39.56195, 111.14246 39.531...\n",
      "28  620000       甘肃省      省  POLYGON ((97.19051 42.76287, 97.23601 42.67222...\n",
      "29  630000       青海省      省  POLYGON ((97.01932 39.20912, 97.01947 39.20910...\n",
      "30  640000   宁夏回族自治区    自治区  MULTIPOLYGON (((106.05229 35.48062, 106.05080 ...\n",
      "31  650000  新疆维吾尔自治区    自治区  POLYGON ((96.38478 42.72535, 96.36294 42.71142...\n",
      "32  710000       台湾省      省  MULTIPOLYGON (((121.61387 21.95350, 121.61423 ...\n",
      "33  810000   香港特别行政区  特别行政区  MULTIPOLYGON (((113.91455 22.16283, 113.91516 ...\n",
      "34  820000   澳门特别行政区  特别行政区  MULTIPOLYGON (((113.57299 22.16442, 113.57891 ...\n"
     ]
    }
   ],
   "source": [
    "print(gdf)"
   ]
  },
  {
   "cell_type": "code",
   "execution_count": null,
   "id": "0439423f",
   "metadata": {},
   "outputs": [],
   "source": []
  }
 ],
 "metadata": {
  "kernelspec": {
   "display_name": "Python 3",
   "language": "python",
   "name": "python3"
  },
  "language_info": {
   "codemirror_mode": {
    "name": "ipython",
    "version": 3
   },
   "file_extension": ".py",
   "mimetype": "text/x-python",
   "name": "python",
   "nbconvert_exporter": "python",
   "pygments_lexer": "ipython3",
   "version": "3.8.8"
  }
 },
 "nbformat": 4,
 "nbformat_minor": 5
}
