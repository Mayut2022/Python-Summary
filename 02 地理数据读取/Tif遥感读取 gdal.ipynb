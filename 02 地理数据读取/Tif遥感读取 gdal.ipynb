{
 "cells": [
  {
   "cell_type": "markdown",
   "id": "dc9ff494",
   "metadata": {},
   "source": [
    "### osgeo gdal 读取tif"
   ]
  },
  {
   "cell_type": "code",
   "execution_count": 1,
   "id": "98d00f6a",
   "metadata": {},
   "outputs": [],
   "source": [
    "from osgeo import gdal"
   ]
  },
  {
   "cell_type": "code",
   "execution_count": 2,
   "id": "5e37ff6b",
   "metadata": {},
   "outputs": [],
   "source": [
    "dataset = gdal.Open('D:/study/GOSIF_2000057.tif')"
   ]
  },
  {
   "cell_type": "code",
   "execution_count": 7,
   "id": "c34586ae",
   "metadata": {},
   "outputs": [],
   "source": [
    "im_width = dataset.RasterXSize\n",
    "im_height = dataset.RasterYSize\n",
    "im_bands = dataset.RasterCount \n",
    "im_data = dataset.ReadAsArray(0,0,im_width,im_height)"
   ]
  },
  {
   "cell_type": "code",
   "execution_count": 6,
   "id": "aa89e2d5",
   "metadata": {},
   "outputs": [
    {
     "name": "stdout",
     "output_type": "stream",
     "text": [
      "7200\n",
      "3600\n"
     ]
    }
   ],
   "source": [
    "print(im_width)\n",
    "print(im_height)"
   ]
  },
  {
   "cell_type": "code",
   "execution_count": 8,
   "id": "8f1af8cc",
   "metadata": {},
   "outputs": [
    {
     "name": "stdout",
     "output_type": "stream",
     "text": [
      "(3600, 7200)\n"
     ]
    }
   ],
   "source": [
    "print(im_data.shape)"
   ]
  },
  {
   "cell_type": "markdown",
   "id": "cb51f607",
   "metadata": {},
   "source": [
    "### gdal 重投影"
   ]
  },
  {
   "cell_type": "code",
   "execution_count": 3,
   "id": "9372a5c2",
   "metadata": {
    "ExecuteTime": {
     "end_time": "2022-07-30T04:32:52.585431Z",
     "start_time": "2022-07-30T04:32:51.820313Z"
    }
   },
   "outputs": [
    {
     "ename": "TypeError",
     "evalue": "in method 'wrapper_GDALWarpDestName', argument 4 of type 'GDALWarpAppOptions *'",
     "output_type": "error",
     "traceback": [
      "\u001b[1;31m---------------------------------------------------------------------------\u001b[0m",
      "\u001b[1;31mTypeError\u001b[0m                                 Traceback (most recent call last)",
      "Input \u001b[1;32mIn [3]\u001b[0m, in \u001b[0;36m<cell line: 13>\u001b[1;34m()\u001b[0m\n\u001b[0;32m      9\u001b[0m im_data \u001b[38;5;241m=\u001b[39m dataset\u001b[38;5;241m.\u001b[39mReadAsArray(\u001b[38;5;241m0\u001b[39m,\u001b[38;5;241m0\u001b[39m,im_width,im_height)\n\u001b[0;32m     11\u001b[0m ds \u001b[38;5;241m=\u001b[39m dataset\u001b[38;5;241m.\u001b[39mGetSubDatasets()\n\u001b[1;32m---> 13\u001b[0m \u001b[43mgdal\u001b[49m\u001b[38;5;241;43m.\u001b[39;49m\u001b[43mWarp\u001b[49m\u001b[43m(\u001b[49m\u001b[38;5;124;43m'\u001b[39;49m\u001b[38;5;124;43mE:\u001b[39;49m\u001b[38;5;124;43m\\\u001b[39;49m\u001b[38;5;124;43mGLASS-GLC\u001b[39;49m\u001b[38;5;130;43;01m\\t\u001b[39;49;00m\u001b[38;5;124;43mest.tif\u001b[39;49m\u001b[38;5;124;43m'\u001b[39;49m\u001b[43m,\u001b[49m\u001b[43m \u001b[49m\u001b[43minpath\u001b[49m\u001b[43m,\u001b[49m\u001b[43m \u001b[49m\u001b[43mdstSRS\u001b[49m\u001b[38;5;241;43m=\u001b[39;49m\u001b[38;5;124;43m'\u001b[39;49m\u001b[38;5;124;43mEPSG:4326\u001b[39;49m\u001b[38;5;124;43m'\u001b[39;49m\u001b[43m)\u001b[49m\n",
      "File \u001b[1;32m~\\Anaconda3\\lib\\site-packages\\osgeo\\gdal.py:625\u001b[0m, in \u001b[0;36mWarp\u001b[1;34m(destNameOrDestDS, srcDSOrSrcDSTab, **kwargs)\u001b[0m\n\u001b[0;32m    622\u001b[0m     srcDSTab \u001b[38;5;241m=\u001b[39m [srcDSOrSrcDSTab]\n\u001b[0;32m    624\u001b[0m \u001b[38;5;28;01mif\u001b[39;00m _is_str_or_unicode(destNameOrDestDS):\n\u001b[1;32m--> 625\u001b[0m     \u001b[38;5;28;01mreturn\u001b[39;00m \u001b[43mwrapper_GDALWarpDestName\u001b[49m\u001b[43m(\u001b[49m\u001b[43mdestNameOrDestDS\u001b[49m\u001b[43m,\u001b[49m\u001b[43m \u001b[49m\u001b[43msrcDSTab\u001b[49m\u001b[43m,\u001b[49m\u001b[43m \u001b[49m\u001b[43mopts\u001b[49m\u001b[43m,\u001b[49m\u001b[43m \u001b[49m\u001b[43mcallback\u001b[49m\u001b[43m,\u001b[49m\u001b[43m \u001b[49m\u001b[43mcallback_data\u001b[49m\u001b[43m)\u001b[49m\n\u001b[0;32m    626\u001b[0m \u001b[38;5;28;01melse\u001b[39;00m:\n\u001b[0;32m    627\u001b[0m     \u001b[38;5;28;01mreturn\u001b[39;00m wrapper_GDALWarpDestDS(destNameOrDestDS, srcDSTab, opts, callback, callback_data)\n",
      "File \u001b[1;32m~\\Anaconda3\\lib\\site-packages\\osgeo\\gdal.py:3410\u001b[0m, in \u001b[0;36mwrapper_GDALWarpDestName\u001b[1;34m(*args)\u001b[0m\n\u001b[0;32m   3408\u001b[0m \u001b[38;5;28;01mdef\u001b[39;00m \u001b[38;5;21mwrapper_GDALWarpDestName\u001b[39m(\u001b[38;5;241m*\u001b[39margs):\n\u001b[0;32m   3409\u001b[0m     \u001b[38;5;124;03m\"\"\"wrapper_GDALWarpDestName(char const * dest, int object_list_count, GDALWarpAppOptions warpAppOptions, GDALProgressFunc callback=0, void * callback_data=None) -> Dataset\"\"\"\u001b[39;00m\n\u001b[1;32m-> 3410\u001b[0m     \u001b[38;5;28;01mreturn\u001b[39;00m \u001b[43m_gdal\u001b[49m\u001b[38;5;241;43m.\u001b[39;49m\u001b[43mwrapper_GDALWarpDestName\u001b[49m\u001b[43m(\u001b[49m\u001b[38;5;241;43m*\u001b[39;49m\u001b[43margs\u001b[49m\u001b[43m)\u001b[49m\n",
      "\u001b[1;31mTypeError\u001b[0m: in method 'wrapper_GDALWarpDestName', argument 4 of type 'GDALWarpAppOptions *'"
     ]
    }
   ],
   "source": [
    "from osgeo import gdal\n",
    "\n",
    "inpath= r'E:\\GLASS-GLC\\GLASS-GLC_7classes_2015.tif'\n",
    "dataset = gdal.Open('E:\\GLASS-GLC\\GLASS-GLC_7classes_2015.tif')\n",
    "\n",
    "im_width = dataset.RasterXSize\n",
    "im_height = dataset.RasterYSize\n",
    "im_bands = dataset.RasterCount \n",
    "im_data = dataset.ReadAsArray(0,0,im_width,im_height)\n",
    "\n",
    "ds = dataset.GetSubDatasets()\n",
    "\n",
    "gdal.Warp('E:\\GLASS-GLC\\test.tif', inpath, dstSRS='EPSG:4326')"
   ]
  },
  {
   "cell_type": "code",
   "execution_count": 2,
   "id": "b1cebfef",
   "metadata": {
    "ExecuteTime": {
     "end_time": "2022-07-30T04:23:14.852205Z",
     "start_time": "2022-07-30T04:23:14.809431Z"
    }
   },
   "outputs": [],
   "source": [
    "from osgeo import gdal\n",
    "\n",
    "in_ds = gdal.Open('D:/GLASS01E01.V60.A2001001.h03v06.2022010.hdf')\n",
    "# 返回结果是一个list，list中的每个元素是一个tuple，每个tuple中包含了对数据集的路径，元数据等的描述信息\n",
    "# tuple中的第一个元素描述的是数据子集的全路径\n",
    "datasets = in_ds.GetSubDatasets()\n",
    " \n",
    "# 取出第1个数据子集（MODIS反射率产品的第一个波段）进行转换\n",
    "# 第一个参数是输出数据，第二个参数是输入数据，后面可以跟多个可选项\n",
    "# gdal.Warp('D:/reprojection01.tif', datasets[0][0], dstSRS='EPSG:32649')  # UTM投影\n",
    "# gdal.Warp('D:/reprojection02.tif', datasets[0][0], dstSRS='EPSG:4326')   # 等经纬度投影\n",
    " \n",
    "# # 关闭数据集\n",
    "# root_ds = None\n"
   ]
  },
  {
   "cell_type": "code",
   "execution_count": null,
   "id": "a1676065",
   "metadata": {},
   "outputs": [],
   "source": []
  }
 ],
 "metadata": {
  "kernelspec": {
   "display_name": "Python 3 (ipykernel)",
   "language": "python",
   "name": "python3"
  },
  "language_info": {
   "codemirror_mode": {
    "name": "ipython",
    "version": 3
   },
   "file_extension": ".py",
   "mimetype": "text/x-python",
   "name": "python",
   "nbconvert_exporter": "python",
   "pygments_lexer": "ipython3",
   "version": "3.9.12"
  },
  "toc": {
   "base_numbering": 1,
   "nav_menu": {},
   "number_sections": true,
   "sideBar": true,
   "skip_h1_title": false,
   "title_cell": "Table of Contents",
   "title_sidebar": "Contents",
   "toc_cell": false,
   "toc_position": {},
   "toc_section_display": true,
   "toc_window_display": false
  },
  "varInspector": {
   "cols": {
    "lenName": 16,
    "lenType": 16,
    "lenVar": 40
   },
   "kernels_config": {
    "python": {
     "delete_cmd_postfix": "",
     "delete_cmd_prefix": "del ",
     "library": "var_list.py",
     "varRefreshCmd": "print(var_dic_list())"
    },
    "r": {
     "delete_cmd_postfix": ") ",
     "delete_cmd_prefix": "rm(",
     "library": "var_list.r",
     "varRefreshCmd": "cat(var_dic_list()) "
    }
   },
   "types_to_exclude": [
    "module",
    "function",
    "builtin_function_or_method",
    "instance",
    "_Feature"
   ],
   "window_display": true
  }
 },
 "nbformat": 4,
 "nbformat_minor": 5
}
