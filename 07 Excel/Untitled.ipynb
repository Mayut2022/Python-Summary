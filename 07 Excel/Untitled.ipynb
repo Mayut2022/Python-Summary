{
 "cells": [
  {
   "cell_type": "markdown",
   "id": "906d3f22",
   "metadata": {},
   "source": [
    "# DataFrame简单保存"
   ]
  },
  {
   "cell_type": "code",
   "execution_count": 1,
   "id": "de0c2723",
   "metadata": {
    "ExecuteTime": {
     "end_time": "2023-11-29T11:23:39.831001Z",
     "start_time": "2023-11-29T11:23:39.063356Z"
    }
   },
   "outputs": [],
   "source": [
    "import pandas as pd\n",
    "import openpyxl"
   ]
  },
  {
   "cell_type": "code",
   "execution_count": null,
   "id": "dbb421b1",
   "metadata": {},
   "outputs": [],
   "source": [
    "df = pd.DataFrame(dict(A=[1, 2, 3], B=[4, 5, 6]))\n",
    "df.to_excel(\"example.xlsx\", index=False)"
   ]
  },
  {
   "cell_type": "markdown",
   "id": "96c053ff",
   "metadata": {},
   "source": [
    "# 创建新文件，并将多个df保存至不同sheet\n",
    "> data_dict.items() 是一个字典方法，用于返回字典中的键值对。它返回一个包含字典中所有键值对的可迭代对象，每个键值对表示为一个元组;  \n",
    "每个元组包含两个元素，第一个元素是键，第二个元素是对应的值"
   ]
  },
  {
   "cell_type": "code",
   "execution_count": 3,
   "id": "bd253e37",
   "metadata": {
    "ExecuteTime": {
     "end_time": "2023-11-29T11:29:25.395749Z",
     "start_time": "2023-11-29T11:29:25.382410Z"
    },
    "collapsed": true
   },
   "outputs": [
    {
     "name": "stdout",
     "output_type": "stream",
     "text": [
      "Key Sheet1\n",
      "Values    A  B\n",
      "0  1  4\n",
      "1  2  5\n",
      "2  3  6\n",
      "Key Sheet2\n",
      "Values    X   Y\n",
      "0  7  10\n",
      "1  8  11\n",
      "2  9  12\n"
     ]
    }
   ],
   "source": [
    "# 定义字典，其中键是工作表名称，值是对应的 DataFrame\n",
    "data_dict = {\n",
    "    \"Sheet1\": pd.DataFrame({'A': [1, 2, 3], 'B': [4, 5, 6]}),\n",
    "    \"Sheet2\": pd.DataFrame({'X': [7, 8, 9], 'Y': [10, 11, 12]})\n",
    "}\n",
    "for key, values in data_dict.items():\n",
    "    print(\"Key\", key)\n",
    "    print(\"Values\", values)"
   ]
  },
  {
   "cell_type": "code",
   "execution_count": 4,
   "id": "c95f734e",
   "metadata": {
    "ExecuteTime": {
     "end_time": "2023-11-29T11:30:08.526851Z",
     "start_time": "2023-11-29T11:30:08.484168Z"
    }
   },
   "outputs": [],
   "source": [
    "# 创建一个新的 Excel 文件\n",
    "writer = pd.ExcelWriter(\n",
    "    rf'example.xlsx', engine='openpyxl')\n",
    "\n",
    "for sheet_name, df in data_dict.items():\n",
    "    df.to_excel(writer, sheet_name=sheet_name, index=False)\n",
    "\n",
    "# 保存并关闭 Excel 文件\n",
    "writer.save()"
   ]
  },
  {
   "cell_type": "markdown",
   "id": "5f4a7763",
   "metadata": {},
   "source": [
    "# 向已经存在的excel中增加新的sheet\n",
    "> mode='a',其余相同"
   ]
  },
  {
   "cell_type": "code",
   "execution_count": null,
   "id": "85e393cd",
   "metadata": {},
   "outputs": [],
   "source": [
    "writer = pd.ExcelWriter('example.xlsx', engine='openpyxl', mode='a')\n",
    "df.to_excel(writer, sheet_name=sheet_name, index=False)\n",
    "writer.save()"
   ]
  }
 ],
 "metadata": {
  "kernelspec": {
   "display_name": "Python 3 (ipykernel)",
   "language": "python",
   "name": "python3"
  },
  "language_info": {
   "codemirror_mode": {
    "name": "ipython",
    "version": 3
   },
   "file_extension": ".py",
   "mimetype": "text/x-python",
   "name": "python",
   "nbconvert_exporter": "python",
   "pygments_lexer": "ipython3",
   "version": "3.9.12"
  },
  "toc": {
   "base_numbering": 1,
   "nav_menu": {},
   "number_sections": true,
   "sideBar": true,
   "skip_h1_title": false,
   "title_cell": "Table of Contents",
   "title_sidebar": "Contents",
   "toc_cell": false,
   "toc_position": {},
   "toc_section_display": true,
   "toc_window_display": false
  },
  "varInspector": {
   "cols": {
    "lenName": 16,
    "lenType": 16,
    "lenVar": 40
   },
   "kernels_config": {
    "python": {
     "delete_cmd_postfix": "",
     "delete_cmd_prefix": "del ",
     "library": "var_list.py",
     "varRefreshCmd": "print(var_dic_list())"
    },
    "r": {
     "delete_cmd_postfix": ") ",
     "delete_cmd_prefix": "rm(",
     "library": "var_list.r",
     "varRefreshCmd": "cat(var_dic_list()) "
    }
   },
   "types_to_exclude": [
    "module",
    "function",
    "builtin_function_or_method",
    "instance",
    "_Feature"
   ],
   "window_display": false
  }
 },
 "nbformat": 4,
 "nbformat_minor": 5
}
