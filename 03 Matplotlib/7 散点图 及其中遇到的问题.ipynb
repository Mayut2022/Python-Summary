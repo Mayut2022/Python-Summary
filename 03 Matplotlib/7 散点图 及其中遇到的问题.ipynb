{
 "cells": [
  {
   "cell_type": "markdown",
   "id": "df074ebc",
   "metadata": {},
   "source": [
    "ESC+F查找替换"
   ]
  },
  {
   "cell_type": "markdown",
   "id": "7c27ba31",
   "metadata": {},
   "source": [
    "# 散点图配合地图投影\n",
    "> 前面底图设置没有什么区别，画图设置如下"
   ]
  },
  {
   "cell_type": "code",
   "execution_count": null,
   "id": "c1a3238d",
   "metadata": {},
   "outputs": [],
   "source": [
    "lon2, lat2 = np.meshgrid(lon, lat)\n",
    "cs = ax.scatter(lon2, lat2, s=0.5, c=data1, cmap=cmap, vmin=0, vmax=3)"
   ]
  },
  {
   "attachments": {},
   "cell_type": "markdown",
   "id": "897349f7",
   "metadata": {},
   "source": [
    "## 遇到的问题\n",
    "1. scatter将其中一部分值设置为np.nan时，画图时仍然所有的值都没画出来；而且跟精度有关，180X300的精度时没有此问题，匹配ESA LUC 300m精度时遇到此问题。借助chatgpt查询结果如下：\n",
    "> 当使用Matplotlib的scatter函数绘制散点图时，如果将数组的部分值设置为np.nan（NaN，Not a Number），有时会出现这些NaN值仍然被绘制出来的情况。这是因为NaN值在绘图时被视为有效数据，而不是缺失数据。  \n",
    "Matplotlib在处理NaN值时的默认行为是将其视为有效数据并进行绘制。这是为了避免假设NaN值是缺失数据而导致误解。因此，如果你希望在绘制散点图时排除NaN值的显示，你需要显式地处理这些NaN值。  \n",
    "[image.png](attachment:image.png)\n",
    "2. 为什么scatter把点的size设置的很小是,点是空心的?\n",
    "> 当你使用scatter函数绘制散点图时，如果将点的大小设置得很小，它们可能会显示为空心的。这是因为当点的大小非常小的时候，填充的面积几乎为零，从而导致点看起来为空心。这种现象在点的大小非常接近或小于绘图工具的分辨率时尤为常见。对于非常小的点，填充区域可能无法被完整地显示出来，使得点看起来是空心的。"
   ]
  },
  {
   "cell_type": "code",
   "execution_count": 12,
   "id": "45ef9b64",
   "metadata": {
    "ExecuteTime": {
     "end_time": "2023-07-16T04:13:18.821120Z",
     "start_time": "2023-07-16T04:13:18.791121Z"
    }
   },
   "outputs": [],
   "source": [
    "import numpy as np\n",
    "import matplotlib.pyplot as plt\n",
    "\n",
    "np.random.seed(1234)\n",
    "# 生成数据\n",
    "x = np.random.randn(500)\n",
    "y = np.random.randn(800)\n",
    "\n",
    "z=np.random.randn(500*800).reshape(500, 800)\n",
    "\n",
    "# 将部分值设置为缺测值\n",
    "mask = np.random.choice([True, False], size=x.shape, p=[0.2, 0.8])\n",
    "mask2 = np.random.choice([True, False], size=y.shape, p=[0.2, 0.8])\n",
    "x_filtered = x[~mask]\n",
    "y_filtered = y[~mask2]\n",
    "z_filtered = np.random.randn(x_filtered.shape[0]*y_filtered.shape[0]).reshape(x_filtered.shape[0], y_filtered.shape[0])\n",
    "\n",
    "x_mk = x[mask]\n",
    "y_mk = y[mask2]\n",
    "z_mk = np.random.randn(x_mk.shape[0]*y_mk.shape[0]).reshape(x_mk.shape[0], y_mk.shape[0])\n",
    "\n",
    "# 绘制散点图\n",
    "# fig = plt.figure(1, figsize=(2, 2), dpi=300)\n",
    "# X, Y = np.meshgrid(x, y)\n",
    "# plt.scatter(X, Y, s=0.1, c=z, cmap=\"bwr\")\n",
    "\n",
    "# fig = plt.figure(2, figsize=(10, 10), dpi=300)\n",
    "# X, Y = np.meshgrid(x_filtered, y_filtered)\n",
    "# plt.scatter(X, Y, s=0.02, c=z_filtered, cmap='Reds')\n",
    "# X, Y = np.meshgrid(x_mk, y_mk)\n",
    "# plt.scatter(X, Y, s=0.02, c=z_mk, cmap='Blues')\n",
    "\n",
    "# 显示图形\n",
    "plt.show()\n"
   ]
  }
 ],
 "metadata": {
  "kernelspec": {
   "display_name": "Python 3 (ipykernel)",
   "language": "python",
   "name": "python3"
  },
  "language_info": {
   "codemirror_mode": {
    "name": "ipython",
    "version": 3
   },
   "file_extension": ".py",
   "mimetype": "text/x-python",
   "name": "python",
   "nbconvert_exporter": "python",
   "pygments_lexer": "ipython3",
   "version": "3.9.12"
  },
  "toc": {
   "base_numbering": 1,
   "nav_menu": {},
   "number_sections": true,
   "sideBar": true,
   "skip_h1_title": false,
   "title_cell": "Table of Contents",
   "title_sidebar": "Contents",
   "toc_cell": false,
   "toc_position": {},
   "toc_section_display": true,
   "toc_window_display": false
  },
  "varInspector": {
   "cols": {
    "lenName": 16,
    "lenType": 16,
    "lenVar": 40
   },
   "kernels_config": {
    "python": {
     "delete_cmd_postfix": "",
     "delete_cmd_prefix": "del ",
     "library": "var_list.py",
     "varRefreshCmd": "print(var_dic_list())"
    },
    "r": {
     "delete_cmd_postfix": ") ",
     "delete_cmd_prefix": "rm(",
     "library": "var_list.r",
     "varRefreshCmd": "cat(var_dic_list()) "
    }
   },
   "position": {
    "height": "358.837px",
    "left": "665.45px",
    "right": "20px",
    "top": "73.9875px",
    "width": "350px"
   },
   "types_to_exclude": [
    "module",
    "function",
    "builtin_function_or_method",
    "instance",
    "_Feature"
   ],
   "window_display": false
  }
 },
 "nbformat": 4,
 "nbformat_minor": 5
}
