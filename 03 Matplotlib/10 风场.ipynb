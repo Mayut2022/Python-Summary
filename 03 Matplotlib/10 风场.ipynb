{
 "cells": [
  {
   "cell_type": "markdown",
   "id": "50a1ffd7",
   "metadata": {},
   "source": [
    "# 矢量图绘制\n",
    "1. [摸鱼教程](https://www.heywhale.com/mw/project/61162916fe727700176cac60)\n",
    "2. [mpl-quiver官网](https://matplotlib.org/stable/api/_as_gen/matplotlib.axes.Axes.quiver.html#matplotlib.axes.Axes.quiver)\n",
    "3. [mpl-quiverkey官网](https://matplotlib.org/stable/api/_as_gen/matplotlib.axes.Axes.quiverkey.html#matplotlib.axes.Axes.quiverkey)"
   ]
  },
  {
   "cell_type": "markdown",
   "id": "510760c3",
   "metadata": {},
   "source": [
    "## quiver\n",
    "> **常用参数**  \n",
    "scale: 方向缩放箭头的长度  \n",
    "color: 将所有箭头设置为统一颜色  \n",
    "c+cmap: c是与风场相对应的数组  "
   ]
  },
  {
   "cell_type": "code",
   "execution_count": null,
   "id": "67f2f176",
   "metadata": {},
   "outputs": [],
   "source": []
  },
  {
   "cell_type": "markdown",
   "id": "f96288da",
   "metadata": {},
   "source": [
    "## quiverkey\n",
    "> **常用参数**  \n",
    "coordinates{'axes', 'figure', 'data', 'inches'}, default: 'axes'  \n",
    "labelpos: {'N', 'S', 'E', 'W'}  \n",
    "labelsep: Distance in inches between the arrow and the label."
   ]
  }
 ],
 "metadata": {
  "kernelspec": {
   "display_name": "Python 3 (ipykernel)",
   "language": "python",
   "name": "python3"
  },
  "language_info": {
   "codemirror_mode": {
    "name": "ipython",
    "version": 3
   },
   "file_extension": ".py",
   "mimetype": "text/x-python",
   "name": "python",
   "nbconvert_exporter": "python",
   "pygments_lexer": "ipython3",
   "version": "3.9.12"
  },
  "toc": {
   "base_numbering": 1,
   "nav_menu": {},
   "number_sections": true,
   "sideBar": true,
   "skip_h1_title": false,
   "title_cell": "Table of Contents",
   "title_sidebar": "Contents",
   "toc_cell": false,
   "toc_position": {},
   "toc_section_display": true,
   "toc_window_display": false
  },
  "varInspector": {
   "cols": {
    "lenName": 16,
    "lenType": 16,
    "lenVar": 40
   },
   "kernels_config": {
    "python": {
     "delete_cmd_postfix": "",
     "delete_cmd_prefix": "del ",
     "library": "var_list.py",
     "varRefreshCmd": "print(var_dic_list())"
    },
    "r": {
     "delete_cmd_postfix": ") ",
     "delete_cmd_prefix": "rm(",
     "library": "var_list.r",
     "varRefreshCmd": "cat(var_dic_list()) "
    }
   },
   "types_to_exclude": [
    "module",
    "function",
    "builtin_function_or_method",
    "instance",
    "_Feature"
   ],
   "window_display": false
  }
 },
 "nbformat": 4,
 "nbformat_minor": 5
}
