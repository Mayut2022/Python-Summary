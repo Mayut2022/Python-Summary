{
 "cells": [
  {
   "cell_type": "markdown",
   "id": "b285f6f5",
   "metadata": {},
   "source": [
    "1. fig.add_subplot() 添加单一子图"
   ]
  },
  {
   "cell_type": "code",
   "execution_count": 1,
   "id": "a8fba1c3",
   "metadata": {
    "ExecuteTime": {
     "end_time": "2022-08-14T09:45:29.438010Z",
     "start_time": "2022-08-14T09:45:27.545235Z"
    }
   },
   "outputs": [],
   "source": [
    "from datetime import datetime\n",
    "import matplotlib.pyplot as plt\n",
    "import netCDF4 as nc\n",
    "import numpy as np\n",
    "import pandas as pd"
   ]
  },
  {
   "cell_type": "code",
   "execution_count": null,
   "id": "4e1eb546",
   "metadata": {
    "ExecuteTime": {
     "start_time": "2022-08-14T09:46:18.841Z"
    }
   },
   "outputs": [],
   "source": [
    "def read_nc():\n",
    "    global spei, lat, lon, t, time\n",
    "    inpath = (r'F:\\SPEI_base\\spei03_Congo.nc')\n",
    "    \n",
    "    with nc.Dataset(inpath) as f:\n",
    "        #print(f.variables.keys())\n",
    "        \n",
    "        spei = (f.variables['spei'][:])\n",
    "        lat = (f.variables['lat'][:])\n",
    "        lon = (f.variables['lon'][:])\n",
    "        time = (f.variables['time'][:])\n",
    "        t = nc.num2date(time, 'days since 1900-01-01 00:00:0.0').data\n",
    "        \n",
    "        \n",
    "read_nc()"
   ]
  },
  {
   "cell_type": "code",
   "execution_count": null,
   "id": "4134d252",
   "metadata": {},
   "outputs": [],
   "source": [
    "def Nan_test():\n",
    "    for i in range(1440):\n",
    "        a = spei[i, :, :]\n",
    "        if b:= np.isnan(a).any():\n",
    "            print(f'{i}, year:{t[i]}')\n",
    "            #exec(f\"spei{i}=a\")\n",
    "    print('1901-1 2 全部缺测值，后面几个月份仅几个 缺测值')\n",
    "            \n",
    "Nan_test()\n",
    "#%%\n",
    "ind=[0, 480, 960, 1440]\n",
    "for i, x in enumerate(ind):\n",
    "    if i<3:\n",
    "        exec(f\"spei{i+1}=spei[x:ind[i+1], :, :]\")\n",
    "        exec(f\"spei{i+1}=np.nanmean(spei{i+1}, axis=1)\")\n",
    "        exec(f\"spei{i+1}=np.nanmean(spei{i+1}, axis=1)\")\n",
    "del i, x"
   ]
  },
  {
   "cell_type": "code",
   "execution_count": null,
   "id": "00ea6aff",
   "metadata": {},
   "outputs": [],
   "source": [
    "#%%时间序列图\n",
    "def plot(data, title, tt):\n",
    "    fig = plt.figure(figsize=(30, 8), dpi=500)\n",
    "    fig.subplots_adjust(left=0.05, bottom=0.15, right=0.95, top=0.92, wspace=None, hspace=0.1)\n",
    "    ax = fig.add_subplot(111)\n",
    "    \n",
    "    #ax.scatter(tt, data, c='b')\n",
    "    ax.axhline(y=0, color=\"k\", linestyle=\"-\")\n",
    "    ax.plot(tt, data, c='k')\n",
    "    \n",
    "    ind=data>0\n",
    "    y2=np.ma.array(data, mask=~ind)\n",
    "    ax.fill_between(tt, y2, color='blue')\n",
    "    y2=np.ma.array(data, mask=ind)\n",
    "    ax.fill_between(tt, y2, color='red')\n",
    "    \n",
    "    \n",
    "    ax.set_ylim(-2, 2.5)\n",
    "    ax.set_yticks(np.arange(-2, 2.6, 0.5))\n",
    "    ax.tick_params(labelsize=20)\n",
    "    \n",
    "    plt.suptitle(f'{title}', fontsize=25)\n",
    "    plt.savefig(rf'E:/SPEI_base/{title}.jpg')\n",
    "    plt.show()\n",
    "\n",
    "#%%\n",
    "ind = [1, 2, 3]\n",
    "yr1 = [1901, 1941, 1981]\n",
    "yr2 = [190101, 194101, 198101]\n",
    "for i, x, y in zip(ind, yr1, yr2):\n",
    "    exec(f\"tt = pd.date_range(start=datetime.strptime('{y}', '%Y%m'), periods=480, freq='MS ')\")\n",
    "    exec(f\"plot(spei{i}, '{x}-{x+39}', tt)\")\n"
   ]
  },
  {
   "cell_type": "code",
   "execution_count": null,
   "id": "a6b118bf",
   "metadata": {},
   "outputs": [],
   "source": []
  }
 ],
 "metadata": {
  "kernelspec": {
   "display_name": "Python 3",
   "language": "python",
   "name": "python3"
  },
  "language_info": {
   "codemirror_mode": {
    "name": "ipython",
    "version": 3
   },
   "file_extension": ".py",
   "mimetype": "text/x-python",
   "name": "python",
   "nbconvert_exporter": "python",
   "pygments_lexer": "ipython3",
   "version": "3.8.8"
  },
  "toc": {
   "base_numbering": 1,
   "nav_menu": {},
   "number_sections": true,
   "sideBar": true,
   "skip_h1_title": false,
   "title_cell": "Table of Contents",
   "title_sidebar": "Contents",
   "toc_cell": false,
   "toc_position": {},
   "toc_section_display": true,
   "toc_window_display": false
  },
  "varInspector": {
   "cols": {
    "lenName": 16,
    "lenType": 16,
    "lenVar": 40
   },
   "kernels_config": {
    "python": {
     "delete_cmd_postfix": "",
     "delete_cmd_prefix": "del ",
     "library": "var_list.py",
     "varRefreshCmd": "print(var_dic_list())"
    },
    "r": {
     "delete_cmd_postfix": ") ",
     "delete_cmd_prefix": "rm(",
     "library": "var_list.r",
     "varRefreshCmd": "cat(var_dic_list()) "
    }
   },
   "types_to_exclude": [
    "module",
    "function",
    "builtin_function_or_method",
    "instance",
    "_Feature"
   ],
   "window_display": false
  }
 },
 "nbformat": 4,
 "nbformat_minor": 5
}
