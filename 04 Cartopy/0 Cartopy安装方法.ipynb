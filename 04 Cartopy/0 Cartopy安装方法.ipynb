{
 "cells": [
  {
   "attachments": {},
   "cell_type": "markdown",
   "metadata": {},
   "source": [
    "> 安装方法应参照官网，conda/windows/ubuntu 安装方法有差别；\n",
    "[Cartopy install](https://scitools.org.uk/cartopy/docs/latest/installing.html)\n",
    "\n",
    "> conda和linux容易安装，win下还不知道怎么安装"
   ]
  },
  {
   "cell_type": "code",
   "execution_count": null,
   "metadata": {},
   "outputs": [],
   "source": []
  }
 ],
 "metadata": {
  "language_info": {
   "name": "python"
  },
  "orig_nbformat": 4
 },
 "nbformat": 4,
 "nbformat_minor": 2
}
