{
 "cells": [
  {
   "cell_type": "markdown",
   "id": "d2636fc5",
   "metadata": {},
   "source": [
    "# assert 函数\n",
    "> [python assert断言函数用法](https://blog.csdn.net/qq_17753903/article/details/82707014?ops_request_misc=%257B%2522request%255Fid%2522%253A%2522165831597416781685398812%2522%252C%2522scm%2522%253A%252220140713.130102334..%2522%257D&request_id=165831597416781685398812&biz_id=0&utm_medium=distribute.pc_search_result.none-task-blog-2~all~baidu_landing_v2~default-1-82707014-null-null.142^v32^pc_rank_34,185^v2^control&utm_term=python%20assert%20%E5%87%BD%E6%95%B0&spm=1018.2226.3001.4187)\n",
    "> Python assert（断言）用于判断一个表达式，在表达式条件为 false 的时候触发异常。"
   ]
  },
  {
   "cell_type": "code",
   "execution_count": 1,
   "id": "a1aa9326",
   "metadata": {
    "ExecuteTime": {
     "end_time": "2022-07-20T11:28:22.354580Z",
     "start_time": "2022-07-20T11:28:22.342384Z"
    }
   },
   "outputs": [],
   "source": [
    "assert(1 == 1)\n",
    "assert(5 > 1)\n",
    "a = \"hello\"\n",
    "b = \"hello\"\n",
    "assert(a == b)"
   ]
  },
  {
   "cell_type": "code",
   "execution_count": 3,
   "id": "42fa724f",
   "metadata": {
    "ExecuteTime": {
     "end_time": "2022-07-20T11:28:34.388578Z",
     "start_time": "2022-07-20T11:28:34.368638Z"
    }
   },
   "outputs": [
    {
     "ename": "AssertionError",
     "evalue": "",
     "output_type": "error",
     "traceback": [
      "\u001b[1;31m---------------------------------------------------------------------------\u001b[0m",
      "\u001b[1;31mAssertionError\u001b[0m                            Traceback (most recent call last)",
      "Input \u001b[1;32mIn [3]\u001b[0m, in \u001b[0;36m<cell line: 1>\u001b[1;34m()\u001b[0m\n\u001b[1;32m----> 1\u001b[0m \u001b[38;5;28;01massert\u001b[39;00m(\u001b[38;5;241m1\u001b[39m \u001b[38;5;241m>\u001b[39m \u001b[38;5;241m100\u001b[39m)\n",
      "\u001b[1;31mAssertionError\u001b[0m: "
     ]
    }
   ],
   "source": [
    "assert(1 > 100)"
   ]
  },
  {
   "cell_type": "code",
   "execution_count": 4,
   "id": "bf2a75a6",
   "metadata": {
    "ExecuteTime": {
     "end_time": "2022-07-20T11:28:56.280466Z",
     "start_time": "2022-07-20T11:28:56.264514Z"
    }
   },
   "outputs": [],
   "source": [
    "import numpy as np\n",
    "a = np.arange(10)\n",
    "b = np.arange(10)\n",
    "assert(a.all() == b.all())"
   ]
  },
  {
   "cell_type": "markdown",
   "id": "85399340",
   "metadata": {},
   "source": [
    "# any() all()"
   ]
  },
  {
   "cell_type": "code",
   "execution_count": null,
   "id": "ddf5af57",
   "metadata": {},
   "outputs": [],
   "source": []
  }
 ],
 "metadata": {
  "kernelspec": {
   "display_name": "Python 3",
   "language": "python",
   "name": "python3"
  },
  "language_info": {
   "codemirror_mode": {
    "name": "ipython",
    "version": 3
   },
   "file_extension": ".py",
   "mimetype": "text/x-python",
   "name": "python",
   "nbconvert_exporter": "python",
   "pygments_lexer": "ipython3",
   "version": "3.8.8"
  },
  "toc": {
   "base_numbering": 1,
   "nav_menu": {},
   "number_sections": true,
   "sideBar": true,
   "skip_h1_title": false,
   "title_cell": "Table of Contents",
   "title_sidebar": "Contents",
   "toc_cell": false,
   "toc_position": {},
   "toc_section_display": true,
   "toc_window_display": false
  },
  "varInspector": {
   "cols": {
    "lenName": 16,
    "lenType": 16,
    "lenVar": 40
   },
   "kernels_config": {
    "python": {
     "delete_cmd_postfix": "",
     "delete_cmd_prefix": "del ",
     "library": "var_list.py",
     "varRefreshCmd": "print(var_dic_list())"
    },
    "r": {
     "delete_cmd_postfix": ") ",
     "delete_cmd_prefix": "rm(",
     "library": "var_list.r",
     "varRefreshCmd": "cat(var_dic_list()) "
    }
   },
   "types_to_exclude": [
    "module",
    "function",
    "builtin_function_or_method",
    "instance",
    "_Feature"
   ],
   "window_display": false
  }
 },
 "nbformat": 4,
 "nbformat_minor": 5
}
