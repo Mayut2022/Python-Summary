{
 "cells": [
  {
   "cell_type": "markdown",
   "id": "c6a5f455",
   "metadata": {},
   "source": [
    "# 切片\n",
    "> 步进切片 somelist[start:end:stride],切割时下标可以越界，直接访问列表时却不行。"
   ]
  },
  {
   "cell_type": "code",
   "execution_count": 3,
   "id": "316e7f5e",
   "metadata": {
    "ExecuteTime": {
     "end_time": "2022-07-03T08:59:29.789354Z",
     "start_time": "2022-07-03T08:59:29.780836Z"
    }
   },
   "outputs": [
    {
     "name": "stdout",
     "output_type": "stream",
     "text": [
      "[0, 11, 15]\n",
      "[9, 4, 16]\n"
     ]
    }
   ],
   "source": [
    "car_ages = [0, 9, 11, 4, 15, 16]\n",
    "odds = car_ages[::2]\n",
    "evens = car_ages[1::2]\n",
    "print(odds)\n",
    "print(evens)"
   ]
  },
  {
   "cell_type": "markdown",
   "id": "8a3bfbb4",
   "metadata": {},
   "source": [
    "# 通过带星号的unpacking操作捕获多个元素\n",
    "> 1. starred expression 也是一种 unpacking 操作，可以把无法由普通变量接收的那些元素全部囊括进去。\n",
    "2. 一个*必须与一个普通变量搭配，不然会SyntaxError。\n",
    "3. 单层结构，同一级里面最多只能出现一次带星号的unpacking。\n",
    "4. 多层结构，同一级的不同部分里面可以各自出现带星号的unpacking操作。\n",
    "\n",
    "> unpacking可以用在迭代器，优势主要体现在带星号的用法上。"
   ]
  },
  {
   "cell_type": "code",
   "execution_count": 7,
   "id": "24f58844",
   "metadata": {
    "ExecuteTime": {
     "end_time": "2022-07-03T09:02:17.353744Z",
     "start_time": "2022-07-03T09:02:17.343126Z"
    }
   },
   "outputs": [
    {
     "name": "stdout",
     "output_type": "stream",
     "text": [
      "16 15 11 9 4 0\n"
     ]
    }
   ],
   "source": [
    "car_ages = [0, 9, 11, 4, 15, 16]\n",
    "car_ages_descending = sorted(car_ages, reverse=True)\n",
    "oldest, *others, youngest = car_ages_descending\n",
    "print(oldest, *others, youngest)"
   ]
  },
  {
   "cell_type": "code",
   "execution_count": 12,
   "id": "a0b5a15d",
   "metadata": {
    "ExecuteTime": {
     "end_time": "2022-07-03T09:10:32.567613Z",
     "start_time": "2022-07-03T09:10:32.557612Z"
    }
   },
   "outputs": [
    {
     "name": "stdout",
     "output_type": "stream",
     "text": [
      "    1      and 2.00\n"
     ]
    }
   ],
   "source": [
    "it = iter(range(1, 3))\n",
    "fir, sec = it\n",
    "print(f'{fir:^10} and {sec:.2f}') "
   ]
  },
  {
   "cell_type": "code",
   "execution_count": null,
   "id": "fe87caf7",
   "metadata": {},
   "outputs": [],
   "source": []
  }
 ],
 "metadata": {
  "kernelspec": {
   "display_name": "Python 3 (ipykernel)",
   "language": "python",
   "name": "python3"
  },
  "language_info": {
   "codemirror_mode": {
    "name": "ipython",
    "version": 3
   },
   "file_extension": ".py",
   "mimetype": "text/x-python",
   "name": "python",
   "nbconvert_exporter": "python",
   "pygments_lexer": "ipython3",
   "version": "3.9.12"
  },
  "toc": {
   "base_numbering": 1,
   "nav_menu": {},
   "number_sections": true,
   "sideBar": true,
   "skip_h1_title": false,
   "title_cell": "Table of Contents",
   "title_sidebar": "Contents",
   "toc_cell": false,
   "toc_position": {},
   "toc_section_display": true,
   "toc_window_display": false
  },
  "varInspector": {
   "cols": {
    "lenName": 16,
    "lenType": 16,
    "lenVar": 40
   },
   "kernels_config": {
    "python": {
     "delete_cmd_postfix": "",
     "delete_cmd_prefix": "del ",
     "library": "var_list.py",
     "varRefreshCmd": "print(var_dic_list())"
    },
    "r": {
     "delete_cmd_postfix": ") ",
     "delete_cmd_prefix": "rm(",
     "library": "var_list.r",
     "varRefreshCmd": "cat(var_dic_list()) "
    }
   },
   "position": {
    "height": "303.844px",
    "left": "898.667px",
    "right": "20px",
    "top": "120px",
    "width": "350px"
   },
   "types_to_exclude": [
    "module",
    "function",
    "builtin_function_or_method",
    "instance",
    "_Feature"
   ],
   "window_display": false
  }
 },
 "nbformat": 4,
 "nbformat_minor": 5
}
