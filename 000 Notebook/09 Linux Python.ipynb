{
 "cells": [
  {
   "attachments": {},
   "cell_type": "markdown",
   "metadata": {},
   "source": [
    "# 配置Python虚拟环境\n",
    "> [WSL+VS Code venv B站视频](https://www.bilibili.com/video/BV1Lv411t7ov/?spm_id_from=333.1007.top_right_bar_window_history.content.click&vd_source=957fbba2797c34333c41692ac48e7aca \"apt updata/pip/venv创建激活\")\n",
    ">   1. [apt source list更新](https://blog.csdn.net/Lyncai/article/details/80934683)\n",
    "\n",
    ">    1. sudo apt-get install python3-pip  \n",
    ">    2. sudo apy-get install python3-venv  \n",
    ">    3. python3 -m venv (env-py310)(名字)  \n",
    ">    4. 启动 source ./env-py310/bin/activate   \n",
    ">    5. 退出 deactivate  \n"
   ]
  },
  {
   "attachments": {},
   "cell_type": "markdown",
   "metadata": {},
   "source": [
    "# Linux下画图字体问题\n",
    "> **目前还不是特别明白，但是设置成功了(times new roman)**   \n",
    "**应该是既要在linux系统中增加该字体，又要在Linux python下修改matplotlibrc配置文件**  \n",
    "[csdn Linux下的python修改画图的字体](https://blog.csdn.net/qq_32442683/article/details/108298763?ops_request_misc=&request_id=&biz_id=102&utm_term=python%20linux%20%E6%94%B9%E5%8F%98%E5%AD%97%E4%BD%93&utm_medium=distribute.pc_search_result.none-task-blog-2~all~sobaiduweb~default-0-108298763.142^v70^control,201^v4^add_ask&spm=1018.2226.3001.4187)  \n",
    "[Linux下python matplotlib画图修改中文字体(小方块)](https://blog.csdn.net/weixin_44201449/article/details/121989886?ops_request_misc=%257B%2522request%255Fid%2522%253A%2522167327280416800182737143%2522%252C%2522scm%2522%253A%252220140713.130102334.pc%255Fall.%2522%257D&request_id=167327280416800182737143&biz_id=0&utm_medium=distribute.pc_search_result.none-task-blog-2~all~first_rank_ecpm_v1~rank_v31_ecpm-1-121989886-null-null.142^v70^control,201^v4^add_ask&utm_term=python%20linux%20%E6%94%B9%E5%8F%98%E5%AD%97%E4%BD%93&spm=1018.2226.3001.4187)\n",
    "## mpl修改默认字体"
   ]
  }
 ],
 "metadata": {
  "kernelspec": {
   "display_name": "env-py310",
   "language": "python",
   "name": "python3"
  },
  "language_info": {
   "codemirror_mode": {
    "name": "ipython",
    "version": 3
   },
   "file_extension": ".py",
   "mimetype": "text/x-python",
   "name": "python",
   "nbconvert_exporter": "python",
   "pygments_lexer": "ipython3",
   "version": "3.10.6 (main, Nov 14 2022, 16:10:14) [GCC 11.3.0]"
  },
  "orig_nbformat": 4,
  "vscode": {
   "interpreter": {
    "hash": "c45877ca8879bd6de1f8ecfa1b07a6092539ffb29764f4d7259821dd181faedb"
   }
  }
 },
 "nbformat": 4,
 "nbformat_minor": 2
}
