{
 "cells": [
  {
   "cell_type": "code",
   "execution_count": 14,
   "id": "5dc98fd5",
   "metadata": {},
   "outputs": [],
   "source": [
    "import netCDF4 as nc\n",
    "import numpy as np\n",
    "import xarray as xr\n",
    "import pandas as pd\n",
    "from collections import Counter"
   ]
  },
  {
   "cell_type": "markdown",
   "id": "fefd55a8",
   "metadata": {},
   "source": [
    "## 程序1\n",
    "### 字符串分裂、list添加"
   ]
  },
  {
   "cell_type": "code",
   "execution_count": 11,
   "id": "d9ea04bb",
   "metadata": {},
   "outputs": [],
   "source": [
    "def read_nc(yr):\n",
    "    inpath = r'D:/study/ESA300m/esa_0.05_2001_2020_southCHN/ESA0.05_%d.nc' % yr\n",
    "    global flag_colors, flag_values, flag_meanings, lat, lon\n",
    "    with nc.Dataset(inpath, mode='r') as f:\n",
    "        # print(f.variables.keys())\n",
    "        # print(f.variables['lcc'])\n",
    "        lcc = (f.variables['lcc'][:])\n",
    "\n",
    "        if yr == 2001:\n",
    "            lat = (f.variables['lat'][:])\n",
    "            lon = (f.variables['lon'][:])\n",
    "            flag_colors = f.variables['lcc'].flag_colors\n",
    "            flag_values = f.variables['lcc'].flag_values\n",
    "            flag_meanings = f.variables['lcc'].flag_meanings\n",
    "\n",
    "    return lcc\n",
    "\n",
    "\n",
    "yr = 2001\n",
    "lcc = read_nc(yr)"
   ]
  },
  {
   "cell_type": "code",
   "execution_count": 12,
   "id": "2181c62c",
   "metadata": {},
   "outputs": [],
   "source": [
    "# %%颜色设置 需要首先单独运行\n",
    "def normal_set():\n",
    "    global pdLUC\n",
    "    clist = flag_colors.split(sep=\" \")\n",
    "    colors = [\"#17202A\"]\n",
    "    colors.extend(clist)\n",
    "\n",
    "    meanings = flag_meanings.split(sep=\" \")\n",
    "\n",
    "    pdLUC = pd.DataFrame({\"luc\": meanings, \"values\": flag_values,\n",
    "                          \"colors\": colors})\n",
    "    \n",
    "normal_set()"
   ]
  },
  {
   "cell_type": "markdown",
   "id": "cd7bbbe8",
   "metadata": {},
   "source": [
    "### 元素统计"
   ]
  },
  {
   "cell_type": "code",
   "execution_count": 15,
   "id": "3af477f6",
   "metadata": {},
   "outputs": [],
   "source": [
    "def count1(data):\n",
    "    global cou, cou_uni, cou_sort\n",
    "    sp = data.shape\n",
    "    \n",
    "    data=np.array(data)\n",
    "    data_new=data.reshape(sp[0]*sp[1])\n",
    "    cou= Counter(data_new)\n",
    "    cou_uni= np.unique(data_new)\n",
    "    cou_sort=list(cou.items())\n",
    "    cou_sort.sort()\n",
    "    \n",
    "    return cou, cou_uni, cou_sort"
   ]
  },
  {
   "cell_type": "markdown",
   "id": "d5cdb0b8",
   "metadata": {},
   "source": [
    "## 程序2\n",
    "### 判断两列表是否相同，比较相同元素和不同元素\n",
    "[CSDN链接](https://blog.csdn.net/sxn777/article/details/102561584)"
   ]
  },
  {
   "cell_type": "code",
   "execution_count": null,
   "id": "01137614",
   "metadata": {},
   "outputs": [],
   "source": []
  }
 ],
 "metadata": {
  "kernelspec": {
   "display_name": "Python 3 (ipykernel)",
   "language": "python",
   "name": "python3"
  },
  "language_info": {
   "codemirror_mode": {
    "name": "ipython",
    "version": 3
   },
   "file_extension": ".py",
   "mimetype": "text/x-python",
   "name": "python",
   "nbconvert_exporter": "python",
   "pygments_lexer": "ipython3",
   "version": "3.9.12"
  },
  "toc": {
   "base_numbering": 1,
   "nav_menu": {},
   "number_sections": true,
   "sideBar": true,
   "skip_h1_title": false,
   "title_cell": "Table of Contents",
   "title_sidebar": "Contents",
   "toc_cell": false,
   "toc_position": {},
   "toc_section_display": true,
   "toc_window_display": true
  },
  "varInspector": {
   "cols": {
    "lenName": 16,
    "lenType": 16,
    "lenVar": 40
   },
   "kernels_config": {
    "python": {
     "delete_cmd_postfix": "",
     "delete_cmd_prefix": "del ",
     "library": "var_list.py",
     "varRefreshCmd": "print(var_dic_list())"
    },
    "r": {
     "delete_cmd_postfix": ") ",
     "delete_cmd_prefix": "rm(",
     "library": "var_list.r",
     "varRefreshCmd": "cat(var_dic_list()) "
    }
   },
   "oldHeight": 356.85,
   "position": {
    "height": "230px",
    "left": "984.2px",
    "right": "20px",
    "top": "130px",
    "width": "473px"
   },
   "types_to_exclude": [
    "module",
    "function",
    "builtin_function_or_method",
    "instance",
    "_Feature"
   ],
   "varInspector_section_display": "none",
   "window_display": false
  }
 },
 "nbformat": 4,
 "nbformat_minor": 5
}
