{
 "cells": [
  {
   "cell_type": "markdown",
   "id": "604eede1",
   "metadata": {},
   "source": [
    "# 批量生成GLASS AVHRR 数据下载链接"
   ]
  },
  {
   "cell_type": "code",
   "execution_count": null,
   "id": "14bd4cfa",
   "metadata": {},
   "outputs": [],
   "source": [
    "import numpy as np\n",
    "import pandas as pd\n",
    "\n",
    "# %% 1982-2015\n",
    "path = \"http://www.glass.umd.edu/GPP/AVHRR/1982/GLASS12B02.V40.A1982001.2019363.hdf\"\n",
    "\n",
    "\n",
    "year = np.arange(1982, 2018, 1)\n",
    "path2 = []\n",
    "\n",
    "for yr in year:\n",
    "    a = []\n",
    "    for i in range(46):\n",
    "        a.append(str(i*8+1).zfill(3))\n",
    "    for x in a:\n",
    "        path2.append(\n",
    "            f\"http://www.glass.umd.edu/GPP/AVHRR/{yr}/GLASS12B02.V40.A{yr}{x}.2019363.hdf\")\n",
    "\n",
    "# %%\n",
    "\n",
    "df = pd.DataFrame(path2, columns=['url'])\n",
    "\n",
    "df.to_csv(r\"C:/Users/MaYutong/Desktop/GLASS-GPP 1982-2017.txt\",\n",
    "          index=False, header=False)\n",
    "\n",
    "# %% 2016-2018\n",
    "year = np.arange(2018, 2019, 1)\n",
    "path2 = []\n",
    "\n",
    "for yr in year:\n",
    "    a = []\n",
    "    for i in range(46):\n",
    "        a.append(str(i*8+1).zfill(3))\n",
    "    for x in a:\n",
    "        path2.append(\n",
    "            f\"http://www.glass.umd.edu/GPP/AVHRR/{yr}/GLASS12B02.V40.A{yr}{x}.2020352.hdf\")\n",
    "\n",
    "df2 = pd.DataFrame(path2, columns=['url'])\n",
    "\n",
    "df2.to_csv(r\"C:/Users/MaYutong/Desktop/GLASS-GPP 2018.txt\",\n",
    "           index=False, header=False)"
   ]
  }
 ],
 "metadata": {
  "kernelspec": {
   "display_name": "Python 3",
   "language": "python",
   "name": "python3"
  },
  "language_info": {
   "codemirror_mode": {
    "name": "ipython",
    "version": 3
   },
   "file_extension": ".py",
   "mimetype": "text/x-python",
   "name": "python",
   "nbconvert_exporter": "python",
   "pygments_lexer": "ipython3",
   "version": "3.8.8"
  },
  "toc": {
   "base_numbering": 1,
   "nav_menu": {},
   "number_sections": true,
   "sideBar": true,
   "skip_h1_title": false,
   "title_cell": "Table of Contents",
   "title_sidebar": "Contents",
   "toc_cell": false,
   "toc_position": {},
   "toc_section_display": true,
   "toc_window_display": false
  },
  "varInspector": {
   "cols": {
    "lenName": 16,
    "lenType": 16,
    "lenVar": 40
   },
   "kernels_config": {
    "python": {
     "delete_cmd_postfix": "",
     "delete_cmd_prefix": "del ",
     "library": "var_list.py",
     "varRefreshCmd": "print(var_dic_list())"
    },
    "r": {
     "delete_cmd_postfix": ") ",
     "delete_cmd_prefix": "rm(",
     "library": "var_list.r",
     "varRefreshCmd": "cat(var_dic_list()) "
    }
   },
   "types_to_exclude": [
    "module",
    "function",
    "builtin_function_or_method",
    "instance",
    "_Feature"
   ],
   "window_display": false
  }
 },
 "nbformat": 4,
 "nbformat_minor": 5
}
