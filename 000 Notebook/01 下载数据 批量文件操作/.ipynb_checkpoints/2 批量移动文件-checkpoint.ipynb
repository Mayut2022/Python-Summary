{
 "cells": [
  {
   "cell_type": "code",
   "execution_count": null,
   "id": "5d4a416d",
   "metadata": {},
   "outputs": [],
   "source": [
    "import numpy as np\n",
    "import os\n",
    "import shutil  # 文件移动所需的库\n",
    "\n",
    "# 想要移动文件所在的根目录\n",
    "rootdir = r\"E:/GLASS-NPP/AVHRR\"\n",
    "# 获取目录下文件名清单\n",
    "files = os.listdir(rootdir)\n",
    "\n",
    "yr = np.arange(1982, 2019, 1)\n",
    "\n",
    "\n",
    "for file in files:\n",
    "    for x in yr:\n",
    "        if f'A{x}' in file:  # 因为索要移动的文件名均有‘_’,因此利用此判断其是否是所需要移动的文件\n",
    "            full_path = os.path.join(rootdir, file)  # 完整的路径\n",
    "            des_path = f\"E:/GLASS-NPP/AVHRR/{x}\"          # 目标路径\n",
    "            shutil.move(full_path, des_path)                 # 移动文件到目标路径\n",
    "            print(full_path)\n",
    "            print(des_path)"
   ]
  }
 ],
 "metadata": {
  "kernelspec": {
   "display_name": "Python 3",
   "language": "python",
   "name": "python3"
  },
  "language_info": {
   "codemirror_mode": {
    "name": "ipython",
    "version": 3
   },
   "file_extension": ".py",
   "mimetype": "text/x-python",
   "name": "python",
   "nbconvert_exporter": "python",
   "pygments_lexer": "ipython3",
   "version": "3.8.8"
  },
  "toc": {
   "base_numbering": 1,
   "nav_menu": {},
   "number_sections": true,
   "sideBar": true,
   "skip_h1_title": false,
   "title_cell": "Table of Contents",
   "title_sidebar": "Contents",
   "toc_cell": false,
   "toc_position": {},
   "toc_section_display": true,
   "toc_window_display": false
  },
  "varInspector": {
   "cols": {
    "lenName": 16,
    "lenType": 16,
    "lenVar": 40
   },
   "kernels_config": {
    "python": {
     "delete_cmd_postfix": "",
     "delete_cmd_prefix": "del ",
     "library": "var_list.py",
     "varRefreshCmd": "print(var_dic_list())"
    },
    "r": {
     "delete_cmd_postfix": ") ",
     "delete_cmd_prefix": "rm(",
     "library": "var_list.r",
     "varRefreshCmd": "cat(var_dic_list()) "
    }
   },
   "types_to_exclude": [
    "module",
    "function",
    "builtin_function_or_method",
    "instance",
    "_Feature"
   ],
   "window_display": false
  }
 },
 "nbformat": 4,
 "nbformat_minor": 5
}
