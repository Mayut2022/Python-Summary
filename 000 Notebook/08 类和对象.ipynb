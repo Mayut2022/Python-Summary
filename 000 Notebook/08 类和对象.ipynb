{
 "cells": [
  {
   "cell_type": "code",
   "execution_count": null,
   "metadata": {},
   "outputs": [],
   "source": []
  },
  {
   "cell_type": "code",
   "execution_count": null,
   "metadata": {},
   "outputs": [],
   "source": []
  },
  {
   "cell_type": "code",
   "execution_count": 64,
   "metadata": {},
   "outputs": [],
   "source": [
    "class Basketball:\n",
    "    mvp = \"Russell Westbrook\"\n",
    "\n",
    "    def read(self):\n",
    "        print(\"aaaaaaaaaaaaaaa\")\n",
    "\n",
    "    def cal(self, a):\n",
    "        return a\n",
    "\n",
    "\n",
    "class Football:\n",
    "    mvp = \"Messi\"\n",
    "\n",
    "    def read(self):\n",
    "        print(\"bbbbbbbbbbbbbbbbb\")\n",
    "\n",
    "    def cal2(self, data):\n",
    "        a = data+2\n",
    "        return a"
   ]
  },
  {
   "attachments": {},
   "cell_type": "markdown",
   "metadata": {},
   "source": [
    "## 类的组合"
   ]
  },
  {
   "cell_type": "code",
   "execution_count": 65,
   "metadata": {},
   "outputs": [],
   "source": [
    "class Sport:\n",
    "    b = Basketball()\n",
    "    f = Football()\n",
    "    def haha(self, var):\n",
    "        self.b.read()\n",
    "        a = self.b.cal(var)\n",
    "        self.f.read()\n",
    "        a2 = self.f.cal2(a)\n",
    "        return a, a2"
   ]
  },
  {
   "cell_type": "code",
   "execution_count": 66,
   "metadata": {},
   "outputs": [
    {
     "name": "stdout",
     "output_type": "stream",
     "text": [
      "aaaaaaaaaaaaaaa\n",
      "bbbbbbbbbbbbbbbbb\n"
     ]
    }
   ],
   "source": [
    "s = Sport()\n",
    "a, a2 = s.haha(3)"
   ]
  },
  {
   "cell_type": "code",
   "execution_count": 67,
   "metadata": {},
   "outputs": [
    {
     "name": "stdout",
     "output_type": "stream",
     "text": [
      "20\n",
      "{'a': 20}\n",
      "20\n",
      "{'b': <__main__.Basketball object at 0x7fa058497d90>, 'a': 20}\n"
     ]
    }
   ],
   "source": [
    "def test1():\n",
    "    #b = Basketball()\n",
    "    a = Basketball().cal(20)\n",
    "    print(a)\n",
    "    print(locals())\n",
    "\n",
    "test1()\n",
    "\n",
    "def test2():\n",
    "    b = Basketball()\n",
    "    a = b.cal(20)\n",
    "    print(a)\n",
    "    print(locals())\n",
    "\n",
    "test2()"
   ]
  },
  {
   "cell_type": "code",
   "execution_count": null,
   "metadata": {},
   "outputs": [],
   "source": []
  }
 ],
 "metadata": {
  "kernelspec": {
   "display_name": "env-py310",
   "language": "python",
   "name": "python3"
  },
  "language_info": {
   "codemirror_mode": {
    "name": "ipython",
    "version": 3
   },
   "file_extension": ".py",
   "mimetype": "text/x-python",
   "name": "python",
   "nbconvert_exporter": "python",
   "pygments_lexer": "ipython3",
   "version": "3.10.6 (main, Nov 14 2022, 16:10:14) [GCC 11.3.0]"
  },
  "orig_nbformat": 4,
  "vscode": {
   "interpreter": {
    "hash": "c45877ca8879bd6de1f8ecfa1b07a6092539ffb29764f4d7259821dd181faedb"
   }
  }
 },
 "nbformat": 4,
 "nbformat_minor": 2
}
