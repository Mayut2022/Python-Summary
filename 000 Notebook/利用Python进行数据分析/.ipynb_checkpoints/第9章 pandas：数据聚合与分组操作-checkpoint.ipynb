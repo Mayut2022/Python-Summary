{
 "cells": [
  {
   "cell_type": "code",
   "execution_count": 2,
   "id": "43fc2e03-4a09-489b-8264-fda23943581c",
   "metadata": {
    "ExecuteTime": {
     "end_time": "2022-08-28T03:25:21.785079Z",
     "start_time": "2022-08-28T03:25:20.611224Z"
    }
   },
   "outputs": [],
   "source": [
    "import numpy as np\n",
    "import pandas as pd"
   ]
  },
  {
   "cell_type": "code",
   "execution_count": 45,
   "id": "24077cd1-d0ae-403c-a679-0a3170523a9b",
   "metadata": {
    "ExecuteTime": {
     "end_time": "2022-08-28T03:53:14.404373Z",
     "start_time": "2022-08-28T03:53:14.387835Z"
    }
   },
   "outputs": [],
   "source": [
    "df = pd.DataFrame({'key1': list(\"aabba\"), 'key2': list(\"FGRRG\"),\n",
    "                  'data1': range(5), 'data2': np.random.randn(5)})\n",
    "\n",
    "people = pd.DataFrame(np.random.randn(5, 5), columns=list(\n",
    "    \"abcde\"), index=['Joe', 'Steve', 'Wes', 'Jim', 'Travis'])\n",
    "\n",
    "people2 = people\n",
    "people2.columns = [people2.columns, list(\"AABBA\")]"
   ]
  },
  {
   "cell_type": "markdown",
   "id": "992e2147-5dea-4d7e-99b4-64155499d2fc",
   "metadata": {},
   "source": [
    "# GroupBy (Chap 10.1) \n",
    "> 各种分组操作；"
   ]
  },
  {
   "cell_type": "code",
   "execution_count": 11,
   "id": "d66eed2c-7a94-4c3a-8fa7-a9322c66ae1f",
   "metadata": {
    "ExecuteTime": {
     "end_time": "2022-08-28T03:25:54.806844Z",
     "start_time": "2022-08-28T03:25:54.785797Z"
    }
   },
   "outputs": [
    {
     "data": {
      "text/html": [
       "<div>\n",
       "<style scoped>\n",
       "    .dataframe tbody tr th:only-of-type {\n",
       "        vertical-align: middle;\n",
       "    }\n",
       "\n",
       "    .dataframe tbody tr th {\n",
       "        vertical-align: top;\n",
       "    }\n",
       "\n",
       "    .dataframe thead th {\n",
       "        text-align: right;\n",
       "    }\n",
       "</style>\n",
       "<table border=\"1\" class=\"dataframe\">\n",
       "  <thead>\n",
       "    <tr style=\"text-align: right;\">\n",
       "      <th></th>\n",
       "      <th>key1</th>\n",
       "      <th>key2</th>\n",
       "      <th>data1</th>\n",
       "      <th>data2</th>\n",
       "    </tr>\n",
       "  </thead>\n",
       "  <tbody>\n",
       "    <tr>\n",
       "      <th>0</th>\n",
       "      <td>a</td>\n",
       "      <td>F</td>\n",
       "      <td>0</td>\n",
       "      <td>0.002118</td>\n",
       "    </tr>\n",
       "    <tr>\n",
       "      <th>1</th>\n",
       "      <td>a</td>\n",
       "      <td>G</td>\n",
       "      <td>1</td>\n",
       "      <td>0.405453</td>\n",
       "    </tr>\n",
       "    <tr>\n",
       "      <th>2</th>\n",
       "      <td>b</td>\n",
       "      <td>R</td>\n",
       "      <td>2</td>\n",
       "      <td>0.289092</td>\n",
       "    </tr>\n",
       "    <tr>\n",
       "      <th>3</th>\n",
       "      <td>b</td>\n",
       "      <td>R</td>\n",
       "      <td>3</td>\n",
       "      <td>1.321158</td>\n",
       "    </tr>\n",
       "    <tr>\n",
       "      <th>4</th>\n",
       "      <td>a</td>\n",
       "      <td>G</td>\n",
       "      <td>4</td>\n",
       "      <td>-1.546906</td>\n",
       "    </tr>\n",
       "  </tbody>\n",
       "</table>\n",
       "</div>"
      ],
      "text/plain": [
       "  key1 key2  data1     data2\n",
       "0    a    F      0  0.002118\n",
       "1    a    G      1  0.405453\n",
       "2    b    R      2  0.289092\n",
       "3    b    R      3  1.321158\n",
       "4    a    G      4 -1.546906"
      ]
     },
     "execution_count": 11,
     "metadata": {},
     "output_type": "execute_result"
    }
   ],
   "source": [
    "df = pd.DataFrame({'key1': list(\"aabba\"), 'key2': list(\"FGRRG\"),\n",
    "                  'data1': range(5), 'data2': np.random.randn(5)}) \n",
    "df"
   ]
  },
  {
   "cell_type": "code",
   "execution_count": 9,
   "id": "7b261e24-87c0-41e8-8ebd-64631ff6e2bd",
   "metadata": {
    "ExecuteTime": {
     "end_time": "2022-08-28T03:25:49.991678Z",
     "start_time": "2022-08-28T03:25:49.967484Z"
    }
   },
   "outputs": [
    {
     "data": {
      "text/plain": [
       "key1\n",
       "a    1.666667\n",
       "b    2.500000\n",
       "Name: data1, dtype: float64"
      ]
     },
     "execution_count": 9,
     "metadata": {},
     "output_type": "execute_result"
    }
   ],
   "source": [
    "grouped = df['data1'].groupby(df['key1'])\n",
    "grouped.mean()"
   ]
  },
  {
   "cell_type": "code",
   "execution_count": 24,
   "id": "edafb995-263d-4804-893a-f241d2c92d1c",
   "metadata": {},
   "outputs": [
    {
     "data": {
      "text/html": [
       "<div>\n",
       "<style scoped>\n",
       "    .dataframe tbody tr th:only-of-type {\n",
       "        vertical-align: middle;\n",
       "    }\n",
       "\n",
       "    .dataframe tbody tr th {\n",
       "        vertical-align: top;\n",
       "    }\n",
       "\n",
       "    .dataframe thead th {\n",
       "        text-align: right;\n",
       "    }\n",
       "</style>\n",
       "<table border=\"1\" class=\"dataframe\">\n",
       "  <thead>\n",
       "    <tr style=\"text-align: right;\">\n",
       "      <th>key2</th>\n",
       "      <th>F</th>\n",
       "      <th>G</th>\n",
       "      <th>R</th>\n",
       "    </tr>\n",
       "    <tr>\n",
       "      <th>key1</th>\n",
       "      <th></th>\n",
       "      <th></th>\n",
       "      <th></th>\n",
       "    </tr>\n",
       "  </thead>\n",
       "  <tbody>\n",
       "    <tr>\n",
       "      <th>a</th>\n",
       "      <td>0.0</td>\n",
       "      <td>2.5</td>\n",
       "      <td>NaN</td>\n",
       "    </tr>\n",
       "    <tr>\n",
       "      <th>b</th>\n",
       "      <td>NaN</td>\n",
       "      <td>NaN</td>\n",
       "      <td>2.5</td>\n",
       "    </tr>\n",
       "  </tbody>\n",
       "</table>\n",
       "</div>"
      ],
      "text/plain": [
       "key2    F    G    R\n",
       "key1               \n",
       "a     0.0  2.5  NaN\n",
       "b     NaN  NaN  2.5"
      ]
     },
     "execution_count": 24,
     "metadata": {},
     "output_type": "execute_result"
    }
   ],
   "source": [
    "means = df['data1'].groupby([df['key1'], df['key2']])\n",
    "means.mean()\n",
    "means.mean().unstack()"
   ]
  },
  {
   "cell_type": "markdown",
   "id": "9e98c81d-d297-4ce5-82a7-928ce7f256eb",
   "metadata": {},
   "source": [
    "### 遍历各元祖（Chap 10.1.1）\n",
    "> groupby对象支持迭代，会生成一个包含组名和数据块的二维元祖序列；（暂时没搞懂和上述部分对象的差别）"
   ]
  },
  {
   "cell_type": "code",
   "execution_count": 14,
   "id": "d7cbb893-d45b-4147-927d-2d2b23c1ee97",
   "metadata": {},
   "outputs": [
    {
     "data": {
      "text/html": [
       "<div>\n",
       "<style scoped>\n",
       "    .dataframe tbody tr th:only-of-type {\n",
       "        vertical-align: middle;\n",
       "    }\n",
       "\n",
       "    .dataframe tbody tr th {\n",
       "        vertical-align: top;\n",
       "    }\n",
       "\n",
       "    .dataframe thead th {\n",
       "        text-align: right;\n",
       "    }\n",
       "</style>\n",
       "<table border=\"1\" class=\"dataframe\">\n",
       "  <thead>\n",
       "    <tr style=\"text-align: right;\">\n",
       "      <th></th>\n",
       "      <th>key1</th>\n",
       "      <th>key2</th>\n",
       "      <th>data1</th>\n",
       "      <th>data2</th>\n",
       "    </tr>\n",
       "  </thead>\n",
       "  <tbody>\n",
       "    <tr>\n",
       "      <th>0</th>\n",
       "      <td>a</td>\n",
       "      <td>F</td>\n",
       "      <td>0</td>\n",
       "      <td>-0.553700</td>\n",
       "    </tr>\n",
       "    <tr>\n",
       "      <th>1</th>\n",
       "      <td>a</td>\n",
       "      <td>G</td>\n",
       "      <td>1</td>\n",
       "      <td>0.573107</td>\n",
       "    </tr>\n",
       "    <tr>\n",
       "      <th>2</th>\n",
       "      <td>b</td>\n",
       "      <td>R</td>\n",
       "      <td>2</td>\n",
       "      <td>0.460426</td>\n",
       "    </tr>\n",
       "    <tr>\n",
       "      <th>3</th>\n",
       "      <td>b</td>\n",
       "      <td>R</td>\n",
       "      <td>3</td>\n",
       "      <td>0.680774</td>\n",
       "    </tr>\n",
       "    <tr>\n",
       "      <th>4</th>\n",
       "      <td>a</td>\n",
       "      <td>G</td>\n",
       "      <td>4</td>\n",
       "      <td>1.569878</td>\n",
       "    </tr>\n",
       "  </tbody>\n",
       "</table>\n",
       "</div>"
      ],
      "text/plain": [
       "  key1 key2  data1     data2\n",
       "0    a    F      0 -0.553700\n",
       "1    a    G      1  0.573107\n",
       "2    b    R      2  0.460426\n",
       "3    b    R      3  0.680774\n",
       "4    a    G      4  1.569878"
      ]
     },
     "execution_count": 14,
     "metadata": {},
     "output_type": "execute_result"
    }
   ],
   "source": [
    "df = pd.DataFrame({'key1': list(\"aabba\"), 'key2': list(\"FGRRG\"),\n",
    "                  'data1': range(5), 'data2': np.random.randn(5)}) \n",
    "df"
   ]
  },
  {
   "cell_type": "code",
   "execution_count": 27,
   "id": "bd2a957c-7850-418e-8109-94c71ffa3445",
   "metadata": {},
   "outputs": [
    {
     "name": "stdout",
     "output_type": "stream",
     "text": [
      "a\n",
      "  key1 key2  data1     data2\n",
      "0    a    F      0 -0.600830\n",
      "1    a    G      1 -0.490688\n",
      "4    a    G      4  2.052609\n",
      "b\n",
      "  key1 key2  data1     data2\n",
      "2    b    R      2 -0.647909\n",
      "3    b    R      3 -0.835410\n"
     ]
    }
   ],
   "source": [
    "for name, group in df.groupby('key1'):\n",
    "    print(name)\n",
    "    print(group)"
   ]
  },
  {
   "cell_type": "code",
   "execution_count": 29,
   "id": "8d8384e4-adee-4f90-a956-e3c0beefbcd7",
   "metadata": {},
   "outputs": [
    {
     "name": "stdout",
     "output_type": "stream",
     "text": [
      "a F\n",
      "  key1 key2  data1    data2\n",
      "0    a    F      0 -0.60083 \n",
      "\n",
      "a G\n",
      "  key1 key2  data1     data2\n",
      "1    a    G      1 -0.490688\n",
      "4    a    G      4  2.052609 \n",
      "\n",
      "b R\n",
      "  key1 key2  data1     data2\n",
      "2    b    R      2 -0.647909\n",
      "3    b    R      3 -0.835410 \n",
      "\n"
     ]
    }
   ],
   "source": [
    "for (name1, name2), group in df.groupby(['key1', 'key2']):\n",
    "    print(name1, name2)\n",
    "    print(group, '\\n')"
   ]
  },
  {
   "cell_type": "code",
   "execution_count": 39,
   "id": "04039436-6d48-41a6-8443-f0c1ceaba1a9",
   "metadata": {},
   "outputs": [
    {
     "data": {
      "text/html": [
       "<div>\n",
       "<style scoped>\n",
       "    .dataframe tbody tr th:only-of-type {\n",
       "        vertical-align: middle;\n",
       "    }\n",
       "\n",
       "    .dataframe tbody tr th {\n",
       "        vertical-align: top;\n",
       "    }\n",
       "\n",
       "    .dataframe thead th {\n",
       "        text-align: right;\n",
       "    }\n",
       "</style>\n",
       "<table border=\"1\" class=\"dataframe\">\n",
       "  <thead>\n",
       "    <tr style=\"text-align: right;\">\n",
       "      <th></th>\n",
       "      <th>key1</th>\n",
       "      <th>key2</th>\n",
       "      <th>data1</th>\n",
       "      <th>data2</th>\n",
       "    </tr>\n",
       "  </thead>\n",
       "  <tbody>\n",
       "    <tr>\n",
       "      <th>0</th>\n",
       "      <td>a</td>\n",
       "      <td>F</td>\n",
       "      <td>0</td>\n",
       "      <td>2.298112</td>\n",
       "    </tr>\n",
       "    <tr>\n",
       "      <th>1</th>\n",
       "      <td>a</td>\n",
       "      <td>G</td>\n",
       "      <td>1</td>\n",
       "      <td>-0.878329</td>\n",
       "    </tr>\n",
       "    <tr>\n",
       "      <th>4</th>\n",
       "      <td>a</td>\n",
       "      <td>G</td>\n",
       "      <td>4</td>\n",
       "      <td>0.211350</td>\n",
       "    </tr>\n",
       "  </tbody>\n",
       "</table>\n",
       "</div>"
      ],
      "text/plain": [
       "  key1 key2  data1     data2\n",
       "0    a    F      0  2.298112\n",
       "1    a    G      1 -0.878329\n",
       "4    a    G      4  0.211350"
      ]
     },
     "execution_count": 39,
     "metadata": {},
     "output_type": "execute_result"
    }
   ],
   "source": [
    "pieces = df.groupby('key1')\n",
    "piece1 = list(pieces)\n",
    "piece1[0][1]\n",
    "piece2 = dict(piece1)\n",
    "piece2['a']"
   ]
  },
  {
   "cell_type": "code",
   "execution_count": 54,
   "id": "ad925da6-cb6a-47c7-9f00-1abf9c1f2eeb",
   "metadata": {},
   "outputs": [
    {
     "name": "stdout",
     "output_type": "stream",
     "text": [
      "int64 \n",
      "    data1\n",
      "0      0\n",
      "1      1\n",
      "2      2\n",
      "3      3\n",
      "4      4 \n",
      "\n",
      "float64 \n",
      "       data2\n",
      "0  2.298112\n",
      "1 -0.878329\n",
      "2  1.184494\n",
      "3 -0.104464\n",
      "4  0.211350 \n",
      "\n",
      "object \n",
      "   key1 key2\n",
      "0    a    F\n",
      "1    a    G\n",
      "2    b    R\n",
      "3    b    R\n",
      "4    a    G \n",
      "\n"
     ]
    }
   ],
   "source": [
    "grouped = df.groupby(df.dtypes, axis=1)\n",
    "for dtype, group in grouped:\n",
    "    print(dtype,'\\n', group, '\\n')"
   ]
  },
  {
   "cell_type": "markdown",
   "id": "6296e75a-fb6e-4926-94dc-ba522ef6e2ae",
   "metadata": {},
   "source": [
    "### 选择一列或所有列的子集(Chap 10.1.2)\n",
    "> 先groupby后索引 与 先索引后groupby互为语法糖"
   ]
  },
  {
   "cell_type": "code",
   "execution_count": 14,
   "id": "63151db2-1284-4441-baf8-c050c361665c",
   "metadata": {},
   "outputs": [
    {
     "data": {
      "text/html": [
       "<div>\n",
       "<style scoped>\n",
       "    .dataframe tbody tr th:only-of-type {\n",
       "        vertical-align: middle;\n",
       "    }\n",
       "\n",
       "    .dataframe tbody tr th {\n",
       "        vertical-align: top;\n",
       "    }\n",
       "\n",
       "    .dataframe thead th {\n",
       "        text-align: right;\n",
       "    }\n",
       "</style>\n",
       "<table border=\"1\" class=\"dataframe\">\n",
       "  <thead>\n",
       "    <tr style=\"text-align: right;\">\n",
       "      <th></th>\n",
       "      <th>key1</th>\n",
       "      <th>key2</th>\n",
       "      <th>data1</th>\n",
       "      <th>data2</th>\n",
       "    </tr>\n",
       "  </thead>\n",
       "  <tbody>\n",
       "    <tr>\n",
       "      <th>0</th>\n",
       "      <td>a</td>\n",
       "      <td>F</td>\n",
       "      <td>0</td>\n",
       "      <td>-0.553700</td>\n",
       "    </tr>\n",
       "    <tr>\n",
       "      <th>1</th>\n",
       "      <td>a</td>\n",
       "      <td>G</td>\n",
       "      <td>1</td>\n",
       "      <td>0.573107</td>\n",
       "    </tr>\n",
       "    <tr>\n",
       "      <th>2</th>\n",
       "      <td>b</td>\n",
       "      <td>R</td>\n",
       "      <td>2</td>\n",
       "      <td>0.460426</td>\n",
       "    </tr>\n",
       "    <tr>\n",
       "      <th>3</th>\n",
       "      <td>b</td>\n",
       "      <td>R</td>\n",
       "      <td>3</td>\n",
       "      <td>0.680774</td>\n",
       "    </tr>\n",
       "    <tr>\n",
       "      <th>4</th>\n",
       "      <td>a</td>\n",
       "      <td>G</td>\n",
       "      <td>4</td>\n",
       "      <td>1.569878</td>\n",
       "    </tr>\n",
       "  </tbody>\n",
       "</table>\n",
       "</div>"
      ],
      "text/plain": [
       "  key1 key2  data1     data2\n",
       "0    a    F      0 -0.553700\n",
       "1    a    G      1  0.573107\n",
       "2    b    R      2  0.460426\n",
       "3    b    R      3  0.680774\n",
       "4    a    G      4  1.569878"
      ]
     },
     "execution_count": 14,
     "metadata": {},
     "output_type": "execute_result"
    }
   ],
   "source": [
    "df = pd.DataFrame({'key1': list(\"aabba\"), 'key2': list(\"FGRRG\"),\n",
    "                  'data1': range(5), 'data2': np.random.randn(5)}) \n",
    "df"
   ]
  },
  {
   "cell_type": "code",
   "execution_count": 56,
   "id": "61b9e3ce-c4d3-4172-9219-1707cf9943f5",
   "metadata": {},
   "outputs": [
    {
     "data": {
      "text/plain": [
       "key1\n",
       "a    1.666667\n",
       "b    2.500000\n",
       "Name: data1, dtype: float64"
      ]
     },
     "execution_count": 56,
     "metadata": {},
     "output_type": "execute_result"
    }
   ],
   "source": [
    "df.groupby('key1')['data1']\n",
    "df['data1'].groupby(df['key1'])"
   ]
  },
  {
   "cell_type": "markdown",
   "id": "c7ff818a",
   "metadata": {},
   "source": [
    "### 使用字典和Series分组（Chap 10.1.3）\n",
    "> 分组信息可能会以非数组形式存在，使用字典和Series功能相同"
   ]
  },
  {
   "cell_type": "code",
   "execution_count": 50,
   "id": "da005717-755e-4d97-bfa4-5bcbe1325c6a",
   "metadata": {
    "ExecuteTime": {
     "end_time": "2022-08-28T04:00:31.344878Z",
     "start_time": "2022-08-28T04:00:31.327924Z"
    }
   },
   "outputs": [
    {
     "data": {
      "text/html": [
       "<div>\n",
       "<style scoped>\n",
       "    .dataframe tbody tr th:only-of-type {\n",
       "        vertical-align: middle;\n",
       "    }\n",
       "\n",
       "    .dataframe tbody tr th {\n",
       "        vertical-align: top;\n",
       "    }\n",
       "\n",
       "    .dataframe thead th {\n",
       "        text-align: right;\n",
       "    }\n",
       "</style>\n",
       "<table border=\"1\" class=\"dataframe\">\n",
       "  <thead>\n",
       "    <tr style=\"text-align: right;\">\n",
       "      <th></th>\n",
       "      <th>a</th>\n",
       "      <th>b</th>\n",
       "      <th>c</th>\n",
       "      <th>d</th>\n",
       "      <th>e</th>\n",
       "    </tr>\n",
       "  </thead>\n",
       "  <tbody>\n",
       "    <tr>\n",
       "      <th>Joe</th>\n",
       "      <td>-0.722020</td>\n",
       "      <td>-0.947175</td>\n",
       "      <td>-0.282797</td>\n",
       "      <td>-0.824324</td>\n",
       "      <td>-1.992657</td>\n",
       "    </tr>\n",
       "    <tr>\n",
       "      <th>Steve</th>\n",
       "      <td>1.383521</td>\n",
       "      <td>1.438115</td>\n",
       "      <td>-0.355420</td>\n",
       "      <td>1.391176</td>\n",
       "      <td>-0.349452</td>\n",
       "    </tr>\n",
       "    <tr>\n",
       "      <th>Wes</th>\n",
       "      <td>0.240054</td>\n",
       "      <td>-0.057057</td>\n",
       "      <td>-0.173676</td>\n",
       "      <td>-0.119693</td>\n",
       "      <td>1.315562</td>\n",
       "    </tr>\n",
       "    <tr>\n",
       "      <th>Jim</th>\n",
       "      <td>0.089291</td>\n",
       "      <td>0.454389</td>\n",
       "      <td>0.854294</td>\n",
       "      <td>0.245116</td>\n",
       "      <td>0.484166</td>\n",
       "    </tr>\n",
       "    <tr>\n",
       "      <th>Travis</th>\n",
       "      <td>0.036249</td>\n",
       "      <td>-0.546831</td>\n",
       "      <td>1.459886</td>\n",
       "      <td>-1.180301</td>\n",
       "      <td>0.378125</td>\n",
       "    </tr>\n",
       "  </tbody>\n",
       "</table>\n",
       "</div>"
      ],
      "text/plain": [
       "               a         b         c         d         e\n",
       "Joe    -0.722020 -0.947175 -0.282797 -0.824324 -1.992657\n",
       "Steve   1.383521  1.438115 -0.355420  1.391176 -0.349452\n",
       "Wes     0.240054 -0.057057 -0.173676 -0.119693  1.315562\n",
       "Jim     0.089291  0.454389  0.854294  0.245116  0.484166\n",
       "Travis  0.036249 -0.546831  1.459886 -1.180301  0.378125"
      ]
     },
     "execution_count": 50,
     "metadata": {},
     "output_type": "execute_result"
    }
   ],
   "source": [
    "people = pd.DataFrame(np.random.randn(5, 5), columns=list(\n",
    "    \"abcde\"), index=['Joe', 'Steve', 'Wes', 'Jim', 'Travis'])\n",
    "people"
   ]
  },
  {
   "cell_type": "code",
   "execution_count": 24,
   "id": "b992b950-507c-4d9b-af4a-94cc976363ac",
   "metadata": {
    "ExecuteTime": {
     "end_time": "2022-08-28T03:31:23.592941Z",
     "start_time": "2022-08-28T03:31:23.560553Z"
    }
   },
   "outputs": [
    {
     "data": {
      "text/plain": [
       "{'a': 'red', 'b': 'blue', 'c': 'blue', 'd': 'blue', 'e': 'red'}"
      ]
     },
     "execution_count": 24,
     "metadata": {},
     "output_type": "execute_result"
    },
    {
     "data": {
      "text/html": [
       "<div>\n",
       "<style scoped>\n",
       "    .dataframe tbody tr th:only-of-type {\n",
       "        vertical-align: middle;\n",
       "    }\n",
       "\n",
       "    .dataframe tbody tr th {\n",
       "        vertical-align: top;\n",
       "    }\n",
       "\n",
       "    .dataframe thead th {\n",
       "        text-align: right;\n",
       "    }\n",
       "</style>\n",
       "<table border=\"1\" class=\"dataframe\">\n",
       "  <thead>\n",
       "    <tr style=\"text-align: right;\">\n",
       "      <th></th>\n",
       "      <th>blue</th>\n",
       "      <th>red</th>\n",
       "    </tr>\n",
       "  </thead>\n",
       "  <tbody>\n",
       "    <tr>\n",
       "      <th>Joe</th>\n",
       "      <td>-1.056800</td>\n",
       "      <td>-1.557359</td>\n",
       "    </tr>\n",
       "    <tr>\n",
       "      <th>Steve</th>\n",
       "      <td>2.233791</td>\n",
       "      <td>2.428823</td>\n",
       "    </tr>\n",
       "    <tr>\n",
       "      <th>Wes</th>\n",
       "      <td>-0.312115</td>\n",
       "      <td>1.681591</td>\n",
       "    </tr>\n",
       "    <tr>\n",
       "      <th>Jim</th>\n",
       "      <td>-0.121828</td>\n",
       "      <td>0.199075</td>\n",
       "    </tr>\n",
       "    <tr>\n",
       "      <th>Travis</th>\n",
       "      <td>-1.521035</td>\n",
       "      <td>-0.915657</td>\n",
       "    </tr>\n",
       "  </tbody>\n",
       "</table>\n",
       "</div>"
      ],
      "text/plain": [
       "            blue       red\n",
       "Joe    -1.056800 -1.557359\n",
       "Steve   2.233791  2.428823\n",
       "Wes    -0.312115  1.681591\n",
       "Jim    -0.121828  0.199075\n",
       "Travis -1.521035 -0.915657"
      ]
     },
     "execution_count": 24,
     "metadata": {},
     "output_type": "execute_result"
    }
   ],
   "source": [
    "mapping = dict(a='red', b='blue', c='blue', d='blue', e='red')\n",
    "mapping\n",
    "by_column = people.groupby(mapping, axis=1)\n",
    "by_column.sum()"
   ]
  },
  {
   "cell_type": "code",
   "execution_count": 39,
   "id": "7a4e5d07-5e5a-4231-b2ee-7c0384797c75",
   "metadata": {
    "ExecuteTime": {
     "end_time": "2022-08-28T03:42:39.879721Z",
     "start_time": "2022-08-28T03:42:39.844779Z"
    }
   },
   "outputs": [
    {
     "data": {
      "text/plain": [
       "Joe        red\n",
       "Steve     blue\n",
       "Wes       blue\n",
       "Jim       blue\n",
       "Travis     red\n",
       "dtype: object"
      ]
     },
     "execution_count": 39,
     "metadata": {},
     "output_type": "execute_result"
    },
    {
     "data": {
      "text/html": [
       "<div>\n",
       "<style scoped>\n",
       "    .dataframe tbody tr th:only-of-type {\n",
       "        vertical-align: middle;\n",
       "    }\n",
       "\n",
       "    .dataframe tbody tr th {\n",
       "        vertical-align: top;\n",
       "    }\n",
       "\n",
       "    .dataframe thead th {\n",
       "        text-align: right;\n",
       "    }\n",
       "</style>\n",
       "<table border=\"1\" class=\"dataframe\">\n",
       "  <thead>\n",
       "    <tr style=\"text-align: right;\">\n",
       "      <th></th>\n",
       "      <th>a</th>\n",
       "      <th>b</th>\n",
       "      <th>c</th>\n",
       "      <th>d</th>\n",
       "      <th>e</th>\n",
       "    </tr>\n",
       "  </thead>\n",
       "  <tbody>\n",
       "    <tr>\n",
       "      <th>blue</th>\n",
       "      <td>3</td>\n",
       "      <td>3</td>\n",
       "      <td>3</td>\n",
       "      <td>3</td>\n",
       "      <td>3</td>\n",
       "    </tr>\n",
       "    <tr>\n",
       "      <th>red</th>\n",
       "      <td>2</td>\n",
       "      <td>2</td>\n",
       "      <td>2</td>\n",
       "      <td>2</td>\n",
       "      <td>2</td>\n",
       "    </tr>\n",
       "  </tbody>\n",
       "</table>\n",
       "</div>"
      ],
      "text/plain": [
       "      a  b  c  d  e\n",
       "blue  3  3  3  3  3\n",
       "red   2  2  2  2  2"
      ]
     },
     "execution_count": 39,
     "metadata": {},
     "output_type": "execute_result"
    }
   ],
   "source": [
    "map_series = []\n",
    "for x in mapping:\n",
    "    map_series.append(mapping[x])\n",
    "map_series = pd.Series(map_series, index=people.index)\n",
    "map_series\n",
    "by_column = people.groupby(map_series, axis=0)\n",
    "by_column.count()"
   ]
  },
  {
   "cell_type": "markdown",
   "id": "80d061d1",
   "metadata": {},
   "source": [
    "### 使用函数分组\n",
    "1. 使用函数分组；\n",
    "2. 将函数、字典或Series混合(multi-index)"
   ]
  },
  {
   "cell_type": "code",
   "execution_count": 40,
   "id": "4de56e53",
   "metadata": {
    "ExecuteTime": {
     "end_time": "2022-08-28T03:45:40.882950Z",
     "start_time": "2022-08-28T03:45:40.852033Z"
    }
   },
   "outputs": [
    {
     "data": {
      "text/html": [
       "<div>\n",
       "<style scoped>\n",
       "    .dataframe tbody tr th:only-of-type {\n",
       "        vertical-align: middle;\n",
       "    }\n",
       "\n",
       "    .dataframe tbody tr th {\n",
       "        vertical-align: top;\n",
       "    }\n",
       "\n",
       "    .dataframe thead th {\n",
       "        text-align: right;\n",
       "    }\n",
       "</style>\n",
       "<table border=\"1\" class=\"dataframe\">\n",
       "  <thead>\n",
       "    <tr style=\"text-align: right;\">\n",
       "      <th></th>\n",
       "      <th>a</th>\n",
       "      <th>b</th>\n",
       "      <th>c</th>\n",
       "      <th>d</th>\n",
       "      <th>e</th>\n",
       "    </tr>\n",
       "  </thead>\n",
       "  <tbody>\n",
       "    <tr>\n",
       "      <th>3</th>\n",
       "      <td>3</td>\n",
       "      <td>3</td>\n",
       "      <td>3</td>\n",
       "      <td>3</td>\n",
       "      <td>3</td>\n",
       "    </tr>\n",
       "    <tr>\n",
       "      <th>5</th>\n",
       "      <td>1</td>\n",
       "      <td>1</td>\n",
       "      <td>1</td>\n",
       "      <td>1</td>\n",
       "      <td>1</td>\n",
       "    </tr>\n",
       "    <tr>\n",
       "      <th>6</th>\n",
       "      <td>1</td>\n",
       "      <td>1</td>\n",
       "      <td>1</td>\n",
       "      <td>1</td>\n",
       "      <td>1</td>\n",
       "    </tr>\n",
       "  </tbody>\n",
       "</table>\n",
       "</div>"
      ],
      "text/plain": [
       "   a  b  c  d  e\n",
       "3  3  3  3  3  3\n",
       "5  1  1  1  1  1\n",
       "6  1  1  1  1  1"
      ]
     },
     "execution_count": 40,
     "metadata": {},
     "output_type": "execute_result"
    }
   ],
   "source": [
    "people.groupby(len).count()"
   ]
  },
  {
   "cell_type": "code",
   "execution_count": 41,
   "id": "c6952d6d",
   "metadata": {
    "ExecuteTime": {
     "end_time": "2022-08-28T03:47:17.487286Z",
     "start_time": "2022-08-28T03:47:17.454347Z"
    }
   },
   "outputs": [
    {
     "data": {
      "text/html": [
       "<div>\n",
       "<style scoped>\n",
       "    .dataframe tbody tr th:only-of-type {\n",
       "        vertical-align: middle;\n",
       "    }\n",
       "\n",
       "    .dataframe tbody tr th {\n",
       "        vertical-align: top;\n",
       "    }\n",
       "\n",
       "    .dataframe thead th {\n",
       "        text-align: right;\n",
       "    }\n",
       "</style>\n",
       "<table border=\"1\" class=\"dataframe\">\n",
       "  <thead>\n",
       "    <tr style=\"text-align: right;\">\n",
       "      <th></th>\n",
       "      <th></th>\n",
       "      <th>a</th>\n",
       "      <th>b</th>\n",
       "      <th>c</th>\n",
       "      <th>d</th>\n",
       "      <th>e</th>\n",
       "    </tr>\n",
       "  </thead>\n",
       "  <tbody>\n",
       "    <tr>\n",
       "      <th rowspan=\"2\" valign=\"top\">3</th>\n",
       "      <th>one</th>\n",
       "      <td>2</td>\n",
       "      <td>2</td>\n",
       "      <td>2</td>\n",
       "      <td>2</td>\n",
       "      <td>2</td>\n",
       "    </tr>\n",
       "    <tr>\n",
       "      <th>two</th>\n",
       "      <td>1</td>\n",
       "      <td>1</td>\n",
       "      <td>1</td>\n",
       "      <td>1</td>\n",
       "      <td>1</td>\n",
       "    </tr>\n",
       "    <tr>\n",
       "      <th>5</th>\n",
       "      <th>one</th>\n",
       "      <td>1</td>\n",
       "      <td>1</td>\n",
       "      <td>1</td>\n",
       "      <td>1</td>\n",
       "      <td>1</td>\n",
       "    </tr>\n",
       "    <tr>\n",
       "      <th>6</th>\n",
       "      <th>two</th>\n",
       "      <td>1</td>\n",
       "      <td>1</td>\n",
       "      <td>1</td>\n",
       "      <td>1</td>\n",
       "      <td>1</td>\n",
       "    </tr>\n",
       "  </tbody>\n",
       "</table>\n",
       "</div>"
      ],
      "text/plain": [
       "       a  b  c  d  e\n",
       "3 one  2  2  2  2  2\n",
       "  two  1  1  1  1  1\n",
       "5 one  1  1  1  1  1\n",
       "6 two  1  1  1  1  1"
      ]
     },
     "execution_count": 41,
     "metadata": {},
     "output_type": "execute_result"
    }
   ],
   "source": [
    "key_list = ['one', 'one', 'one', 'two', 'two']\n",
    "people.groupby([len, key_list]).count()"
   ]
  },
  {
   "cell_type": "markdown",
   "id": "4077f334",
   "metadata": {},
   "source": [
    "### 根据索引层级分组 （chap10.1.5）"
   ]
  },
  {
   "cell_type": "code",
   "execution_count": 53,
   "id": "f048b759",
   "metadata": {
    "ExecuteTime": {
     "end_time": "2022-08-28T04:01:05.347267Z",
     "start_time": "2022-08-28T04:01:05.324328Z"
    }
   },
   "outputs": [
    {
     "data": {
      "text/html": [
       "<div>\n",
       "<style scoped>\n",
       "    .dataframe tbody tr th:only-of-type {\n",
       "        vertical-align: middle;\n",
       "    }\n",
       "\n",
       "    .dataframe tbody tr th {\n",
       "        vertical-align: top;\n",
       "    }\n",
       "\n",
       "    .dataframe thead tr th {\n",
       "        text-align: left;\n",
       "    }\n",
       "</style>\n",
       "<table border=\"1\" class=\"dataframe\">\n",
       "  <thead>\n",
       "    <tr>\n",
       "      <th>lower</th>\n",
       "      <th>a</th>\n",
       "      <th>b</th>\n",
       "      <th>c</th>\n",
       "      <th>d</th>\n",
       "      <th>e</th>\n",
       "    </tr>\n",
       "    <tr>\n",
       "      <th>upper</th>\n",
       "      <th>A</th>\n",
       "      <th>A</th>\n",
       "      <th>B</th>\n",
       "      <th>B</th>\n",
       "      <th>A</th>\n",
       "    </tr>\n",
       "  </thead>\n",
       "  <tbody>\n",
       "    <tr>\n",
       "      <th>Joe</th>\n",
       "      <td>-0.038520</td>\n",
       "      <td>1.926220</td>\n",
       "      <td>0.441177</td>\n",
       "      <td>0.075871</td>\n",
       "      <td>0.710816</td>\n",
       "    </tr>\n",
       "    <tr>\n",
       "      <th>Steve</th>\n",
       "      <td>-0.042475</td>\n",
       "      <td>-1.265025</td>\n",
       "      <td>-0.677097</td>\n",
       "      <td>1.701349</td>\n",
       "      <td>0.518029</td>\n",
       "    </tr>\n",
       "    <tr>\n",
       "      <th>Wes</th>\n",
       "      <td>-0.592656</td>\n",
       "      <td>1.482845</td>\n",
       "      <td>0.227322</td>\n",
       "      <td>-0.909180</td>\n",
       "      <td>0.217613</td>\n",
       "    </tr>\n",
       "    <tr>\n",
       "      <th>Jim</th>\n",
       "      <td>0.272681</td>\n",
       "      <td>-0.026829</td>\n",
       "      <td>-1.372775</td>\n",
       "      <td>1.109922</td>\n",
       "      <td>-0.459059</td>\n",
       "    </tr>\n",
       "    <tr>\n",
       "      <th>Travis</th>\n",
       "      <td>-0.542800</td>\n",
       "      <td>0.869408</td>\n",
       "      <td>0.063119</td>\n",
       "      <td>0.932713</td>\n",
       "      <td>-0.393510</td>\n",
       "    </tr>\n",
       "  </tbody>\n",
       "</table>\n",
       "</div>"
      ],
      "text/plain": [
       "lower          a         b         c         d         e\n",
       "upper          A         A         B         B         A\n",
       "Joe    -0.038520  1.926220  0.441177  0.075871  0.710816\n",
       "Steve  -0.042475 -1.265025 -0.677097  1.701349  0.518029\n",
       "Wes    -0.592656  1.482845  0.227322 -0.909180  0.217613\n",
       "Jim     0.272681 -0.026829 -1.372775  1.109922 -0.459059\n",
       "Travis -0.542800  0.869408  0.063119  0.932713 -0.393510"
      ]
     },
     "execution_count": 53,
     "metadata": {},
     "output_type": "execute_result"
    }
   ],
   "source": [
    "people = pd.DataFrame(np.random.randn(5, 5), columns=list(\n",
    "    \"abcde\"), index=['Joe', 'Steve', 'Wes', 'Jim', 'Travis'])\n",
    "people2 = people\n",
    "people2.columns = [people2.columns, list(\"AABBA\")]\n",
    "people2.columns.names = ['lower', 'upper']\n",
    "people2"
   ]
  },
  {
   "cell_type": "code",
   "execution_count": 54,
   "id": "157c6626",
   "metadata": {
    "ExecuteTime": {
     "end_time": "2022-08-28T04:02:21.220326Z",
     "start_time": "2022-08-28T04:02:21.196390Z"
    }
   },
   "outputs": [
    {
     "data": {
      "text/html": [
       "<div>\n",
       "<style scoped>\n",
       "    .dataframe tbody tr th:only-of-type {\n",
       "        vertical-align: middle;\n",
       "    }\n",
       "\n",
       "    .dataframe tbody tr th {\n",
       "        vertical-align: top;\n",
       "    }\n",
       "\n",
       "    .dataframe thead th {\n",
       "        text-align: right;\n",
       "    }\n",
       "</style>\n",
       "<table border=\"1\" class=\"dataframe\">\n",
       "  <thead>\n",
       "    <tr style=\"text-align: right;\">\n",
       "      <th>upper</th>\n",
       "      <th>A</th>\n",
       "      <th>B</th>\n",
       "    </tr>\n",
       "  </thead>\n",
       "  <tbody>\n",
       "    <tr>\n",
       "      <th>Joe</th>\n",
       "      <td>3</td>\n",
       "      <td>2</td>\n",
       "    </tr>\n",
       "    <tr>\n",
       "      <th>Steve</th>\n",
       "      <td>3</td>\n",
       "      <td>2</td>\n",
       "    </tr>\n",
       "    <tr>\n",
       "      <th>Wes</th>\n",
       "      <td>3</td>\n",
       "      <td>2</td>\n",
       "    </tr>\n",
       "    <tr>\n",
       "      <th>Jim</th>\n",
       "      <td>3</td>\n",
       "      <td>2</td>\n",
       "    </tr>\n",
       "    <tr>\n",
       "      <th>Travis</th>\n",
       "      <td>3</td>\n",
       "      <td>2</td>\n",
       "    </tr>\n",
       "  </tbody>\n",
       "</table>\n",
       "</div>"
      ],
      "text/plain": [
       "upper   A  B\n",
       "Joe     3  2\n",
       "Steve   3  2\n",
       "Wes     3  2\n",
       "Jim     3  2\n",
       "Travis  3  2"
      ]
     },
     "execution_count": 54,
     "metadata": {},
     "output_type": "execute_result"
    }
   ],
   "source": [
    "people2.groupby(level='upper', axis=1).count()"
   ]
  },
  {
   "cell_type": "code",
   "execution_count": null,
   "id": "08409d7f",
   "metadata": {},
   "outputs": [],
   "source": []
  }
 ],
 "metadata": {
  "kernelspec": {
   "display_name": "Python 3",
   "language": "python",
   "name": "python3"
  },
  "language_info": {
   "codemirror_mode": {
    "name": "ipython",
    "version": 3
   },
   "file_extension": ".py",
   "mimetype": "text/x-python",
   "name": "python",
   "nbconvert_exporter": "python",
   "pygments_lexer": "ipython3",
   "version": "3.8.8"
  },
  "toc": {
   "base_numbering": 1,
   "nav_menu": {},
   "number_sections": true,
   "sideBar": true,
   "skip_h1_title": false,
   "title_cell": "Table of Contents",
   "title_sidebar": "Contents",
   "toc_cell": false,
   "toc_position": {},
   "toc_section_display": true,
   "toc_window_display": false
  },
  "varInspector": {
   "cols": {
    "lenName": 16,
    "lenType": 16,
    "lenVar": 40
   },
   "kernels_config": {
    "python": {
     "delete_cmd_postfix": "",
     "delete_cmd_prefix": "del ",
     "library": "var_list.py",
     "varRefreshCmd": "print(var_dic_list())"
    },
    "r": {
     "delete_cmd_postfix": ") ",
     "delete_cmd_prefix": "rm(",
     "library": "var_list.r",
     "varRefreshCmd": "cat(var_dic_list()) "
    }
   },
   "types_to_exclude": [
    "module",
    "function",
    "builtin_function_or_method",
    "instance",
    "_Feature"
   ],
   "window_display": false
  }
 },
 "nbformat": 4,
 "nbformat_minor": 5
}
