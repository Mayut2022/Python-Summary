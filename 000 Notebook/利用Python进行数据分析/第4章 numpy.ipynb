{
 "cells": [
  {
   "cell_type": "markdown",
   "id": "027854b0",
   "metadata": {},
   "source": []
  },
  {
   "cell_type": "code",
   "execution_count": 5,
   "id": "66ee9f15",
   "metadata": {},
   "outputs": [],
   "source": [
    "import numpy as np"
   ]
  },
  {
   "cell_type": "markdown",
   "id": "2d4ebdb0",
   "metadata": {},
   "source": [
    "### np.where()\n",
    "> [np.where()的详解及代码应用](https://blog.csdn.net/Kingyanhui/article/details/121385646?ops_request_misc=%257B%2522request%255Fid%2522%253A%2522167280859416800211595437%2522%252C%2522scm%2522%253A%252220140713.130102334..%2522%257D&request_id=167280859416800211595437&biz_id=0&utm_medium=distribute.pc_search_result.none-task-blog-2~all~sobaiduend~default-2-121385646-null-null.142^v68^control,201^v4^add_ask,213^v2^t3_esquery_v3&utm_term=python%20np.where&spm=1018.2226.3001.4187)  \n",
    "\n",
    "> np.where 共两种用法：\n",
    "> 1. np.where(condition, x, y),即condition为条件,当满足条件输出为x,不满足条件则输出y.\n",
    "> 2. np.where(condition),只有条件 (condition)，没有x和y，则输出满足条件元素的坐标."
   ]
  },
  {
   "cell_type": "code",
   "execution_count": 6,
   "id": "54d6aa4b",
   "metadata": {},
   "outputs": [
    {
     "name": "stdout",
     "output_type": "stream",
     "text": [
      "[-1 -1 -1 -1 -1 -1  1  1  1  1]\n"
     ]
    }
   ],
   "source": [
    "a = np.arange(10);a\n",
    "print(np.where(a > 5, 1, -1))"
   ]
  },
  {
   "cell_type": "markdown",
   "id": "7298eb83",
   "metadata": {},
   "source": [
    "### np.logical_and/or/not\n",
    "> np.logical_or 等价于 np.logical_xor\n",
    "\n",
    "> [np.logical_and numpy 官网](https://numpy.org/doc/1.24/reference/generated/numpy.logical_and.html#numpy-logical-and)  \n",
    "> [np.logical_or numpy 官网](https://numpy.org/doc/1.24/reference/generated/numpy.logical_or.html#numpy.logical_or)"
   ]
  },
  {
   "cell_type": "code",
   "execution_count": 7,
   "id": "bcc3aee7",
   "metadata": {},
   "outputs": [
    {
     "data": {
      "text/plain": [
       "array([-1, -1, 10, 10, -1, -1, -1, -1, -1, -1])"
      ]
     },
     "execution_count": 7,
     "metadata": {},
     "output_type": "execute_result"
    }
   ],
   "source": [
    "# 每次只能输入两个条件\n",
    "np.logical_or(a == 2, a == 3)\n",
    "np.where(np.logical_or(a == 2, a == 3), 10, -1)\n"
   ]
  },
  {
   "cell_type": "markdown",
   "id": "2555cc86",
   "metadata": {},
   "source": [
    "1. np.random.seed() 只能在下一次随机数组中起作用，下下次失效"
   ]
  },
  {
   "cell_type": "code",
   "execution_count": null,
   "id": "71c314a5",
   "metadata": {},
   "outputs": [],
   "source": []
  }
 ],
 "metadata": {
  "kernelspec": {
   "display_name": "Python 3 (ipykernel)",
   "language": "python",
   "name": "python3"
  },
  "language_info": {
   "codemirror_mode": {
    "name": "ipython",
    "version": 3
   },
   "file_extension": ".py",
   "mimetype": "text/x-python",
   "name": "python",
   "nbconvert_exporter": "python",
   "pygments_lexer": "ipython3",
   "version": "3.9.12"
  },
  "toc": {
   "base_numbering": 1,
   "nav_menu": {},
   "number_sections": true,
   "sideBar": true,
   "skip_h1_title": false,
   "title_cell": "Table of Contents",
   "title_sidebar": "Contents",
   "toc_cell": false,
   "toc_position": {},
   "toc_section_display": true,
   "toc_window_display": true
  },
  "varInspector": {
   "cols": {
    "lenName": 16,
    "lenType": 16,
    "lenVar": 40
   },
   "kernels_config": {
    "python": {
     "delete_cmd_postfix": "",
     "delete_cmd_prefix": "del ",
     "library": "var_list.py",
     "varRefreshCmd": "print(var_dic_list())"
    },
    "r": {
     "delete_cmd_postfix": ") ",
     "delete_cmd_prefix": "rm(",
     "library": "var_list.r",
     "varRefreshCmd": "cat(var_dic_list()) "
    }
   },
   "types_to_exclude": [
    "module",
    "function",
    "builtin_function_or_method",
    "instance",
    "_Feature"
   ],
   "window_display": false
  },
  "vscode": {
   "interpreter": {
    "hash": "c45877ca8879bd6de1f8ecfa1b07a6092539ffb29764f4d7259821dd181faedb"
   }
  }
 },
 "nbformat": 4,
 "nbformat_minor": 5
}
