{
 "cells": [
  {
   "cell_type": "markdown",
   "id": "746c86e3",
   "metadata": {},
   "source": [
    "## exec eval\n",
    "> "
   ]
  },
  {
   "cell_type": "markdown",
   "id": "84cf384f",
   "metadata": {},
   "source": [
    "### 使用exec循环生成变量"
   ]
  },
  {
   "cell_type": "code",
   "execution_count": 1,
   "id": "7290fb37",
   "metadata": {
    "ExecuteTime": {
     "end_time": "2022-06-19T05:13:44.189790Z",
     "start_time": "2022-06-19T05:13:44.038433Z"
    }
   },
   "outputs": [],
   "source": [
    "import netCDF4 as nc\n",
    "import numpy as np\n",
    "\n",
    "\n",
    "for k in range(1,6):\n",
    "    exec(f'SOS_m{k}=np.random.random((542,962))')\n",
    "    exec(f'EOS_m{k}=np.random.random((542,962))')"
   ]
  },
  {
   "cell_type": "code",
   "execution_count": 3,
   "id": "031b916b",
   "metadata": {
    "ExecuteTime": {
     "end_time": "2022-06-19T05:16:52.041647Z",
     "start_time": "2022-06-19T05:16:51.986363Z"
    }
   },
   "outputs": [],
   "source": [
    "'''生成新的nc文件'''\n",
    "new_NC = nc.Dataset(r\"D:\\study\\TEST_test.nc\", 'w', format='NETCDF4')\n",
    "\n",
    "new_NC.createDimension('lat', 542)\n",
    "new_NC.createDimension('lon', 962)\n",
    "\n",
    "\n",
    "for k in range(1,6):\n",
    "    new_NC.createVariable('SOS_m%d' %k, 'f', (\"lat\",\"lon\"))\n",
    "    new_NC.createVariable('EOS_m%d' %k, 'f', (\"lat\",\"lon\"))\n",
    "    \n",
    "    var1=str('SOS_m')+str(k)\n",
    "    var2=str('EOS_m')+str(k)\n",
    "    \n",
    "    new_NC.variables['SOS_m%d' %k][:]=eval(var1)\n",
    "    new_NC.variables['EOS_m%d' %k][:]=eval(var2)\n",
    "    \n",
    "\n",
    "#最后记得关闭文件\n",
    "new_NC.close()\n"
   ]
  },
  {
   "cell_type": "markdown",
   "id": "360f35d8",
   "metadata": {},
   "source": [
    "### exec eval 区别：\n",
    "1. Exec与Eval语句的主要区别是，Exec处理字符串里面的代码，而Eval是处理字符串里面的表达式。\n",
    "2. Exec没有返回值，Eval有返回值"
   ]
  },
  {
   "cell_type": "code",
   "execution_count": 14,
   "id": "73242c8c",
   "metadata": {
    "ExecuteTime": {
     "end_time": "2022-06-19T05:23:44.434540Z",
     "start_time": "2022-06-19T05:23:44.414625Z"
    }
   },
   "outputs": [
    {
     "name": "stdout",
     "output_type": "stream",
     "text": [
      "hhhhhhhh\n",
      "None exec returns none type! \n",
      "14\n"
     ]
    }
   ],
   "source": [
    "exec(\"print('hhhhhhhh')\")\n",
    "a = exec(\"5+9\")\n",
    "print(a, 'exec returns none type! ')\n",
    "b = eval(\"5+9\")\n",
    "print(b)"
   ]
  },
  {
   "cell_type": "markdown",
   "id": "3c178ea5",
   "metadata": {},
   "source": [
    "### 函数内部的exec和eval\n",
    "> exec 里面的变量不能保存在locals，有解决方法；[CSDN 讲解](https://blog.csdn.net/m0_60862600/article/details/125002232)\n",
    "\n",
    "> eval里面的变量可以保存在local;"
   ]
  },
  {
   "cell_type": "code",
   "execution_count": 23,
   "id": "2e630869",
   "metadata": {},
   "outputs": [
    {
     "name": "stdout",
     "output_type": "stream",
     "text": [
      "{'c': 4, 'a': 3, 'd': 10}\n",
      "{'c': 4, 'a': 3, 'd': 10, 'aa': 3, 'dd': 3}\n",
      "10\n"
     ]
    }
   ],
   "source": [
    "def func2():\n",
    "    c = 4\n",
    "\n",
    "    exec(f'a=3')\n",
    "    exec(f'd=10')\n",
    "    print(locals())\n",
    "\n",
    "    aa, dd = locals()['a'], locals()['a']\n",
    "    print(locals())\n",
    "    exec(\"print(d)\")\n",
    "    # print(b)\n",
    "    return c, c, dd\n",
    "\n",
    "num = func2()\n"
   ]
  },
  {
   "cell_type": "code",
   "execution_count": null,
   "id": "ebd45630",
   "metadata": {},
   "outputs": [],
   "source": []
  },
  {
   "cell_type": "code",
   "execution_count": null,
   "id": "150a3fb8",
   "metadata": {},
   "outputs": [],
   "source": []
  }
 ],
 "metadata": {
  "kernelspec": {
   "display_name": "Python 3 (ipykernel)",
   "language": "python",
   "name": "python3"
  },
  "language_info": {
   "codemirror_mode": {
    "name": "ipython",
    "version": 3
   },
   "file_extension": ".py",
   "mimetype": "text/x-python",
   "name": "python",
   "nbconvert_exporter": "python",
   "pygments_lexer": "ipython3",
   "version": "3.9.12"
  },
  "toc": {
   "base_numbering": 1,
   "nav_menu": {},
   "number_sections": true,
   "sideBar": true,
   "skip_h1_title": false,
   "title_cell": "Table of Contents",
   "title_sidebar": "Contents",
   "toc_cell": false,
   "toc_position": {},
   "toc_section_display": true,
   "toc_window_display": false
  },
  "varInspector": {
   "cols": {
    "lenName": 16,
    "lenType": 16,
    "lenVar": 40
   },
   "kernels_config": {
    "python": {
     "delete_cmd_postfix": "",
     "delete_cmd_prefix": "del ",
     "library": "var_list.py",
     "varRefreshCmd": "print(var_dic_list())"
    },
    "r": {
     "delete_cmd_postfix": ") ",
     "delete_cmd_prefix": "rm(",
     "library": "var_list.r",
     "varRefreshCmd": "cat(var_dic_list()) "
    }
   },
   "types_to_exclude": [
    "module",
    "function",
    "builtin_function_or_method",
    "instance",
    "_Feature"
   ],
   "window_display": true
  },
  "vscode": {
   "interpreter": {
    "hash": "c45877ca8879bd6de1f8ecfa1b07a6092539ffb29764f4d7259821dd181faedb"
   }
  }
 },
 "nbformat": 4,
 "nbformat_minor": 5
}
