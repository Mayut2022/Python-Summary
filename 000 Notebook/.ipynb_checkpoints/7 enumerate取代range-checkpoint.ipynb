{
 "cells": [
  {
   "cell_type": "markdown",
   "id": "4058b826",
   "metadata": {},
   "source": [
    "> f {} 代表格式化输出"
   ]
  },
  {
   "cell_type": "code",
   "execution_count": 1,
   "id": "69e5983d",
   "metadata": {
    "ExecuteTime": {
     "end_time": "2022-07-01T08:32:38.542315Z",
     "start_time": "2022-07-01T08:32:38.530315Z"
    }
   },
   "outputs": [],
   "source": [
    "mvp_list = ['Russell', 'Westbrook', 'Kyrie', 'ChaiRongfan']"
   ]
  },
  {
   "cell_type": "code",
   "execution_count": 3,
   "id": "2bd9073e",
   "metadata": {
    "ExecuteTime": {
     "end_time": "2022-07-01T08:33:47.004835Z",
     "start_time": "2022-07-01T08:33:46.987787Z"
    }
   },
   "outputs": [
    {
     "name": "stdout",
     "output_type": "stream",
     "text": [
      "mvp list 0: Russell\n",
      "mvp list 1: Westbrook\n",
      "mvp list 2: Kyrie\n",
      "mvp list 3: ChaiRongfan\n"
     ]
    }
   ],
   "source": [
    "for i,x in enumerate(mvp_list):\n",
    "    print(f'mvp list {i}: {x}')"
   ]
  },
  {
   "cell_type": "code",
   "execution_count": null,
   "id": "79df3af2",
   "metadata": {},
   "outputs": [],
   "source": []
  }
 ],
 "metadata": {
  "kernelspec": {
   "display_name": "Python 3 (ipykernel)",
   "language": "python",
   "name": "python3"
  },
  "language_info": {
   "codemirror_mode": {
    "name": "ipython",
    "version": 3
   },
   "file_extension": ".py",
   "mimetype": "text/x-python",
   "name": "python",
   "nbconvert_exporter": "python",
   "pygments_lexer": "ipython3",
   "version": "3.9.12"
  },
  "toc": {
   "base_numbering": 1,
   "nav_menu": {},
   "number_sections": true,
   "sideBar": true,
   "skip_h1_title": false,
   "title_cell": "Table of Contents",
   "title_sidebar": "Contents",
   "toc_cell": false,
   "toc_position": {},
   "toc_section_display": true,
   "toc_window_display": false
  },
  "varInspector": {
   "cols": {
    "lenName": 16,
    "lenType": 16,
    "lenVar": 40
   },
   "kernels_config": {
    "python": {
     "delete_cmd_postfix": "",
     "delete_cmd_prefix": "del ",
     "library": "var_list.py",
     "varRefreshCmd": "print(var_dic_list())"
    },
    "r": {
     "delete_cmd_postfix": ") ",
     "delete_cmd_prefix": "rm(",
     "library": "var_list.r",
     "varRefreshCmd": "cat(var_dic_list()) "
    }
   },
   "types_to_exclude": [
    "module",
    "function",
    "builtin_function_or_method",
    "instance",
    "_Feature"
   ],
   "window_display": false
  }
 },
 "nbformat": 4,
 "nbformat_minor": 5
}
