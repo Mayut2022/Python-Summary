{
 "cells": [
  {
   "cell_type": "markdown",
   "id": "056597a3",
   "metadata": {},
   "source": [
    "### 解压文件import的库取决于需要解压的文件的后缀名\n",
    "> gz文件\n",
    ">\n",
    "> 批量解压.gz文件\n",
    ">\n",
    "> zip文件\n"
   ]
  },
  {
   "cell_type": "code",
   "execution_count": null,
   "id": "742d5c9b",
   "metadata": {},
   "outputs": [],
   "source": [
    "import gzip\n",
    " \n",
    "def un_gz(file_name):\n",
    "    \n",
    "    # 获取文件的名称，去掉后缀名\n",
    "    f_name = file_name.replace(\".gz\", \"\")\n",
    "    # 开始解压\n",
    "    g_file = gzip.GzipFile(file_name)\n",
    "    #读取解压后的文件，并写入去掉后缀名的同名文件（即得到解压后的文件）\n",
    "    open(f_name, \"wb+\").write(g_file.read())\n",
    "    g_file.close()\n",
    "    \n",
    "zip_src='D:/study/Gosif_Data/2004/GOSIF_2004001.tif.gz'\n",
    "un_gz(zip_src)"
   ]
  },
  {
   "cell_type": "code",
   "execution_count": null,
   "id": "4dbbf38e",
   "metadata": {},
   "outputs": [],
   "source": [
    "import sys\n",
    "import gzip\n",
    "import os\n",
    "\n",
    "def process_dataset(path):\n",
    "    # path = 'G:/DeepLearning/data/'\n",
    "    if os.path.exists(path):\n",
    "        # os.system('cd G:/DeepLearning/data/')\n",
    "        # path = os.getcwd()\n",
    "        dirs = os.listdir(path)\n",
    "        # print(dirs)\n",
    "        for dir in dirs:\n",
    "            if '.gz' in dir:\n",
    "                # print(dir)\n",
    "                filename = dir.replace(\".gz\",\"\")\n",
    "                gzip_file = gzip.GzipFile(path+dir)\n",
    "                # print(gzip_file)\n",
    "                # print(filename)\n",
    "                with open(path+filename,'wb+') as f:\n",
    "                    f.write(gzip_file.read())\n",
    "\n",
    "if __name__ == '__main__':\n",
    "    for yr in range(2009,2020):\n",
    "        process_dataset(path='D:/study/Gosif_Data/%d/' %yr)"
   ]
  }
 ],
 "metadata": {
  "kernelspec": {
   "display_name": "Python 3",
   "language": "python",
   "name": "python3"
  },
  "language_info": {
   "codemirror_mode": {
    "name": "ipython",
    "version": 3
   },
   "file_extension": ".py",
   "mimetype": "text/x-python",
   "name": "python",
   "nbconvert_exporter": "python",
   "pygments_lexer": "ipython3",
   "version": "3.8.8"
  },
  "varInspector": {
   "cols": {
    "lenName": 16,
    "lenType": 16,
    "lenVar": 40
   },
   "kernels_config": {
    "python": {
     "delete_cmd_postfix": "",
     "delete_cmd_prefix": "del ",
     "library": "var_list.py",
     "varRefreshCmd": "print(var_dic_list())"
    },
    "r": {
     "delete_cmd_postfix": ") ",
     "delete_cmd_prefix": "rm(",
     "library": "var_list.r",
     "varRefreshCmd": "cat(var_dic_list()) "
    }
   },
   "types_to_exclude": [
    "module",
    "function",
    "builtin_function_or_method",
    "instance",
    "_Feature"
   ],
   "window_display": false
  }
 },
 "nbformat": 4,
 "nbformat_minor": 5
}
