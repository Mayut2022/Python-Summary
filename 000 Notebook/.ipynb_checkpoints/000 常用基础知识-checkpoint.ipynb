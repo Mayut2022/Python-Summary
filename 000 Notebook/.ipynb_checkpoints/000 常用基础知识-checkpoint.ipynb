{
 "cells": [
  {
   "cell_type": "markdown",
   "id": "9281e636",
   "metadata": {},
   "source": [
    "# 正斜杠反斜杠\n",
    "> **正斜杠 / 向前，反斜杠 \\ 向后，键盘中正下反上**  \n",
    "正斜杠 / 在文件路径中用于分隔目录和文件名，从左向右表示路径的方向。而反斜杠 \\ 在转义字符和特定操作系统（如Windows）的文件路径中用于转义和分隔，从右向左表示路径的方向。\n",
    "\n",
    "> **正斜杠 /**  \n",
    "> 1. 除法运算符  \n",
    "> 2. 路径分隔符  \n",
    "\n",
    "> **反斜杠 \\**  \n",
    "> 1. 行续符  \n",
    "> 2. 转义字符：反斜杠用作转义字符，用于表示特殊字符或字符序列。在字符串前面加上前缀 r（如 r\"...\"）可以创建原始字符串，其中转义字符不会被解释。例如，r\"\\n\" 表示一个字符串，而不是一个换行符。"
   ]
  },
  {
   "cell_type": "markdown",
   "id": "a86ceccb",
   "metadata": {},
   "source": [
    "## 行续符"
   ]
  },
  {
   "cell_type": "code",
   "execution_count": 1,
   "id": "1780e7d5",
   "metadata": {
    "ExecuteTime": {
     "end_time": "2024-01-06T12:53:56.755401Z",
     "start_time": "2024-01-06T12:53:56.746684Z"
    }
   },
   "outputs": [
    {
     "name": "stdout",
     "output_type": "stream",
     "text": [
      "210\n",
      "Hello, how are you?\n"
     ]
    }
   ],
   "source": [
    "# 示例 1:\n",
    "total = 10 + 20 + 30 + \\\n",
    "        40 + 50 + 60\n",
    "print(total)\n",
    "# 输出：210\n",
    "\n",
    "# 示例 2:\n",
    "message = \"Hello, \" \\\n",
    "          \"how are you?\"\n",
    "print(message)\n",
    "# 输出：Hello, how are you?"
   ]
  },
  {
   "cell_type": "markdown",
   "id": "ff213c0d",
   "metadata": {},
   "source": [
    "## 常用转义字符\n",
    "1. \\\\：反斜杠，用于表示一个反斜杠字符。\n",
    "2. \\'：单引号，用于表示一个单引号字符。\n",
    "3. \\\"：双引号，用于表示一个双引号字符。\n",
    "4. \\n：换行符，用于在字符串中创建一个新行。\n",
    "5. \\t：制表符，用于在字符串中创建一个制表符（水平制表）。\n",
    "6. \\r：回车符，用于在字符串中创建一个回车。\n",
    "7. \\b：退格符，用于在字符串中创建一个退格（删除前一个字符）。\n",
    "8. \\f：换页符，用于在字符串中创建一个换页符。"
   ]
  },
  {
   "cell_type": "code",
   "execution_count": null,
   "id": "13ba9a29",
   "metadata": {},
   "outputs": [],
   "source": [
    "print(\"Hello\\nWorld\")\n",
    "# 输出：\n",
    "# Hello\n",
    "# World\n",
    "\n"
   ]
  }
 ],
 "metadata": {
  "kernelspec": {
   "display_name": "Python 3 (ipykernel)",
   "language": "python",
   "name": "python3"
  },
  "language_info": {
   "codemirror_mode": {
    "name": "ipython",
    "version": 3
   },
   "file_extension": ".py",
   "mimetype": "text/x-python",
   "name": "python",
   "nbconvert_exporter": "python",
   "pygments_lexer": "ipython3",
   "version": "3.9.12"
  },
  "toc": {
   "base_numbering": 1,
   "nav_menu": {},
   "number_sections": true,
   "sideBar": true,
   "skip_h1_title": false,
   "title_cell": "Table of Contents",
   "title_sidebar": "Contents",
   "toc_cell": false,
   "toc_position": {},
   "toc_section_display": true,
   "toc_window_display": false
  },
  "varInspector": {
   "cols": {
    "lenName": 16,
    "lenType": 16,
    "lenVar": 40
   },
   "kernels_config": {
    "python": {
     "delete_cmd_postfix": "",
     "delete_cmd_prefix": "del ",
     "library": "var_list.py",
     "varRefreshCmd": "print(var_dic_list())"
    },
    "r": {
     "delete_cmd_postfix": ") ",
     "delete_cmd_prefix": "rm(",
     "library": "var_list.r",
     "varRefreshCmd": "cat(var_dic_list()) "
    }
   },
   "types_to_exclude": [
    "module",
    "function",
    "builtin_function_or_method",
    "instance",
    "_Feature"
   ],
   "window_display": false
  }
 },
 "nbformat": 4,
 "nbformat_minor": 5
}
